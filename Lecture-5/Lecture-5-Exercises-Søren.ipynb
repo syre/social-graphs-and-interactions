{
 "metadata": {
  "name": "",
  "signature": "sha256:4f0826c19274b1a8e4b8cebf24d102031c531edbd9878514de7d9fa5ae06aa69"
 },
 "nbformat": 3,
 "nbformat_minor": 0,
 "worksheets": [
  {
   "cells": [
    {
     "cell_type": "markdown",
     "metadata": {},
     "source": [
      "####Describe in your own words the generative approach to classification. Describe the discriminative approach? Constrast the two.\n",
      "\n",
      "\n",
      "\n"
     ]
    },
    {
     "cell_type": "markdown",
     "metadata": {},
     "source": [
      "The generative approach uses the joint probability distribution and models the exact distribution of each class, the discriminative approach uses the conditional probability distribution and models the differences between the classes. Thus the generative can be used to answer questions on the probability of getting some input."
     ]
    },
    {
     "cell_type": "markdown",
     "metadata": {},
     "source": [
      "####Make a small example on paper (say 2 features, 3 training examples and 1 test example) and go through the training and testing steps for the two classifiers we have learned about in chapter 6. "
     ]
    },
    {
     "cell_type": "markdown",
     "metadata": {},
     "source": [
      "Na\u00efve bayes and Maximum Entropy classifiers:\n",
      "\n",
      "Training examples:\n",
      "<table>\n",
      "  <tr>\n",
      "  <td><b>Color</b></td>\n",
      "  <td><b>Size</b></td>\n",
      "  <td><b>Class</b></td>\n",
      "  </tr>\n",
      "  <tr>\n",
      "    <td>Red</td>\n",
      "    <td>Medium</td>\n",
      "    <td>Apple</td>\n",
      "  </tr>\n",
      "    <tr>\n",
      "    <td>Green</td>\n",
      "    <td>Large</td>\n",
      "    <td>Pear</td>\n",
      "  </tr>\n",
      "    <tr>\n",
      "    <td>Green</td>\n",
      "    <td>Medium</td>\n",
      "    <td>Apple</td>\n",
      "  </tr>\n",
      "</table>\n",
      "\n",
      "Test Example:\n",
      "<table>\n",
      "  <tr>\n",
      "  <td><b>Color</b></td>\n",
      "  <td><b>Size</b></td>\n",
      "  </tr>\n",
      "  <tr>\n",
      "    <tr>\n",
      "    <td>Green</td>\n",
      "    <td>Large</td>\n",
      "  </tr>\n",
      "</table>\n",
      "\n",
      "####Na\u00efve bayes:\n",
      "\n",
      "Prior probabilities:\n",
      "* Apple: 2/3\n",
      "* Pear: 1/3\n",
      "\n",
      "Feature contributions and Label Likelihoods:\n",
      "* (Apple, Green, Medium) = 2/3 x 0.5 x 1 = 2/6\n",
      "* (Apple, Red, Medium) = 2/3 x 0.5 x 1 = 2/6\n",
      "* (Apple, Green, Large) = 2/3 x 0.5 x 0 = 0\n",
      "* (Apple, Red, Large) = 2/3 x 0.5 x 0 = 0\n",
      "* (Pear, Green, Medium) = 1/3 x 1 x 0 = 0\n",
      "* (Pear, Red, Medium) = 1/3 x 0 x 0 = 0\n",
      "* (Pear, Green, Large) = 1/3 x 1 x 1 = 1/3\n",
      "* (Pear, Red, Large) = 1/3 x 0 x 1 = 0\n",
      "\n",
      "#### Maximum Entropy:\n",
      "<table>\n",
      "  <tr>\n",
      "  <td><b>Apple</b></td>\n",
      "  <td><b>Pear</b></td>\n",
      "  </tr>\n",
      "  <tr>\n",
      "    <tr>\n",
      "    <td>50%</td>\n",
      "    <td>50%</td>\n",
      "  </tr>\n",
      "</table>\n",
      "\n",
      "P(input,label)= PROD joint_features(input,label) W[joint_features]"
     ]
    },
    {
     "cell_type": "markdown",
     "metadata": {},
     "source": [
      "####In the exercises last week you answered Choosing the Right Features in relation to what makes a \u201cgood\u201d tweet. (We defined a good tweet as one having more than 10 retweets.) Take the list of features you came up with and divide into categories that: has to do with properties of the user who posted the tweet, has to do with the word content and has to do with other content."
     ]
    },
    {
     "cell_type": "markdown",
     "metadata": {},
     "source": [
      "Word content:\n",
      "* Number of words\n",
      "* Language of the tweet\n",
      "* Sentiment of words in tweet\n",
      "* Number of hashtags\n",
      "* Popularity of hashtags\n",
      "* Is the tweet posed as a question\n",
      "* Number of uppercase letters\n",
      "\n",
      "\n",
      "Tweet user:\n",
      "* Number of followers for the user who tweeted\n",
      "\n",
      "Other:\n",
      "* Time of tweet\n",
      "* If the tweet contains a link (and where does the link go?)\n",
      "* Media content (videos, pictures)"
     ]
    },
    {
     "cell_type": "markdown",
     "metadata": {},
     "source": [
      "####What do you think will be most informative and how would you go about encoding these features?"
     ]
    },
    {
     "cell_type": "markdown",
     "metadata": {},
     "source": [
      "* Number of uppercase-letters - a high number of uppercase letters is considered aggressive and should be avoided\n",
      "* Number and Popularity of hashtags - more popular would be better and more widespread\n",
      "* If tweet contains a link - an interesting link could improve the tweet\n",
      "* Does the tweet contain Media content (videos, pictures)"
     ]
    },
    {
     "cell_type": "markdown",
     "metadata": {},
     "source": [
      "####What is the danger of using very high dimensional features? "
     ]
    },
    {
     "cell_type": "markdown",
     "metadata": {},
     "source": [
      "The Curse of Dimensionality: The volume of space increases such that the available data becomes sparse.\n",
      "\n",
      "[This](http://www.quora.com/What-is-the-curse-of-dimensionality) provides a good analogy."
     ]
    },
    {
     "cell_type": "markdown",
     "metadata": {},
     "source": [
      "####You have already selected a personality of your bot so it is natural that at least some of the retweets that your bot makes will fit the personality. Select some hashtags that fits this personality.\n",
      "\n",
      "\n",
      "\n"
     ]
    },
    {
     "cell_type": "markdown",
     "metadata": {},
     "source": [
      "\\#Chicago, \\#Bulls, \\#ChicagoBulls, \\#Horses, \\#Coldplay, \\#foodie, \\#travelling"
     ]
    },
    {
     "cell_type": "markdown",
     "metadata": {},
     "source": [
      "####Collect tweets that match one or more of these hashtags. These tweets will be used as a training set when we want to predict good and bad tweets. We will use last week\u2019s definition of good as more than 10 retweets. The tweets we collect must be old enough that they have had time to more or less prove their potential. The training set should contain at least 1000 tweets."
     ]
    },
    {
     "cell_type": "markdown",
     "metadata": {},
     "source": [
      "####Extract the following features for each tweet: the number of followers of the user who posted the tweet, the age of the user account, the number of links in the tweet, the number of words in the tweet, the number of hashtags in the tweet.\n"
     ]
    },
    {
     "cell_type": "markdown",
     "metadata": {},
     "source": [
      "####Discuss why we do not use the number of retweets as a feature?"
     ]
    },
    {
     "cell_type": "markdown",
     "metadata": {},
     "source": [
      "* Retweets are higher based on number of followers and not how good the tweet is, so far we've been retweeting a lot of popular celebrities because they have a high retweet count, but the content in their tweets are unfamiliar or without context to us"
     ]
    },
    {
     "cell_type": "markdown",
     "metadata": {},
     "source": [
      "####Do you think a classifier trained on these features will be good at classifying tweets only from within the topic defined by the hashtags?"
     ]
    },
    {
     "cell_type": "markdown",
     "metadata": {},
     "source": [
      "A lot of the hashtags we have defined include topics which tend to be image-heavy like travelling or foodie or perhaps horses so the feature of \"includes media\" would be applicable there.\n",
      "\n",
      "\\#Coldplay could be reliant on links, words such as bandmembers names and music related keywords (concert, venue). \n",
      "\n",
      "\\#ChicagoBulls could be reliant on words such as top players, teamnames. \n",
      "\n",
      "\\#Chicago could be reliant on words such as names of local chicago monuments, events, celebrations\n",
      "\n",
      "The number of words in the tweet is general and should be relevant.\n",
      "\n",
      "The number of links and/or hashtags is also relevant based on our evaluation in the top.\n",
      "\n",
      "The age of the user account is not relevant for us, if the user account is old and is still tweeting it could indicate an experienced twitter user, but the usefulness of that information we feel is limited.\n",
      "\n",
      "The number of followers could very possibly be relevant since a user outputting a large number of high quality tweets would have more followers, but there's a host of other reasons why he could have a large amount of followers.\n"
     ]
    },
    {
     "cell_type": "markdown",
     "metadata": {},
     "source": [
      "####Split the training set randomly into 50% for training and 50% for testing. Train both a na\u00efve Bayes classifier and a maximum entropy classifier. Report training and test performance. Assuming independent errors then according to the binomial distribution the standard deviation of the error is given by sqrt(e*(1-e)/Ntest), where e is the error rate and Ntest is the number of test example. Do you think that the difference in error you observe is significant?"
     ]
    },
    {
     "cell_type": "markdown",
     "metadata": {},
     "source": [
      "####Now we have a system to select tweets to retweet and we can run A/B testing to see whether it works in practice. You will retweet twice per day, selecting from the tweets you received in the previous 24 hours. One tweet is the tweet you receive that is predicted to have the highest probability of being good and the second is the tweet with the highest number of retweets. (Make a rule for the case where these two are the same.) You should set up a system to see how many of your followers who retweet your retweets of the two types. Again, think about the timing of retweeting.  "
     ]
    },
    {
     "cell_type": "code",
     "collapsed": false,
     "input": [],
     "language": "python",
     "metadata": {},
     "outputs": []
    }
   ],
   "metadata": {}
  }
 ]
}