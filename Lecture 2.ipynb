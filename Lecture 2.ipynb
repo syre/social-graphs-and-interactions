{
 "metadata": {
  "name": "",
  "signature": "sha256:0b85b21cb8bedd6653dd676a1927889b698ac5f47843eafab0c387f299b78204"
 },
 "nbformat": 3,
 "nbformat_minor": 0,
 "worksheets": [
  {
   "cells": [
    {
     "cell_type": "heading",
     "level": 1,
     "metadata": {},
     "source": [
      "NLTK"
     ]
    },
    {
     "cell_type": "code",
     "collapsed": false,
     "input": [
      "#import nltk\n",
      "#nltk.download()"
     ],
     "language": "python",
     "metadata": {},
     "outputs": [
      {
       "output_type": "stream",
       "stream": "stdout",
       "text": [
        "showing info http://nltk.github.com/nltk_data/\n"
       ]
      },
      {
       "metadata": {},
       "output_type": "pyout",
       "prompt_number": 1,
       "text": [
        "True"
       ]
      }
     ],
     "prompt_number": 1
    },
    {
     "cell_type": "code",
     "collapsed": false,
     "input": [
      "from nltk.book import *"
     ],
     "language": "python",
     "metadata": {},
     "outputs": [
      {
       "output_type": "stream",
       "stream": "stdout",
       "text": [
        "*** Introductory Examples for the NLTK Book ***\n",
        "Loading text1, ..., text9 and sent1, ..., sent9\n",
        "Type the name of the text or sentence to view it.\n",
        "Type: 'texts()' or 'sents()' to list the materials.\n",
        "text1:"
       ]
      },
      {
       "output_type": "stream",
       "stream": "stdout",
       "text": [
        " Moby Dick by Herman Melville 1851\n",
        "text2:"
       ]
      },
      {
       "output_type": "stream",
       "stream": "stdout",
       "text": [
        " Sense and Sensibility by Jane Austen 1811\n",
        "text3:"
       ]
      },
      {
       "output_type": "stream",
       "stream": "stdout",
       "text": [
        " The Book of Genesis\n",
        "text4:"
       ]
      },
      {
       "output_type": "stream",
       "stream": "stdout",
       "text": [
        " Inaugural Address Corpus\n",
        "text5:"
       ]
      },
      {
       "output_type": "stream",
       "stream": "stdout",
       "text": [
        " Chat Corpus\n",
        "text6:"
       ]
      },
      {
       "output_type": "stream",
       "stream": "stdout",
       "text": [
        " Monty Python and the Holy Grail\n",
        "text7:"
       ]
      },
      {
       "output_type": "stream",
       "stream": "stdout",
       "text": [
        " Wall Street Journal\n",
        "text8: Personals Corpus\n",
        "text9:"
       ]
      },
      {
       "output_type": "stream",
       "stream": "stdout",
       "text": [
        " The Man Who Was Thursday by G . K . Chesterton 1908\n"
       ]
      }
     ],
     "prompt_number": 2
    },
    {
     "cell_type": "code",
     "collapsed": false,
     "input": [
      "text1.concordance(\"monstrous\")"
     ],
     "language": "python",
     "metadata": {},
     "outputs": [
      {
       "output_type": "stream",
       "stream": "stdout",
       "text": [
        "Displaying 11 of 11 matches:\n",
        "ong the former , one was of a most monstrous size . ... This came towards us , \n",
        "ON OF THE PSALMS . \" Touching that monstrous bulk of the whale or ork we have r\n",
        "ll over with a heathenish array of monstrous clubs and spears . Some were thick\n",
        "d as you gazed , and wondered what monstrous cannibal and savage could ever hav\n",
        "that has survived the flood ; most monstrous and most mountainous ! That Himmal\n",
        "they might scout at Moby Dick as a monstrous fable , or still worse and more de\n",
        "th of Radney .'\" CHAPTER 55 Of the Monstrous Pictures of Whales . I shall ere l\n",
        "ing Scenes . In connexion with the monstrous pictures of whales , I am strongly\n",
        "ere to enter upon those still more monstrous stories of them which are to be fo\n",
        "ght have been rummaged out of this monstrous cabinet there is no telling . But \n",
        "of Whale - Bones ; for Whales of a monstrous size are oftentimes cast up dead u\n"
       ]
      }
     ],
     "prompt_number": 3
    },
    {
     "cell_type": "code",
     "collapsed": false,
     "input": [
      "text1.similar(\"monstrous\")"
     ],
     "language": "python",
     "metadata": {},
     "outputs": [
      {
       "output_type": "stream",
       "stream": "stdout",
       "text": [
        "imperial subtly impalpable pitiable curious abundant perilous\n",
        "trustworthy untoward singular lamentable few determined maddens\n",
        "horrible tyrannical lazy mystifying christian exasperate\n"
       ]
      }
     ],
     "prompt_number": 4
    },
    {
     "cell_type": "heading",
     "level": 1,
     "metadata": {},
     "source": [
      "Exercise 1"
     ]
    },
    {
     "cell_type": "heading",
     "level": 2,
     "metadata": {},
     "source": [
      "Example 1.5 in book:"
     ]
    },
    {
     "cell_type": "code",
     "collapsed": false,
     "input": [
      "import twitter\n",
      "import json\n",
      "\n",
      "CONSUMER_KEY = 'dBzN5LgoHAZfC5cQK7ItOwHRi' #API key\n",
      "CONSUMER_SECRET = '1keiti4AmqArm6Quumpmq2fW19YFwoOUmd023xb5lf6fof3Eh4' #API secret key\n",
      "OAUTH_TOKEN = '2787905696-YNEKdOUnD3nXPWUHopY2nDNPfYIfJkMkLh5vxsC'  #Access token\n",
      "OAUTH_TOKEN_SECRET = '85kXzVNoIZ2O9s8nxwPLWbcap6lc1VfXn1HHl6PYkl0Tr' #access token secret\n",
      "\n",
      "auth = twitter.oauth.OAuth(OAUTH_TOKEN, OAUTH_TOKEN_SECRET, CONSUMER_KEY, CONSUMER_SECRET)\n",
      "twitter_api = twitter.Twitter(auth=auth)\n",
      "\n",
      "print twitter_api\n",
      "\n",
      "q= '#MTVEMA'\n",
      "count = 100\n",
      "search_results = twitter_api.search.tweets(q=q, count=count)\n",
      "statuses = search_results['statuses']\n",
      "\n",
      "for _ in range(5):\n",
      "    print \"Length of statuses\", len(statuses)\n",
      "    try:\n",
      "        next_results = search_results['search_metadata']['next_results']\n",
      "    except KeyError, e:\n",
      "        break\n",
      "    \n",
      "    kwargs = dict([kv.split('=') for kv in next_results[1:].split(\"&\")])\n",
      "    \n",
      "    search_results = twitter_api.search.tweets(**kwargs)\n",
      "    statuses += search_results['statuses']\n",
      "    \n",
      "print json.dumps(statuses[0], indent=1)"
     ],
     "language": "python",
     "metadata": {},
     "outputs": [
      {
       "output_type": "stream",
       "stream": "stdout",
       "text": [
        "<twitter.api.Twitter object at 0x02DE56B0>\n",
        "Length of statuses"
       ]
      },
      {
       "output_type": "stream",
       "stream": "stdout",
       "text": [
        " 100\n",
        "Length of statuses"
       ]
      },
      {
       "output_type": "stream",
       "stream": "stdout",
       "text": [
        " 200\n",
        "Length of statuses"
       ]
      },
      {
       "output_type": "stream",
       "stream": "stdout",
       "text": [
        " 206\n",
        "{\n",
        " \"contributors\": null, \n",
        " \"truncated\": false, \n",
        " \"text\": \"i must confess you lookin fresh #MTVEMA #NominateFifthHarmony\", \n",
        " \"in_reply_to_status_id\": null, \n",
        " \"id\": 509642020797702144, \n",
        " \"favorite_count\": 0, \n",
        " \"source\": \"<a href=\\\"https://about.twitter.com/products/tweetdeck\\\" rel=\\\"nofollow\\\">TweetDeck</a>\", \n",
        " \"retweeted\": false, \n",
        " \"coordinates\": null, \n",
        " \"entities\": {\n",
        "  \"symbols\": [], \n",
        "  \"user_mentions\": [], \n",
        "  \"hashtags\": [\n",
        "   {\n",
        "    \"indices\": [\n",
        "     32, \n",
        "     39\n",
        "    ], \n",
        "    \"text\": \"MTVEMA\"\n",
        "   }, \n",
        "   {\n",
        "    \"indices\": [\n",
        "     40, \n",
        "     61\n",
        "    ], \n",
        "    \"text\": \"NominateFifthHarmony\"\n",
        "   }\n",
        "  ], \n",
        "  \"urls\": []\n",
        " }, \n",
        " \"in_reply_to_screen_name\": null, \n",
        " \"in_reply_to_user_id\": null, \n",
        " \"retweet_count\": 0, \n",
        " \"id_str\": \"509642020797702144\", \n",
        " \"favorited\": false, \n",
        " \"user\": {\n",
        "  \"follow_request_sent\": false, \n",
        "  \"profile_use_background_image\": true, \n",
        "  \"default_profile_image\": false, \n",
        "  \"id\": 1641583826, \n",
        "  \"profile_background_image_url_https\": \"https://abs.twimg.com/images/themes/theme1/bg.png\", \n",
        "  \"verified\": false, \n",
        "  \"profile_text_color\": \"333333\", \n",
        "  \"profile_image_url_https\": \"https://pbs.twimg.com/profile_images/415195006736297984/G6bp4M_w_normal.jpeg\", \n",
        "  \"profile_sidebar_fill_color\": \"DDEEF6\", \n",
        "  \"entities\": {\n",
        "   \"description\": {\n",
        "    \"urls\": []\n",
        "   }\n",
        "  }, \n",
        "  \"followers_count\": 8, \n",
        "  \"profile_sidebar_border_color\": \"C0DEED\", \n",
        "  \"id_str\": \"1641583826\", \n",
        "  \"profile_background_color\": \"C0DEED\", \n",
        "  \"listed_count\": 0, \n",
        "  \"is_translation_enabled\": false, \n",
        "  \"utc_offset\": -10800, \n",
        "  \"statuses_count\": 869, \n",
        "  \"description\": \"\", \n",
        "  \"friends_count\": 225, \n",
        "  \"location\": \"\", \n",
        "  \"profile_link_color\": \"0084B4\", \n",
        "  \"profile_image_url\": \"http://pbs.twimg.com/profile_images/415195006736297984/G6bp4M_w_normal.jpeg\", \n",
        "  \"following\": false, \n",
        "  \"geo_enabled\": false, \n",
        "  \"profile_background_image_url\": \"http://abs.twimg.com/images/themes/theme1/bg.png\", \n",
        "  \"screen_name\": \"Fifth_demetria\", \n",
        "  \"lang\": \"en\", \n",
        "  \"profile_background_tile\": false, \n",
        "  \"favourites_count\": 5, \n",
        "  \"name\": \"\", \n",
        "  \"notifications\": false, \n",
        "  \"url\": null, \n",
        "  \"created_at\": \"Fri Aug 02 23:41:04 +0000 2013\", \n",
        "  \"contributors_enabled\": false, \n",
        "  \"time_zone\": \"Atlantic Time (Canada)\", \n",
        "  \"protected\": false, \n",
        "  \"default_profile\": true, \n",
        "  \"is_translator\": false\n",
        " }, \n",
        " \"geo\": null, \n",
        " \"in_reply_to_user_id_str\": null, \n",
        " \"lang\": \"en\", \n",
        " \"created_at\": \"Wed Sep 10 09:58:21 +0000 2014\", \n",
        " \"in_reply_to_status_id_str\": null, \n",
        " \"place\": null, \n",
        " \"metadata\": {\n",
        "  \"iso_language_code\": \"en\", \n",
        "  \"result_type\": \"recent\"\n",
        " }\n",
        "}\n"
       ]
      }
     ],
     "prompt_number": 2
    },
    {
     "cell_type": "code",
     "collapsed": false,
     "input": [
      "print json.dumps(statuses[3], indent=1)\n"
     ],
     "language": "python",
     "metadata": {},
     "outputs": [
      {
       "output_type": "stream",
       "stream": "stdout",
       "text": [
        "{\n",
        " \"contributors\": null, \n",
        " \"truncated\": false, \n",
        " \"text\": \"I vote @agnezmo for finale Nominee Best Southest Asia Act #MTVEMA #NominateAgnezMo! @agnezmo http://t.co/deyve29fU0\\\" @mtvema\", \n",
        " \"in_reply_to_status_id\": null, \n",
        " \"id\": 509628422209806336, \n",
        " \"favorite_count\": 0, \n",
        " \"source\": \"<a href=\\\"http://twitter.com/download/android\\\" rel=\\\"nofollow\\\">Twitter for Android</a>\", \n",
        " \"retweeted\": false, \n",
        " \"coordinates\": null, \n",
        " \"entities\": {\n",
        "  \"symbols\": [], \n",
        "  \"user_mentions\": [\n",
        "   {\n",
        "    \"id\": 42420346, \n",
        "    \"indices\": [\n",
        "     7, \n",
        "     15\n",
        "    ], \n",
        "    \"id_str\": \"42420346\", \n",
        "    \"screen_name\": \"agnezmo\", \n",
        "    \"name\": \"AGNEZ MO\"\n",
        "   }, \n",
        "   {\n",
        "    \"id\": 42420346, \n",
        "    \"indices\": [\n",
        "     84, \n",
        "     92\n",
        "    ], \n",
        "    \"id_str\": \"42420346\", \n",
        "    \"screen_name\": \"agnezmo\", \n",
        "    \"name\": \"AGNEZ MO\"\n",
        "   }, \n",
        "   {\n",
        "    \"id\": 62591415, \n",
        "    \"indices\": [\n",
        "     117, \n",
        "     124\n",
        "    ], \n",
        "    \"id_str\": \"62591415\", \n",
        "    \"screen_name\": \"mtvema\", \n",
        "    \"name\": \"MTV EMA\"\n",
        "   }\n",
        "  ], \n",
        "  \"hashtags\": [\n",
        "   {\n",
        "    \"indices\": [\n",
        "     58, \n",
        "     65\n",
        "    ], \n",
        "    \"text\": \"MTVEMA\"\n",
        "   }, \n",
        "   {\n",
        "    \"indices\": [\n",
        "     66, \n",
        "     82\n",
        "    ], \n",
        "    \"text\": \"NominateAgnezMo\"\n",
        "   }\n",
        "  ], \n",
        "  \"urls\": [], \n",
        "  \"media\": [\n",
        "   {\n",
        "    \"source_status_id_str\": \"509343166013906944\", \n",
        "    \"expanded_url\": \"http://twitter.com/NEZsupport/status/509343166013906944/photo/1\", \n",
        "    \"display_url\": \"pic.twitter.com/deyve29fU0\", \n",
        "    \"url\": \"http://t.co/deyve29fU0\", \n",
        "    \"media_url_https\": \"https://pbs.twimg.com/media/BxGM6BRCIAAsHsY.jpg\", \n",
        "    \"source_status_id\": 509343166013906944, \n",
        "    \"id_str\": \"509343161269755904\", \n",
        "    \"sizes\": {\n",
        "     \"small\": {\n",
        "      \"h\": 340, \n",
        "      \"resize\": \"fit\", \n",
        "      \"w\": 340\n",
        "     }, \n",
        "     \"large\": {\n",
        "      \"h\": 528, \n",
        "      \"resize\": \"fit\", \n",
        "      \"w\": 528\n",
        "     }, \n",
        "     \"medium\": {\n",
        "      \"h\": 528, \n",
        "      \"resize\": \"fit\", \n",
        "      \"w\": 528\n",
        "     }, \n",
        "     \"thumb\": {\n",
        "      \"h\": 150, \n",
        "      \"resize\": \"crop\", \n",
        "      \"w\": 150\n",
        "     }\n",
        "    }, \n",
        "    \"indices\": [\n",
        "     93, \n",
        "     115\n",
        "    ], \n",
        "    \"type\": \"photo\", \n",
        "    \"id\": 509343161269755904, \n",
        "    \"media_url\": \"http://pbs.twimg.com/media/BxGM6BRCIAAsHsY.jpg\"\n",
        "   }\n",
        "  ]\n",
        " }, \n",
        " \"in_reply_to_screen_name\": null, \n",
        " \"in_reply_to_user_id\": null, \n",
        " \"retweet_count\": 0, \n",
        " \"id_str\": \"509628422209806336\", \n",
        " \"favorited\": false, \n",
        " \"user\": {\n",
        "  \"follow_request_sent\": false, \n",
        "  \"profile_use_background_image\": true, \n",
        "  \"default_profile_image\": false, \n",
        "  \"id\": 97403174, \n",
        "  \"profile_background_image_url_https\": \"https://pbs.twimg.com/profile_background_images/262887430/168314_1418031589492_1793703361_795264_2864074_n.jpg\", \n",
        "  \"verified\": false, \n",
        "  \"profile_text_color\": \"333333\", \n",
        "  \"profile_image_url_https\": \"https://pbs.twimg.com/profile_images/488915880797949953/MO3X63Aq_normal.jpeg\", \n",
        "  \"profile_sidebar_fill_color\": \"EFEFEF\", \n",
        "  \"entities\": {\n",
        "   \"description\": {\n",
        "    \"urls\": []\n",
        "   }\n",
        "  }, \n",
        "  \"followers_count\": 785, \n",
        "  \"profile_sidebar_border_color\": \"EEEEEE\", \n",
        "  \"id_str\": \"97403174\", \n",
        "  \"profile_background_color\": \"131516\", \n",
        "  \"listed_count\": 3, \n",
        "  \"is_translation_enabled\": false, \n",
        "  \"utc_offset\": 25200, \n",
        "  \"statuses_count\": 28842, \n",
        "  \"description\": \"I describe my self as a Fireworks. Soldier of Light.\", \n",
        "  \"friends_count\": 581, \n",
        "  \"location\": \"PGK - CGK - MLG\", \n",
        "  \"profile_link_color\": \"009999\", \n",
        "  \"profile_image_url\": \"http://pbs.twimg.com/profile_images/488915880797949953/MO3X63Aq_normal.jpeg\", \n",
        "  \"following\": false, \n",
        "  \"geo_enabled\": true, \n",
        "  \"profile_banner_url\": \"https://pbs.twimg.com/profile_banners/97403174/1385242451\", \n",
        "  \"profile_background_image_url\": \"http://pbs.twimg.com/profile_background_images/262887430/168314_1418031589492_1793703361_795264_2864074_n.jpg\", \n",
        "  \"screen_name\": \"posmansamuel\", \n",
        "  \"lang\": \"en\", \n",
        "  \"profile_background_tile\": false, \n",
        "  \"favourites_count\": 17, \n",
        "  \"name\": \"Posman Samuel Bahari\", \n",
        "  \"notifications\": false, \n",
        "  \"url\": null, \n",
        "  \"created_at\": \"Thu Dec 17 09:14:04 +0000 2009\", \n",
        "  \"contributors_enabled\": false, \n",
        "  \"time_zone\": \"Jakarta\", \n",
        "  \"protected\": false, \n",
        "  \"default_profile\": false, \n",
        "  \"is_translator\": false\n",
        " }, \n",
        " \"geo\": null, \n",
        " \"in_reply_to_user_id_str\": null, \n",
        " \"possibly_sensitive\": false, \n",
        " \"lang\": \"en\", \n",
        " \"created_at\": \"Wed Sep 10 09:04:18 +0000 2014\", \n",
        " \"in_reply_to_status_id_str\": null, \n",
        " \"place\": null, \n",
        " \"metadata\": {\n",
        "  \"iso_language_code\": \"en\", \n",
        "  \"result_type\": \"recent\"\n",
        " }\n",
        "}\n",
        "{u'contributors': None, u'truncated': False, u'text': u'452. VOTE @agnezmo as nominee for Best Southeast Asia act . #MTVEMA #NominateAgnezMo', u'in_reply_to_status_id': None, u'id': 509628419265417216L, u'favorite_count': 0, u'source': u'<a href=\"http://twitter.com/download/android\" rel=\"nofollow\">Twitter for Android</a>', u'retweeted': False, u'coordinates': {u'type': u'Point', u'coordinates': [101.4240456, 0.4307282]}, u'entities': {u'symbols': [], u'user_mentions': [{u'id': 42420346, u'indices': [10, 18], u'id_str': u'42420346', u'screen_name': u'agnezmo', u'name': u'AGNEZ MO'}], u'hashtags': [{u'indices': [60, 67], u'text': u'MTVEMA'}, {u'indices': [68, 84], u'text': u'NominateAgnezMo'}], u'urls': []}, u'in_reply_to_screen_name': None, u'in_reply_to_user_id': None, u'retweet_count': 0, u'id_str': u'509628419265417216', u'favorited': False, u'user': {u'follow_request_sent': False, u'profile_use_background_image': True, u'default_profile_image': False, u'id': 218445051, u'profile_background_image_url_https': u'https://pbs.twimg.com/profile_background_images/378800000136158099/LmzivlLa.jpeg', u'verified': False, u'profile_text_color': u'3D1957', u'profile_image_url_https': u'https://pbs.twimg.com/profile_images/502470195240132608/Rz0cysFn_normal.jpeg', u'profile_sidebar_fill_color': u'1F2DC2', u'entities': {u'url': {u'urls': [{u'url': u'http://t.co/IRykZqAIh9', u'indices': [0, 22], u'expanded_url': u'http://agnezmo.com', u'display_url': u'agnezmo.com'}]}, u'description': {u'urls': []}}, u'followers_count': 786, u'profile_sidebar_border_color': u'000000', u'id_str': u'218445051', u'profile_background_color': u'1A1B1F', u'listed_count': 4, u'is_translation_enabled': False, u'utc_offset': 25200, u'statuses_count': 11394, u'description': u\"@NICofficial Member (@agnezmo 's FanMily) || @manutd Fans #mufc #GGMU || Instagram : @yoanzone02 || CP: yoanzone@gmail.com\", u'friends_count': 267, u'location': u'Pekanbaru,Riau', u'profile_link_color': u'2FC2EF', u'profile_image_url': u'http://pbs.twimg.com/profile_images/502470195240132608/Rz0cysFn_normal.jpeg', u'following': False, u'geo_enabled': True, u'profile_banner_url': u'https://pbs.twimg.com/profile_banners/218445051/1405277669', u'profile_background_image_url': u'http://pbs.twimg.com/profile_background_images/378800000136158099/LmzivlLa.jpeg', u'screen_name': u'Yoanzone18', u'lang': u'id', u'profile_background_tile': True, u'favourites_count': 640, u'name': u'Yoan NIC', u'notifications': False, u'url': u'http://t.co/IRykZqAIh9', u'created_at': u'Mon Nov 22 11:11:45 +0000 2010', u'contributors_enabled': False, u'time_zone': u'Jakarta', u'protected': False, u'default_profile': False, u'is_translator': False}, u'geo': {u'type': u'Point', u'coordinates': [0.4307282, 101.4240456]}, u'in_reply_to_user_id_str': None, u'lang': u'en', u'created_at': u'Wed Sep 10 09:04:18 +0000 2014', u'in_reply_to_status_id_str': None, u'place': {u'country_code': u'ID', u'url': u'https://api.twitter.com/1.1/geo/id/32eb831712cde417.json', u'country': u'Indonesia', u'place_type': u'city', u'bounding_box': {u'type': u'Polygon', u'coordinates': [[[101.316109, 0.386546], [101.44278, 0.386546], [101.44278, 0.563116], [101.316109, 0.563116]]]}, u'contained_within': [], u'full_name': u'Tampan, Kota Pekan Baru', u'attributes': {}, u'id': u'32eb831712cde417', u'name': u'Tampan'}, u'metadata': {u'iso_language_code': u'en', u'result_type': u'recent'}}\n"
       ]
      }
     ],
     "prompt_number": 10
    },
    {
     "cell_type": "code",
     "collapsed": false,
     "input": [
      "import pprint\n",
      "hej = [s for s in statuses if s['coordinates']]\n",
      "pprint.pprint(hej[0])"
     ],
     "language": "python",
     "metadata": {},
     "outputs": [
      {
       "output_type": "stream",
       "stream": "stdout",
       "text": [
        "{u'contributors': None,\n",
        " u'coordinates': {u'coordinates': [101.4240456, 0.4307282], u'type': u'Point'},\n",
        " u'created_at': u'Wed Sep 10 09:04:18 +0000 2014',\n",
        " u'entities': {u'hashtags': [{u'indices': [60, 67], u'text': u'MTVEMA'},\n",
        "                             {u'indices': [68, 84],\n",
        "                              u'text': u'NominateAgnezMo'}],\n",
        "               u'symbols': [],\n",
        "               u'urls': [],\n",
        "               u'user_mentions': [{u'id': 42420346,\n",
        "                                   u'id_str': u'42420346',\n",
        "                                   u'indices': [10, 18],\n",
        "                                   u'name': u'AGNEZ MO',\n",
        "                                   u'screen_name': u'agnezmo'}]},\n",
        " u'favorite_count': 0,\n",
        " u'favorited': False,\n",
        " u'geo': {u'coordinates': [0.4307282, 101.4240456], u'type': u'Point'},\n",
        " u'id': 509628419265417216L,\n",
        " u'id_str': u'509628419265417216',\n",
        " u'in_reply_to_screen_name': None,\n",
        " u'in_reply_to_status_id': None,\n",
        " u'in_reply_to_status_id_str': None,\n",
        " u'in_reply_to_user_id': None,\n",
        " u'in_reply_to_user_id_str': None,\n",
        " u'lang': u'en',\n",
        " u'metadata': {u'iso_language_code': u'en', u'result_type': u'recent'},\n",
        " u'place': {u'attributes': {},\n",
        "            u'bounding_box': {u'coordinates': [[[101.316109, 0.386546],\n",
        "                                                [101.44278, 0.386546],\n",
        "                                                [101.44278, 0.563116],\n",
        "                                                [101.316109, 0.563116]]],\n",
        "                              u'type': u'Polygon'},\n",
        "            u'contained_within': [],\n",
        "            u'country': u'Indonesia',\n",
        "            u'country_code': u'ID',\n",
        "            u'full_name': u'Tampan, Kota Pekan Baru',\n",
        "            u'id': u'32eb831712cde417',\n",
        "            u'name': u'Tampan',\n",
        "            u'place_type': u'city',\n",
        "            u'url': u'https://api.twitter.com/1.1/geo/id/32eb831712cde417.json'},\n",
        " u'retweet_count': 0,\n",
        " u'retweeted': False,\n",
        " u'source': u'<a href=\"http://twitter.com/download/android\" rel=\"nofollow\">Twitter for Android</a>',\n",
        " u'text': u'452. VOTE @agnezmo as nominee for Best Southeast Asia act . #MTVEMA #NominateAgnezMo',\n",
        " u'truncated': False,\n",
        " u'user': {u'contributors_enabled': False,\n",
        "           u'created_at': u'Mon Nov 22 11:11:45 +0000 2010',\n",
        "           u'default_profile': False,\n",
        "           u'default_profile_image': False,\n",
        "           u'description': u\"@NICofficial Member (@agnezmo 's FanMily) || @manutd Fans #mufc #GGMU || Instagram : @yoanzone02 || CP: yoanzone@gmail.com\",\n",
        "           u'entities': {u'description': {u'urls': []},\n",
        "                         u'url': {u'urls': [{u'display_url': u'agnezmo.com',\n",
        "                                             u'expanded_url': u'http://agnezmo.com',\n",
        "                                             u'indices': [0, 22],\n",
        "                                             u'url': u'http://t.co/IRykZqAIh9'}]}},\n",
        "           u'favourites_count': 640,\n",
        "           u'follow_request_sent': False,\n",
        "           u'followers_count': 786,\n",
        "           u'following': False,\n",
        "           u'friends_count': 267,\n",
        "           u'geo_enabled': True,\n",
        "           u'id': 218445051,\n",
        "           u'id_str': u'218445051',\n",
        "           u'is_translation_enabled': False,\n",
        "           u'is_translator': False,\n",
        "           u'lang': u'id',\n",
        "           u'listed_count': 4,\n",
        "           u'location': u'Pekanbaru,Riau',\n",
        "           u'name': u'Yoan NIC',\n",
        "           u'notifications': False,\n",
        "           u'profile_background_color': u'1A1B1F',\n",
        "           u'profile_background_image_url': u'http://pbs.twimg.com/profile_background_images/378800000136158099/LmzivlLa.jpeg',\n",
        "           u'profile_background_image_url_https': u'https://pbs.twimg.com/profile_background_images/378800000136158099/LmzivlLa.jpeg',\n",
        "           u'profile_background_tile': True,\n",
        "           u'profile_banner_url': u'https://pbs.twimg.com/profile_banners/218445051/1405277669',\n",
        "           u'profile_image_url': u'http://pbs.twimg.com/profile_images/502470195240132608/Rz0cysFn_normal.jpeg',\n",
        "           u'profile_image_url_https': u'https://pbs.twimg.com/profile_images/502470195240132608/Rz0cysFn_normal.jpeg',\n",
        "           u'profile_link_color': u'2FC2EF',\n",
        "           u'profile_sidebar_border_color': u'000000',\n",
        "           u'profile_sidebar_fill_color': u'1F2DC2',\n",
        "           u'profile_text_color': u'3D1957',\n",
        "           u'profile_use_background_image': True,\n",
        "           u'protected': False,\n",
        "           u'screen_name': u'Yoanzone18',\n",
        "           u'statuses_count': 11394,\n",
        "           u'time_zone': u'Jakarta',\n",
        "           u'url': u'http://t.co/IRykZqAIh9',\n",
        "           u'utc_offset': 25200,\n",
        "           u'verified': False}}\n"
       ]
      }
     ],
     "prompt_number": 14
    },
    {
     "cell_type": "heading",
     "level": 3,
     "metadata": {},
     "source": [
      "Coordinate"
     ]
    },
    {
     "cell_type": "raw",
     "metadata": {},
     "source": [
      "The coordinate field contains the longitude and latitude for the person who has tweeted the tweet on that time. "
     ]
    },
    {
     "cell_type": "heading",
     "level": 2,
     "metadata": {},
     "source": [
      "Example 1.6:"
     ]
    },
    {
     "cell_type": "code",
     "collapsed": false,
     "input": [
      "status_texts = [status['text'] for status in statuses]\n",
      "screen_names = [user_mention['screen_name'] for status in statuses for user_mention in status['entities']['user_mentions']]\n",
      "hashtags = [hashtags['text'] for status in statuses for hashtags in status['entities']['hashtags']]\n",
      "\n",
      "#Compute a collection of all words from all tweets\n",
      "words = [w for t in status_texts for w in t.split()]\n",
      "\n",
      "#Explore the first 5 items for each...\n",
      "print \"Texts:\"\n",
      "print json.dumps(status_texts[0:5], indent=1)\n",
      "print \"\\nNames:\"\n",
      "print json.dumps(screen_names[0:5], indent=1)\n",
      "print \"\\nHashtags:\"\n",
      "print json.dumps(hashtags[0:5], indent=1)\n",
      "print \"\\nWords:\"\n",
      "print json.dumps(words[0:5], indent=1)"
     ],
     "language": "python",
     "metadata": {},
     "outputs": [
      {
       "output_type": "stream",
       "stream": "stdout",
       "text": [
        "Texts:\n",
        "[\n",
        " \"i must confess you lookin fresh #MTVEMA #NominateFifthHarmony\", \n",
        " \"i must confess you lookin fresh #MTVEMA #NominateFifthHarmony\", \n",
        " \"i must confess you lookin fresh #MTVEMA #NominateFifthHarmony\", \n",
        " \"i must confess you lookin fresh #MTVEMA #NominateFifthHarmony\", \n",
        " \"i must confess you lookin fresh #MTVEMA #NominateFifthHarmony\"\n",
        "]\n",
        "\n",
        "Names:\n",
        "[\n",
        " \"WlNTERYLOUIS\", \n",
        " \"ArianatorIsland\", \n",
        " \"pezzasdimple\", \n",
        " \"MTVUK\", \n",
        " \"mtvema\"\n",
        "]\n",
        "\n",
        "Hashtags:\n",
        "[\n",
        " \"MTVEMA\", \n",
        " \"NominateFifthHarmony\", \n",
        " \"MTVEMA\", \n",
        " \"NominateFifthHarmony\", \n",
        " \"MTVEMA\"\n",
        "]\n",
        "\n",
        "Words:\n",
        "[\n",
        " \"i\", \n",
        " \"must\", \n",
        " \"confess\", \n",
        " \"you\", \n",
        " \"lookin\"\n",
        "]\n"
       ]
      }
     ],
     "prompt_number": 7
    },
    {
     "cell_type": "heading",
     "level": 2,
     "metadata": {},
     "source": [
      "Example 1.7:"
     ]
    },
    {
     "cell_type": "code",
     "collapsed": false,
     "input": [
      "from collections import Counter\n",
      "\n",
      "for item in [words, screen_names, hashtags]:\n",
      "    c = Counter(item)\n",
      "    print c.most_common()[:10] #top 10\n",
      "    print\n"
     ],
     "language": "python",
     "metadata": {},
     "outputs": [
      {
       "output_type": "stream",
       "stream": "stdout",
       "text": [
        "[(u'#MTVEMA', 199), (u'#NominateLadyGaga', 120), (u'O', 68), (u'I', 63), (u'#NominateFifthHarmony', 32), (u'i', 31), (u'you', 27), (u'must', 25), (u'confess', 25), (u'lookin', 25)]\n",
        "\n",
        "[(u'SBS_MTV', 4), (u'Champayneholics', 2), (u'mtvema', 2), (u'elenhkubolli', 1), (u'bosskordei', 1), (u'ArianatorIsland', 1), (u'Maddielovesyou1', 1), (u'Maniavato', 1), (u'ziallplaid', 1), (u'STAN_Official', 1)]\n",
        "\n",
        "[(u'MTVEMA', 201), (u'NominateLadyGaga', 120), (u'NominateFifthHarmony', 34), (u'NominateDemiLovato', 6), (u'\\ubc29\\ud0c4\\uc18c\\ub144\\ub2e8\\ud22c\\ud45c', 4), (u'NominateOneDirection', 4), (u'NominateStan', 4), (u'NominateAustinMahone', 3), (u'NominoDearJack', 2), (u'fireproof', 1)]\n",
        "\n"
       ]
      }
     ],
     "prompt_number": 9
    },
    {
     "cell_type": "heading",
     "level": 3,
     "metadata": {},
     "source": [
      "Explain Counter:"
     ]
    },
    {
     "cell_type": "raw",
     "metadata": {},
     "source": [
      "bla bla"
     ]
    },
    {
     "cell_type": "heading",
     "level": 2,
     "metadata": {},
     "source": [
      "Example 1.8:"
     ]
    },
    {
     "cell_type": "code",
     "collapsed": false,
     "input": [
      "# install prettytable: !pip install prettytable\n",
      "from prettytable import PrettyTable\n",
      "for label, data in (('Word', words),\n",
      "                    ('Screen Name', screen_names),\n",
      "                    ('Hashtag', hashtags)):\n",
      "    pt = PrettyTable(field_names=[label, 'Count'])\n",
      "    c = Counter(data)\n",
      "    [pt.add_row(kv) for kv in c.most_common()[:10]]\n",
      "    pt.align[label], pt.align['Count'] = 'l', 'r' #set column alignment\n",
      "    print pt"
     ],
     "language": "python",
     "metadata": {},
     "outputs": [
      {
       "output_type": "stream",
       "stream": "stdout",
       "text": [
        "+-----------------------+-------+\n",
        "| Word                  | Count |\n",
        "+-----------------------+-------+\n",
        "| #MTVEMA               |   199 |\n",
        "| #NominateLadyGaga     |   120 |\n",
        "| O                     |    68 |\n",
        "| I                     |    63 |\n",
        "| #NominateFifthHarmony |    32 |\n",
        "| i                     |    31 |\n",
        "| you                   |    27 |\n",
        "| must                  |    25 |\n",
        "| confess               |    25 |\n",
        "| lookin                |    25 |\n",
        "+-----------------------+-------+\n",
        "+-----------------+-------+\n",
        "| Screen Name     | Count |\n",
        "+-----------------+-------+\n",
        "| SBS_MTV         |     4 |\n",
        "| Champayneholics |     2 |\n",
        "| mtvema          |     2 |\n",
        "| elenhkubolli    |     1 |\n",
        "| bosskordei      |     1 |\n",
        "| ArianatorIsland |     1 |\n",
        "| Maddielovesyou1 |     1 |\n",
        "| Maniavato       |     1 |\n",
        "| ziallplaid      |     1 |\n",
        "| STAN_Official   |     1 |\n",
        "+-----------------+-------+\n",
        "+----------------------+-------+\n",
        "| Hashtag              | Count |\n",
        "+----------------------+-------+\n",
        "| MTVEMA               |   201 |\n",
        "| NominateLadyGaga     |   120 |\n",
        "| NominateFifthHarmony |    34 |\n",
        "| NominateDemiLovato   |     6 |\n",
        "| \ubc29\ud0c4\uc18c\ub144\ub2e8\ud22c\ud45c       |     4 |\n",
        "| NominateOneDirection |     4 |\n",
        "| NominateStan         |     4 |\n",
        "| NominateAustinMahone |     3 |\n",
        "| NominoDearJack       |     2 |\n",
        "| fireproof            |     1 |\n",
        "+----------------------+-------+\n"
       ]
      }
     ],
     "prompt_number": 13
    },
    {
     "cell_type": "heading",
     "level": 2,
     "metadata": {},
     "source": [
      "Example 1.9:"
     ]
    },
    {
     "cell_type": "code",
     "collapsed": false,
     "input": [
      "import nltkMethods\n",
      "\n",
      "print nltkMethods.lexical_diversity(words)\n",
      "print nltkMethods.lexical_diversity(screen_names)\n",
      "print nltkMethods.lexical_diversity(hashtags)\n",
      "print nltkMethods.average_words(status_texts)"
     ],
     "language": "python",
     "metadata": {},
     "outputs": [
      {
       "output_type": "stream",
       "stream": "stdout",
       "text": [
        "0.339737991266\n",
        "0.871794871795\n",
        "0.072864321608\n",
        "5.55825242718\n"
       ]
      }
     ],
     "prompt_number": 15
    },
    {
     "cell_type": "heading",
     "level": 2,
     "metadata": {},
     "source": [
      "Example 1.10: "
     ]
    },
    {
     "cell_type": "code",
     "collapsed": false,
     "input": [
      "retweets = [\n",
      "            #Store out a tuple ofr these three values...\n",
      "            (status['retweet_count'], \n",
      "             status['retweeted_status']['user']['screen_name'], \n",
      "             status['text'])\n",
      "            \n",
      "            #... for each status...\n",
      "            for status in statuses\n",
      "            if status.has_key('retweeted_status')\n",
      "]\n",
      "\n",
      "#Slice off the first 5 from the sorted results and display each item in the tuple\n",
      "pt = PrettyTable(field_names=['Count', 'Screen Name', 'Text'])\n",
      "[pt.add_row(row) for row in sorted(retweets,reverse=True)[:5]]\n",
      "pt.max_width['Text']=50\n",
      "pt.align = 'l'\n",
      "print pt"
     ],
     "language": "python",
     "metadata": {},
     "outputs": [
      {
       "output_type": "stream",
       "stream": "stdout",
       "text": [
        "+-------+-----------------+----------------------------------------------------+\n",
        "| Count | Screen Name     | Text                                               |\n",
        "+-------+-----------------+----------------------------------------------------+\n",
        "| 20973 | AustinMahone    | RT @AustinMahone: Quick follow spree!!! RT!!!      |\n",
        "|       |                 | #MTVEMA #NominateAustinMahone LETS GOOOOOOO        |\n",
        "| 1132  | AmenaHoranYo_   | RT @AmenaHoranYo_: *doesn't know what we're voting |\n",
        "|       |                 | for*                                               |\n",
        "|       |                 |                                                    |\n",
        "|       |                 | *votes anyways*                                    |\n",
        "|       |                 |                                                    |\n",
        "|       |                 | *wins*                                             |\n",
        "|       |                 |                                                    |\n",
        "|       |                 | #MTVEMA One Direction http://t.co/KMV1KAcuwT       |\n",
        "| 492   | WlNTERYLOUIS    | RT @WlNTERYLOUIS: Clap your hands if you're not    |\n",
        "|       |                 | ready for Niall's birthday                         |\n",
        "|       |                 |                                                    |\n",
        "|       |                 | Fandom:                                            |\n",
        "|       |                 |                                                    |\n",
        "|       |                 | #MTVEMA One Direction http://t.co/r4mZk7kxvQ       |\n",
        "| 236   | Louebear        | RT @Louebear: REASON FOR U TO VOTE                 |\n",
        "|       |                 |                                                    |\n",
        "|       |                 | #mtvema One Direction #NominateOneDirection        |\n",
        "|       |                 | http://t.co/k5n0IdC0nQ                             |\n",
        "| 161   | ArianatorIsland | RT @ArianatorIsland: Keep Voting for Ariana!       |\n",
        "|       |                 | #MTVEMA #NominateArianaGrande                      |\n",
        "+-------+-----------------+----------------------------------------------------+\n"
       ]
      }
     ],
     "prompt_number": 16
    },
    {
     "cell_type": "heading",
     "level": 2,
     "metadata": {},
     "source": [
      "Example 1.11:"
     ]
    },
    {
     "cell_type": "code",
     "collapsed": false,
     "input": [
      "#Get retweet_status id!\n",
      "import pprint\n",
      "for status in statuses:\n",
      "    if status.has_key('retweeted_status'):\n",
      "        pprint.pprint(status['retweeted_status']['id'], indent=1) #509560138517053440L\n",
      "        ID = status['retweeted_status']['id']\n",
      "        break #get the first id"
     ],
     "language": "python",
     "metadata": {},
     "outputs": [
      {
       "output_type": "stream",
       "stream": "stdout",
       "text": [
        "509560138517053440L\n"
       ]
      }
     ],
     "prompt_number": 36
    },
    {
     "cell_type": "code",
     "collapsed": false,
     "input": [
      "_retweets = twitter_api.statuses.retweets(id=ID)\n",
      "print [r['user']['screen_name'] for r in _retweets]"
     ],
     "language": "python",
     "metadata": {},
     "outputs": [
      {
       "output_type": "stream",
       "stream": "stdout",
       "text": [
        "[u'Caishmybaes', u'Proopayne', u'GiuliaBaccin', u'16flawlessniall', u'5sos_infinity12', u'euphoric1d', u'CatRenee3', u'__ZaynSmile__', u'MICHELLE_1DNH', u'tatis_gt', u'whitegriersides', u'cthbutt', u'NicoIePereira', u'themalikshake', u'Jessslyn5SOS', u'niallsxjump', u'SNXGGLEHARRYX', u'MINIOOONEK', u'gbygaygtgygyg', u'sleepyxziall']\n"
       ]
      }
     ],
     "prompt_number": 37
    },
    {
     "cell_type": "code",
     "collapsed": false,
     "input": [],
     "language": "python",
     "metadata": {},
     "outputs": []
    }
   ],
   "metadata": {}
  }
 ]
}