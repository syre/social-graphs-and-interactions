{
 "metadata": {
  "name": "",
  "signature": "sha256:7ee2ae0ed972b187294483b75868644a2eadbe749c58f09175f5976ccd7a1c6a"
 },
 "nbformat": 3,
 "nbformat_minor": 0,
 "worksheets": [
  {
   "cells": [
    {
     "cell_type": "code",
     "collapsed": false,
     "input": [],
     "language": "python",
     "metadata": {},
     "outputs": []
    }
   ],
   "metadata": {}
  }
 ]
}