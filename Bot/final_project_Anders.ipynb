{
 "metadata": {
  "name": "",
  "signature": "sha256:961f1a5096a0a0ca53a96b2c2ef3285bb864085db84696f952b0d9ac37280b90"
 },
 "nbformat": 3,
 "nbformat_minor": 0,
 "worksheets": [
  {
   "cells": [
    {
     "cell_type": "code",
     "collapsed": false,
     "input": [
      "from twitter_bot import *\n",
      "%matplotlib inline\n",
      "humans = set(list([human[\"id\"] for human in human_users_collection.find()]))\n",
      "followers = set(twitter_api.followers.ids(screen_name=\"JackBoHorseMan\")[\"ids\"])\n",
      "\n",
      "non_reciprocal_humans_ids = humans-followers\n",
      "reciprocal_humans_ids = followers.intersection(humans)\n",
      "\n",
      "\n",
      "non_reciprocal_humans_list = list([str(id) for id in non_reciprocal_humans_ids])\n",
      "non_reciprocal_hydrated = []\n",
      "for i in range(100,len(non_reciprocal_humans_list),100):\n",
      "    non_reciprocal_hydrated.extend(twitter_api.users.lookup(user_id=\",\".join(non_reciprocal_humans_list[i-100:i])))\n",
      "\n",
      "start_index = len(non_reciprocal_humans_list)-(len(non_reciprocal_humans_list) % 100)\n",
      "end_index = len(non_reciprocal_humans_list)\n",
      "\n",
      "non_reciprocal_hydrated.extend(twitter_api.users.lookup(user_id=\",\".join(non_reciprocal_humans_list[start_index:end_index])))\n",
      "\n",
      "reciprocal_humans_list = list([str(id) for id in reciprocal_humans_ids])\n",
      "reciprocal_hydrated = []\n",
      "for i in range(100,len(reciprocal_humans_list),100):\n",
      "    reciprocal_hydrated.extend(twitter_api.users.lookup(user_id=\",\".join(reciprocal_humans_list[i-100:i])))\n",
      "\n",
      "start_index = len(reciprocal_humans_list)-(len(reciprocal_humans_list) % 100)\n",
      "end_index = len(reciprocal_humans_list)\n",
      "\n",
      "reciprocal_hydrated.extend(twitter_api.users.lookup(user_id=\",\".join(reciprocal_humans_list[start_index:end_index])))"
     ],
     "language": "python",
     "metadata": {},
     "outputs": [],
     "prompt_number": 91
    },
    {
     "cell_type": "code",
     "collapsed": false,
     "input": [
      "print len(non_reciprocal_hydrated)"
     ],
     "language": "python",
     "metadata": {},
     "outputs": [
      {
       "output_type": "stream",
       "stream": "stdout",
       "text": [
        "1182\n"
       ]
      }
     ],
     "prompt_number": 15
    },
    {
     "cell_type": "code",
     "collapsed": false,
     "input": [
      "from twitter_bot import *\n",
      "import time\n",
      "import pprint\n",
      "\n",
      "count = 0\n",
      "edges_rec = []\n",
      "nodes_rec = []\n",
      "for index, user in enumerate(reciprocal_hydrated):\n",
      "    for index2, user2 in enumerate(reciprocal_hydrated, start=index+1):\n",
      "        result2 = twitter_api.friendships.show(source_screen_name=user['screen_name'], target_screen_name=user2['screen_name'])        \n",
      "        if result2[\"relationship\"][\"source\"][\"followed_by\"] == True or result2[\"relationship\"][\"source\"][\"following\"] == True:\n",
      "            edges_rec.append((user['screen_name'], user2['screen_name']))\n",
      "            nodes_rec.append(user['screen_name'])\n",
      "            nodes_rec.append(user2['screen_name'])\n",
      "        count +=1\n",
      "        print count\n",
      "        if count == 180:\n",
      "            print \"Good night...\"\n",
      "            time.sleep((60*15)+1)\n",
      "            print \"Good morning...\"\n",
      "            count = 0\n",
      "    nodes_rec = list(set(nodes_rec))\n",
      "\n",
      "    \n",
      "nodes_rec = list(set(nodes_rec))\n",
      "length = len(nodes_rec)\n",
      "print \"Good night...\"\n",
      "time.sleep((60*15)+1)\n",
      "print \"Good morning... non-rec now :D\"\n",
      "count = 0\n",
      "edges_non_rec = []\n",
      "nodes_non_rec = []\n",
      "for index, user in enumerate(non_reciprocal_hydrated):\n",
      "    for index2, user2 in enumerate(non_reciprocal_hydrated, start=index+1):\n",
      "        result2 = twitter_api.friendships.show(source_screen_name=user['screen_name'], target_screen_name=user2['screen_name'])        \n",
      "        if result2[\"relationship\"][\"source\"][\"followed_by\"] == True or result2[\"relationship\"][\"source\"][\"following\"] == True:\n",
      "            edges_non_rec.append((user['screen_name'], user2['screen_name']))\n",
      "            nodes_non_rec.append(user['screen_name'])\n",
      "            nodes_non_rec.append(user2['screen_name'])\n",
      "        count +=1\n",
      "        print count\n",
      "        if count == 180:\n",
      "            print \"Good night...\"\n",
      "            time.sleep((60*15)+1)\n",
      "            print \"Good morning...\"\n",
      "            count = 0\n",
      "    nodes_non_rec = list(set(nodes_non_rec))\n",
      "    if len(nodes_non_rec) >= length:\n",
      "        break\n",
      "            \n",
      "#pprint.pprint(result2)"
     ],
     "language": "python",
     "metadata": {},
     "outputs": [
      {
       "output_type": "stream",
       "stream": "stdout",
       "text": [
        "1\n",
        "2"
       ]
      },
      {
       "output_type": "stream",
       "stream": "stdout",
       "text": [
        "\n",
        "3"
       ]
      },
      {
       "output_type": "stream",
       "stream": "stdout",
       "text": [
        "\n",
        "4"
       ]
      },
      {
       "output_type": "stream",
       "stream": "stdout",
       "text": [
        "\n",
        "5"
       ]
      },
      {
       "output_type": "stream",
       "stream": "stdout",
       "text": [
        "\n",
        "6"
       ]
      },
      {
       "output_type": "stream",
       "stream": "stdout",
       "text": [
        "\n",
        "7"
       ]
      },
      {
       "output_type": "stream",
       "stream": "stdout",
       "text": [
        "\n",
        "8"
       ]
      },
      {
       "output_type": "stream",
       "stream": "stdout",
       "text": [
        "\n",
        "9"
       ]
      },
      {
       "output_type": "stream",
       "stream": "stdout",
       "text": [
        "\n",
        "10"
       ]
      },
      {
       "output_type": "stream",
       "stream": "stdout",
       "text": [
        "\n",
        "11"
       ]
      },
      {
       "output_type": "stream",
       "stream": "stdout",
       "text": [
        "\n",
        "12"
       ]
      },
      {
       "output_type": "stream",
       "stream": "stdout",
       "text": [
        "\n",
        "13"
       ]
      },
      {
       "output_type": "stream",
       "stream": "stdout",
       "text": [
        "\n",
        "14"
       ]
      },
      {
       "output_type": "stream",
       "stream": "stdout",
       "text": [
        "\n",
        "15"
       ]
      },
      {
       "output_type": "stream",
       "stream": "stdout",
       "text": [
        "\n",
        "16"
       ]
      },
      {
       "output_type": "stream",
       "stream": "stdout",
       "text": [
        "\n",
        "17"
       ]
      },
      {
       "output_type": "stream",
       "stream": "stdout",
       "text": [
        "\n",
        "18"
       ]
      },
      {
       "output_type": "stream",
       "stream": "stdout",
       "text": [
        "\n",
        "19"
       ]
      },
      {
       "output_type": "stream",
       "stream": "stdout",
       "text": [
        "\n",
        "20"
       ]
      },
      {
       "output_type": "stream",
       "stream": "stdout",
       "text": [
        "\n",
        "21"
       ]
      },
      {
       "output_type": "stream",
       "stream": "stdout",
       "text": [
        "\n",
        "22"
       ]
      },
      {
       "output_type": "stream",
       "stream": "stdout",
       "text": [
        "\n",
        "23"
       ]
      },
      {
       "output_type": "stream",
       "stream": "stdout",
       "text": [
        "\n",
        "24"
       ]
      },
      {
       "output_type": "stream",
       "stream": "stdout",
       "text": [
        "\n",
        "25"
       ]
      },
      {
       "output_type": "stream",
       "stream": "stdout",
       "text": [
        "\n",
        "26"
       ]
      },
      {
       "output_type": "stream",
       "stream": "stdout",
       "text": [
        "\n",
        "27"
       ]
      },
      {
       "output_type": "stream",
       "stream": "stdout",
       "text": [
        "\n",
        "28"
       ]
      },
      {
       "output_type": "stream",
       "stream": "stdout",
       "text": [
        "\n",
        "29"
       ]
      },
      {
       "output_type": "stream",
       "stream": "stdout",
       "text": [
        "\n",
        "30"
       ]
      },
      {
       "output_type": "stream",
       "stream": "stdout",
       "text": [
        "\n",
        "31"
       ]
      },
      {
       "output_type": "stream",
       "stream": "stdout",
       "text": [
        "\n",
        "32"
       ]
      },
      {
       "output_type": "stream",
       "stream": "stdout",
       "text": [
        "\n",
        "33"
       ]
      },
      {
       "output_type": "stream",
       "stream": "stdout",
       "text": [
        "\n",
        "34"
       ]
      },
      {
       "output_type": "stream",
       "stream": "stdout",
       "text": [
        "\n",
        "35"
       ]
      },
      {
       "output_type": "stream",
       "stream": "stdout",
       "text": [
        "\n",
        "36"
       ]
      },
      {
       "output_type": "stream",
       "stream": "stdout",
       "text": [
        "\n",
        "37"
       ]
      },
      {
       "output_type": "stream",
       "stream": "stdout",
       "text": [
        "\n",
        "38"
       ]
      },
      {
       "output_type": "stream",
       "stream": "stdout",
       "text": [
        "\n",
        "39"
       ]
      },
      {
       "output_type": "stream",
       "stream": "stdout",
       "text": [
        "\n",
        "40"
       ]
      },
      {
       "output_type": "stream",
       "stream": "stdout",
       "text": [
        "\n",
        "41"
       ]
      },
      {
       "output_type": "stream",
       "stream": "stdout",
       "text": [
        "\n",
        "42"
       ]
      },
      {
       "output_type": "stream",
       "stream": "stdout",
       "text": [
        "\n",
        "43"
       ]
      },
      {
       "output_type": "stream",
       "stream": "stdout",
       "text": [
        "\n",
        "44"
       ]
      },
      {
       "output_type": "stream",
       "stream": "stdout",
       "text": [
        "\n",
        "45"
       ]
      },
      {
       "output_type": "stream",
       "stream": "stdout",
       "text": [
        "\n",
        "46"
       ]
      },
      {
       "output_type": "stream",
       "stream": "stdout",
       "text": [
        "\n",
        "47"
       ]
      },
      {
       "output_type": "stream",
       "stream": "stdout",
       "text": [
        "\n",
        "48"
       ]
      },
      {
       "output_type": "stream",
       "stream": "stdout",
       "text": [
        "\n",
        "49"
       ]
      },
      {
       "output_type": "stream",
       "stream": "stdout",
       "text": [
        "\n",
        "50"
       ]
      },
      {
       "output_type": "stream",
       "stream": "stdout",
       "text": [
        "\n",
        "51"
       ]
      },
      {
       "output_type": "stream",
       "stream": "stdout",
       "text": [
        "\n",
        "52"
       ]
      },
      {
       "output_type": "stream",
       "stream": "stdout",
       "text": [
        "\n",
        "53"
       ]
      },
      {
       "output_type": "stream",
       "stream": "stdout",
       "text": [
        "\n",
        "54"
       ]
      },
      {
       "output_type": "stream",
       "stream": "stdout",
       "text": [
        "\n",
        "55"
       ]
      },
      {
       "output_type": "stream",
       "stream": "stdout",
       "text": [
        "\n",
        "56"
       ]
      },
      {
       "output_type": "stream",
       "stream": "stdout",
       "text": [
        "\n",
        "57"
       ]
      },
      {
       "output_type": "stream",
       "stream": "stdout",
       "text": [
        "\n",
        "58"
       ]
      },
      {
       "output_type": "stream",
       "stream": "stdout",
       "text": [
        "\n",
        "59"
       ]
      },
      {
       "output_type": "stream",
       "stream": "stdout",
       "text": [
        "\n",
        "60"
       ]
      },
      {
       "output_type": "stream",
       "stream": "stdout",
       "text": [
        "\n",
        "61"
       ]
      },
      {
       "output_type": "stream",
       "stream": "stdout",
       "text": [
        "\n",
        "62"
       ]
      },
      {
       "output_type": "stream",
       "stream": "stdout",
       "text": [
        "\n",
        "63"
       ]
      },
      {
       "output_type": "stream",
       "stream": "stdout",
       "text": [
        "\n",
        "64"
       ]
      },
      {
       "output_type": "stream",
       "stream": "stdout",
       "text": [
        "\n",
        "65"
       ]
      },
      {
       "output_type": "stream",
       "stream": "stdout",
       "text": [
        "\n",
        "66"
       ]
      },
      {
       "output_type": "stream",
       "stream": "stdout",
       "text": [
        "\n",
        "67"
       ]
      },
      {
       "output_type": "stream",
       "stream": "stdout",
       "text": [
        "\n",
        "68"
       ]
      },
      {
       "output_type": "stream",
       "stream": "stdout",
       "text": [
        "\n",
        "69"
       ]
      },
      {
       "output_type": "stream",
       "stream": "stdout",
       "text": [
        "\n",
        "70"
       ]
      },
      {
       "output_type": "stream",
       "stream": "stdout",
       "text": [
        "\n",
        "71"
       ]
      },
      {
       "output_type": "stream",
       "stream": "stdout",
       "text": [
        "\n",
        "72"
       ]
      },
      {
       "output_type": "stream",
       "stream": "stdout",
       "text": [
        "\n",
        "73"
       ]
      },
      {
       "output_type": "stream",
       "stream": "stdout",
       "text": [
        "\n",
        "74"
       ]
      },
      {
       "output_type": "stream",
       "stream": "stdout",
       "text": [
        "\n",
        "75"
       ]
      },
      {
       "output_type": "stream",
       "stream": "stdout",
       "text": [
        "\n",
        "76"
       ]
      },
      {
       "output_type": "stream",
       "stream": "stdout",
       "text": [
        "\n",
        "77"
       ]
      },
      {
       "output_type": "stream",
       "stream": "stdout",
       "text": [
        "\n",
        "78"
       ]
      },
      {
       "output_type": "stream",
       "stream": "stdout",
       "text": [
        "\n",
        "79"
       ]
      },
      {
       "output_type": "stream",
       "stream": "stdout",
       "text": [
        "\n",
        "80"
       ]
      },
      {
       "output_type": "stream",
       "stream": "stdout",
       "text": [
        "\n",
        "81"
       ]
      },
      {
       "output_type": "stream",
       "stream": "stdout",
       "text": [
        "\n",
        "82"
       ]
      },
      {
       "output_type": "stream",
       "stream": "stdout",
       "text": [
        "\n",
        "83"
       ]
      },
      {
       "output_type": "stream",
       "stream": "stdout",
       "text": [
        "\n",
        "84"
       ]
      },
      {
       "output_type": "stream",
       "stream": "stdout",
       "text": [
        "\n",
        "85"
       ]
      },
      {
       "output_type": "stream",
       "stream": "stdout",
       "text": [
        "\n",
        "86"
       ]
      },
      {
       "output_type": "stream",
       "stream": "stdout",
       "text": [
        "\n",
        "87"
       ]
      },
      {
       "output_type": "stream",
       "stream": "stdout",
       "text": [
        "\n",
        "88"
       ]
      },
      {
       "output_type": "stream",
       "stream": "stdout",
       "text": [
        "\n",
        "89"
       ]
      },
      {
       "output_type": "stream",
       "stream": "stdout",
       "text": [
        "\n",
        "90"
       ]
      },
      {
       "output_type": "stream",
       "stream": "stdout",
       "text": [
        "\n",
        "91"
       ]
      },
      {
       "output_type": "stream",
       "stream": "stdout",
       "text": [
        "\n",
        "92"
       ]
      },
      {
       "output_type": "stream",
       "stream": "stdout",
       "text": [
        "\n",
        "93"
       ]
      },
      {
       "output_type": "stream",
       "stream": "stdout",
       "text": [
        "\n",
        "94"
       ]
      },
      {
       "output_type": "stream",
       "stream": "stdout",
       "text": [
        "\n",
        "95"
       ]
      },
      {
       "output_type": "stream",
       "stream": "stdout",
       "text": [
        "\n",
        "96"
       ]
      },
      {
       "output_type": "stream",
       "stream": "stdout",
       "text": [
        "\n",
        "97"
       ]
      },
      {
       "output_type": "stream",
       "stream": "stdout",
       "text": [
        "\n",
        "98"
       ]
      },
      {
       "output_type": "stream",
       "stream": "stdout",
       "text": [
        "\n",
        "99"
       ]
      },
      {
       "output_type": "stream",
       "stream": "stdout",
       "text": [
        "\n",
        "100"
       ]
      },
      {
       "output_type": "stream",
       "stream": "stdout",
       "text": [
        "\n",
        "101"
       ]
      },
      {
       "output_type": "stream",
       "stream": "stdout",
       "text": [
        "\n",
        "102"
       ]
      },
      {
       "output_type": "stream",
       "stream": "stdout",
       "text": [
        "\n",
        "103"
       ]
      },
      {
       "output_type": "stream",
       "stream": "stdout",
       "text": [
        "\n",
        "104"
       ]
      },
      {
       "output_type": "stream",
       "stream": "stdout",
       "text": [
        "\n",
        "105"
       ]
      },
      {
       "output_type": "stream",
       "stream": "stdout",
       "text": [
        "\n",
        "106"
       ]
      },
      {
       "output_type": "stream",
       "stream": "stdout",
       "text": [
        "\n",
        "107"
       ]
      },
      {
       "output_type": "stream",
       "stream": "stdout",
       "text": [
        "\n",
        "108"
       ]
      },
      {
       "output_type": "stream",
       "stream": "stdout",
       "text": [
        "\n",
        "109"
       ]
      },
      {
       "output_type": "stream",
       "stream": "stdout",
       "text": [
        "\n",
        "110"
       ]
      }
     ]
    },
    {
     "cell_type": "code",
     "collapsed": false,
     "input": [
      "print result2[\"relationship\"][\"source\"][\"followed_by\"]\n",
      "\n",
      "if result2[\"relationship\"][\"source\"][\"followed_by\"] == True or result2[\"relationship\"][\"source\"][\"following\"] == True:\n",
      "    print \"hej\"\n",
      "elif :\n",
      "    print \"hej hej\"\n",
      "el"
     ],
     "language": "python",
     "metadata": {},
     "outputs": [
      {
       "output_type": "stream",
       "stream": "stdout",
       "text": [
        "False\n",
        "hej\n"
       ]
      }
     ],
     "prompt_number": 88
    },
    {
     "cell_type": "code",
     "collapsed": false,
     "input": [
      "print reciprocal_hydrated[0]['screen_name']\n",
      "new_reciprocal_hydrated = reciprocal_hydrated[:15]\n",
      "new_reciprocal_hydrated.extend(reciprocal_hydrated[-15:])\n",
      "new_reciprocal_hydrated.extend(reciprocal_hydrated[300:315])\n",
      "print len(new_reciprocal_hydrated)\n",
      "new_non_reciprocal_hydrated = non_reciprocal_hydrated[:15]\n",
      "new_non_reciprocal_hydrated.extend(non_reciprocal_hydrated[-15:])\n",
      "new_non_reciprocal_hydrated.extend(non_reciprocal_hydrated[600:615])\n",
      "print len(new_non_reciprocal_hydrated)"
     ],
     "language": "python",
     "metadata": {},
     "outputs": [
      {
       "output_type": "stream",
       "stream": "stdout",
       "text": [
        "popcornface\n",
        "45\n",
        "45\n"
       ]
      }
     ],
     "prompt_number": 16
    },
    {
     "cell_type": "code",
     "collapsed": false,
     "input": [
      "import time\n",
      "\n",
      "def load_graph_stuff(the_list):\n",
      "    edges = []\n",
      "    count = 1\n",
      "    nodes = []\n",
      "    for user in the_list:\n",
      "        print count\n",
      "        result2 = twitter_api.followers.list(screen_name=reciproc_user[\"screen_name\"], count=100)\n",
      "        nodes.append(reciproc_user[\"screen_name\"])\n",
      "        for user2 in result2[\"users\"]:\n",
      "            edges.append((reciproc_user[\"screen_name\"], user2[\"screen_name\"]))\n",
      "            nodes.append(user2[\"screen_name\"])\n",
      "        count +=1\n",
      "        if count == 15:\n",
      "            print \"Good night...\"\n",
      "            time.sleep((60*15)+1)\n",
      "            print \"Good morning...\"\n",
      "            count = 1\n",
      "    nodes = list(set(nodes))\n",
      "    return edges, nodes\n",
      "\n",
      "print len(new_non_reciprocal_hydrated)\n",
      "edges, nodes = load_graph_stuff(new_non_reciprocal_hydrated)"
     ],
     "language": "python",
     "metadata": {},
     "outputs": [
      {
       "output_type": "stream",
       "stream": "stdout",
       "text": [
        "45\n",
        "1\n",
        "2"
       ]
      },
      {
       "output_type": "stream",
       "stream": "stdout",
       "text": [
        "\n",
        "3"
       ]
      },
      {
       "output_type": "stream",
       "stream": "stdout",
       "text": [
        "\n",
        "4"
       ]
      },
      {
       "output_type": "stream",
       "stream": "stdout",
       "text": [
        "\n",
        "5"
       ]
      },
      {
       "output_type": "stream",
       "stream": "stdout",
       "text": [
        "\n",
        "6"
       ]
      },
      {
       "output_type": "stream",
       "stream": "stdout",
       "text": [
        "\n",
        "7"
       ]
      },
      {
       "output_type": "stream",
       "stream": "stdout",
       "text": [
        "\n",
        "8"
       ]
      },
      {
       "output_type": "stream",
       "stream": "stdout",
       "text": [
        "\n",
        "9"
       ]
      },
      {
       "output_type": "stream",
       "stream": "stdout",
       "text": [
        "\n",
        "10"
       ]
      },
      {
       "output_type": "stream",
       "stream": "stdout",
       "text": [
        "\n",
        "11"
       ]
      },
      {
       "output_type": "stream",
       "stream": "stdout",
       "text": [
        "\n",
        "12"
       ]
      },
      {
       "output_type": "stream",
       "stream": "stdout",
       "text": [
        "\n",
        "13"
       ]
      },
      {
       "output_type": "stream",
       "stream": "stdout",
       "text": [
        "\n",
        "14"
       ]
      },
      {
       "output_type": "stream",
       "stream": "stdout",
       "text": [
        "\n",
        "Good night..."
       ]
      },
      {
       "output_type": "stream",
       "stream": "stdout",
       "text": [
        "\n",
        "Good morning..."
       ]
      },
      {
       "output_type": "stream",
       "stream": "stdout",
       "text": [
        "\n",
        "1\n",
        "2"
       ]
      },
      {
       "output_type": "stream",
       "stream": "stdout",
       "text": [
        "\n",
        "3"
       ]
      },
      {
       "output_type": "stream",
       "stream": "stdout",
       "text": [
        "\n",
        "4"
       ]
      },
      {
       "output_type": "stream",
       "stream": "stdout",
       "text": [
        "\n",
        "5"
       ]
      },
      {
       "output_type": "stream",
       "stream": "stdout",
       "text": [
        "\n",
        "6"
       ]
      },
      {
       "output_type": "stream",
       "stream": "stdout",
       "text": [
        "\n",
        "7"
       ]
      },
      {
       "output_type": "stream",
       "stream": "stdout",
       "text": [
        "\n",
        "8"
       ]
      },
      {
       "output_type": "stream",
       "stream": "stdout",
       "text": [
        "\n",
        "9"
       ]
      },
      {
       "output_type": "stream",
       "stream": "stdout",
       "text": [
        "\n",
        "10"
       ]
      },
      {
       "output_type": "stream",
       "stream": "stdout",
       "text": [
        "\n",
        "11"
       ]
      },
      {
       "output_type": "stream",
       "stream": "stdout",
       "text": [
        "\n",
        "12"
       ]
      },
      {
       "output_type": "stream",
       "stream": "stdout",
       "text": [
        "\n",
        "13"
       ]
      },
      {
       "output_type": "stream",
       "stream": "stdout",
       "text": [
        "\n",
        "14"
       ]
      },
      {
       "output_type": "stream",
       "stream": "stdout",
       "text": [
        "\n",
        "Good night..."
       ]
      },
      {
       "output_type": "stream",
       "stream": "stdout",
       "text": [
        "\n",
        "Good morning..."
       ]
      },
      {
       "output_type": "stream",
       "stream": "stdout",
       "text": [
        "\n",
        "1\n",
        "2"
       ]
      },
      {
       "output_type": "stream",
       "stream": "stdout",
       "text": [
        "\n",
        "3"
       ]
      },
      {
       "output_type": "stream",
       "stream": "stdout",
       "text": [
        "\n",
        "4"
       ]
      },
      {
       "output_type": "stream",
       "stream": "stdout",
       "text": [
        "\n",
        "5"
       ]
      },
      {
       "output_type": "stream",
       "stream": "stdout",
       "text": [
        "\n",
        "6"
       ]
      },
      {
       "output_type": "stream",
       "stream": "stdout",
       "text": [
        "\n",
        "7"
       ]
      },
      {
       "output_type": "stream",
       "stream": "stdout",
       "text": [
        "\n",
        "8"
       ]
      },
      {
       "output_type": "stream",
       "stream": "stdout",
       "text": [
        "\n",
        "9"
       ]
      },
      {
       "output_type": "stream",
       "stream": "stdout",
       "text": [
        "\n",
        "10"
       ]
      },
      {
       "output_type": "stream",
       "stream": "stdout",
       "text": [
        "\n",
        "11"
       ]
      },
      {
       "output_type": "stream",
       "stream": "stdout",
       "text": [
        "\n",
        "12"
       ]
      },
      {
       "output_type": "stream",
       "stream": "stdout",
       "text": [
        "\n",
        "13"
       ]
      },
      {
       "output_type": "stream",
       "stream": "stdout",
       "text": [
        "\n",
        "14"
       ]
      },
      {
       "output_type": "stream",
       "stream": "stdout",
       "text": [
        "\n",
        "Good night..."
       ]
      },
      {
       "output_type": "stream",
       "stream": "stdout",
       "text": [
        "\n",
        "Good morning..."
       ]
      },
      {
       "output_type": "stream",
       "stream": "stdout",
       "text": [
        "\n",
        "1\n",
        "2"
       ]
      },
      {
       "output_type": "stream",
       "stream": "stdout",
       "text": [
        "\n",
        "3"
       ]
      },
      {
       "output_type": "stream",
       "stream": "stdout",
       "text": [
        "\n"
       ]
      }
     ],
     "prompt_number": 17
    },
    {
     "cell_type": "code",
     "collapsed": false,
     "input": [
      "File = open('non_reciprocalGraphNodes.txt', 'w')\n",
      "[File.write(item+\"\\n\") for item in nodes]\n",
      "File.close()\n",
      "\n",
      "File = open('non_reciprocalGraphEdges.txt', 'w')\n",
      "[File.write(\"(\"+x+\",\"+y+\")\\n\") for x,y in edges]\n",
      "File.close()"
     ],
     "language": "python",
     "metadata": {},
     "outputs": [],
     "prompt_number": 18
    },
    {
     "cell_type": "code",
     "collapsed": false,
     "input": [
      "def load(Filename, tupleFlag=0):\n",
      "    line = []\n",
      "    File = open(Filename, 'r')\n",
      "    lines = File.readlines()\n",
      "    File.close()\n",
      "    if tupleFlag == 0:\n",
      "        List = [item.rstrip() for item in lines]\n",
      "        return List\n",
      "    else:\n",
      "        tupleList = []\n",
      "        for line in lines:\n",
      "            itemSet = line.split(\",\")\n",
      "            tupleList.append((itemSet[0],itemSet[1].rstrip()))\n",
      "        return tupleList\n",
      "\n",
      "\n",
      "non_nodes = load('non_reciprocalGraphNodes.txt')\n",
      "non_edges = load('non_reciprocalGraphEdges.txt', 1)\n",
      "rec_nodes = load('reciprocalGraphNodes.txt')\n",
      "rec_edges = load('reciprocalGraphEdges.txt', 1)\n",
      "print \"Done! :)\""
     ],
     "language": "python",
     "metadata": {},
     "outputs": [
      {
       "output_type": "stream",
       "stream": "stdout",
       "text": [
        "Done! :)\n"
       ]
      }
     ],
     "prompt_number": 23
    },
    {
     "cell_type": "code",
     "collapsed": false,
     "input": [
      "import matplotlib.pyplot as plt\n",
      "import networkx as nx\n",
      "%matplotlib inline\n",
      "\n",
      "\n",
      "non_rec = nx.Graph()\n",
      "non_rec.add_nodes_from(non_nodes)\n",
      "non_rec.add_edges_from(non_edges)\n",
      "\n",
      "rec = nx.Graph()\n",
      "rec.add_nodes_from(rec_nodes)\n",
      "rec.add_edges_from(rec_edges)"
     ],
     "language": "python",
     "metadata": {},
     "outputs": [],
     "prompt_number": 37
    },
    {
     "cell_type": "code",
     "collapsed": false,
     "input": [
      "plt.figure(figsize=(15,13));\n",
      "nx.draw(non_rec)"
     ],
     "language": "python",
     "metadata": {},
     "outputs": [
      {
       "metadata": {},
       "output_type": "display_data",
       "png": "[encoded data removed]",
       "text": [
        "<matplotlib.figure.Figure at 0x115b4950>"
       ]
      }
     ],
     "prompt_number": 27
    },
    {
     "cell_type": "code",
     "collapsed": false,
     "input": [
      "plt.figure(figsize=(15,13));\n",
      "nx.draw(rec) #nx.write_graphml(tg, \"non_reciprocalGraph.graphml\")"
     ],
     "language": "python",
     "metadata": {},
     "outputs": [
      {
       "metadata": {},
       "output_type": "display_data",
       "png": "[encoded data removed]",
       "text": [
        "<matplotlib.figure.Figure at 0x11874b50>"
       ]
      }
     ],
     "prompt_number": 28
    },
    {
     "cell_type": "code",
     "collapsed": false,
     "input": [
      "nx.write_graphml(non_rec, \"non_reciprocalGraphUNDIRECTED.graphml\")\n",
      "nx.write_graphml(rec, \"reciprocalGraphUNDIRECTED.graphml\")"
     ],
     "language": "python",
     "metadata": {},
     "outputs": [],
     "prompt_number": 38
    },
    {
     "cell_type": "code",
     "collapsed": false,
     "input": [
      "print rec.number_of_edges()\n",
      "print rec.number_of_nodes()"
     ],
     "language": "python",
     "metadata": {},
     "outputs": [
      {
       "output_type": "stream",
       "stream": "stdout",
       "text": [
        "4323\n",
        "7978\n"
       ]
      }
     ],
     "prompt_number": 33
    },
    {
     "cell_type": "code",
     "collapsed": false,
     "input": [
      "print nx.average_shortest_path_length(non_rec)"
     ],
     "language": "python",
     "metadata": {},
     "outputs": [
      {
       "ename": "NetworkXError",
       "evalue": "Graph is not connected.",
       "output_type": "pyerr",
       "traceback": [
        "\u001b[1;31m---------------------------------------------------------------------------\u001b[0m\n\u001b[1;31mNetworkXError\u001b[0m                             Traceback (most recent call last)",
        "\u001b[1;32m<ipython-input-32-11324cc93d36>\u001b[0m in \u001b[0;36m<module>\u001b[1;34m()\u001b[0m\n\u001b[1;32m----> 1\u001b[1;33m \u001b[1;32mprint\u001b[0m \u001b[0mnx\u001b[0m\u001b[1;33m.\u001b[0m\u001b[0maverage_shortest_path_length\u001b[0m\u001b[1;33m(\u001b[0m\u001b[0mnon_rec\u001b[0m\u001b[1;33m)\u001b[0m\u001b[1;33m\u001b[0m\u001b[0m\n\u001b[0m",
        "\u001b[1;32mC:\\Anaconda\\lib\\site-packages\\networkx\\algorithms\\shortest_paths\\generic.pyc\u001b[0m in \u001b[0;36maverage_shortest_path_length\u001b[1;34m(G, weight)\u001b[0m\n\u001b[0;32m    294\u001b[0m     \u001b[1;32mif\u001b[0m \u001b[0mG\u001b[0m\u001b[1;33m.\u001b[0m\u001b[0mis_directed\u001b[0m\u001b[1;33m(\u001b[0m\u001b[1;33m)\u001b[0m\u001b[1;33m:\u001b[0m\u001b[1;33m\u001b[0m\u001b[0m\n\u001b[0;32m    295\u001b[0m         \u001b[1;32mif\u001b[0m \u001b[1;32mnot\u001b[0m \u001b[0mnx\u001b[0m\u001b[1;33m.\u001b[0m\u001b[0mis_weakly_connected\u001b[0m\u001b[1;33m(\u001b[0m\u001b[0mG\u001b[0m\u001b[1;33m)\u001b[0m\u001b[1;33m:\u001b[0m\u001b[1;33m\u001b[0m\u001b[0m\n\u001b[1;32m--> 296\u001b[1;33m             \u001b[1;32mraise\u001b[0m \u001b[0mnx\u001b[0m\u001b[1;33m.\u001b[0m\u001b[0mNetworkXError\u001b[0m\u001b[1;33m(\u001b[0m\u001b[1;34m\"Graph is not connected.\"\u001b[0m\u001b[1;33m)\u001b[0m\u001b[1;33m\u001b[0m\u001b[0m\n\u001b[0m\u001b[0;32m    297\u001b[0m     \u001b[1;32melse\u001b[0m\u001b[1;33m:\u001b[0m\u001b[1;33m\u001b[0m\u001b[0m\n\u001b[0;32m    298\u001b[0m         \u001b[1;32mif\u001b[0m \u001b[1;32mnot\u001b[0m \u001b[0mnx\u001b[0m\u001b[1;33m.\u001b[0m\u001b[0mis_connected\u001b[0m\u001b[1;33m(\u001b[0m\u001b[0mG\u001b[0m\u001b[1;33m)\u001b[0m\u001b[1;33m:\u001b[0m\u001b[1;33m\u001b[0m\u001b[0m\n",
        "\u001b[1;31mNetworkXError\u001b[0m: Graph is not connected."
       ]
      }
     ],
     "prompt_number": 32
    },
    {
     "cell_type": "code",
     "collapsed": false,
     "input": [
      "print nx.average_shortest_path_length_for_all(rec)"
     ],
     "language": "python",
     "metadata": {},
     "outputs": [
      {
       "ename": "AttributeError",
       "evalue": "'module' object has no attribute 'average_shortest_path_length_for_all'",
       "output_type": "pyerr",
       "traceback": [
        "\u001b[1;31m---------------------------------------------------------------------------\u001b[0m\n\u001b[1;31mAttributeError\u001b[0m                            Traceback (most recent call last)",
        "\u001b[1;32m<ipython-input-35-d63124f48648>\u001b[0m in \u001b[0;36m<module>\u001b[1;34m()\u001b[0m\n\u001b[1;32m----> 1\u001b[1;33m \u001b[1;32mprint\u001b[0m \u001b[0mnx\u001b[0m\u001b[1;33m.\u001b[0m\u001b[0maverage_shortest_path_length_for_all\u001b[0m\u001b[1;33m(\u001b[0m\u001b[0mrec\u001b[0m\u001b[1;33m)\u001b[0m\u001b[1;33m\u001b[0m\u001b[0m\n\u001b[0m",
        "\u001b[1;31mAttributeError\u001b[0m: 'module' object has no attribute 'average_shortest_path_length_for_all'"
       ]
      }
     ],
     "prompt_number": 35
    },
    {
     "cell_type": "code",
     "collapsed": false,
     "input": [
      "print nx.average_clustering(rec)\n",
      "print nx.average_clustering(non_rec)"
     ],
     "language": "python",
     "metadata": {},
     "outputs": [
      {
       "output_type": "stream",
       "stream": "stdout",
       "text": [
        "0.0\n",
        "0.0"
       ]
      },
      {
       "output_type": "stream",
       "stream": "stdout",
       "text": [
        "\n"
       ]
      }
     ],
     "prompt_number": 40
    },
    {
     "cell_type": "code",
     "collapsed": false,
     "input": [
      "import sentiment_analysis as sa\n",
      "\n",
      "st = sa.SentimentAnalysis(\"classifier.pickle\")"
     ],
     "language": "python",
     "metadata": {},
     "outputs": [
      {
       "output_type": "stream",
       "stream": "stderr",
       "text": [
        "sentiment_analysis.py:50: UnicodeWarning: Unicode equal comparison failed to convert both arguments to Unicode - interpreting them as being unequal\n",
        "  if not i.lower() in stop])\n"
       ]
      }
     ],
     "prompt_number": 1
    },
    {
     "cell_type": "code",
     "collapsed": false,
     "input": [
      "tweets = [\"im happy\", \"im sad\"]\n",
      "result, tweets_sentiment = st.classify_tweets(tweets)"
     ],
     "language": "python",
     "metadata": {},
     "outputs": [
      {
       "output_type": "stream",
       "stream": "stdout",
       "text": [
        "2\n",
        "1\n",
        "0.5\n",
        "1\n",
        "0.5\n"
       ]
      },
      {
       "output_type": "stream",
       "stream": "stderr",
       "text": [
        "C:\\Anaconda\\lib\\site-packages\\nltk\\classify\\naivebayes.py:97: UnicodeWarning: Unicode equal comparison failed to convert both arguments to Unicode - interpreting them as being unequal\n",
        "  if (label, fname) in self._feature_probdist:\n"
       ]
      }
     ],
     "prompt_number": 2
    },
    {
     "cell_type": "code",
     "collapsed": false,
     "input": [
      "print result"
     ],
     "language": "python",
     "metadata": {},
     "outputs": [
      {
       "output_type": "stream",
       "stream": "stdout",
       "text": [
        "['neutral', 1, 1, 0.5, 0.5]\n"
       ]
      }
     ],
     "prompt_number": 3
    },
    {
     "cell_type": "code",
     "collapsed": false,
     "input": [
      "print \"Number of positive tweets: %d\" % result[1]\n",
      "print \"Number of negative tweets: %d\" % result[2]\n",
      "print \"Overall result of the tweets: '%s'\" % result[0]"
     ],
     "language": "python",
     "metadata": {},
     "outputs": [
      {
       "output_type": "stream",
       "stream": "stdout",
       "text": [
        "Number of positive tweets: 1\n",
        "Number of negative tweets: 1\n",
        "Overall result of the tweets: 'neutral'\n"
       ]
      }
     ],
     "prompt_number": 4
    },
    {
     "cell_type": "code",
     "collapsed": false,
     "input": [
      "from twitter_bot import *\n",
      "import pprint\n",
      "#humans = set(list([human[\"id\"] for human in human_users_collection.find()]))\n",
      "#followers = set(twitter_api.followers.ids(screen_name=\"JackBoHorseMan\")[\"ids\"])\n",
      "i = 0\n",
      "List = set()\n",
      "sentiment_result = []\n",
      "tweets_sentiment_result = []\n",
      "for user in rec_tweets_collection.find():\n",
      "    #print user\n",
      "    #List.add(user[\"tweets\"])\n",
      "    if len(user[\"tweets\"]) > 0:\n",
      "        texts = []\n",
      "        print \"Antal -0- : %d\" %len(user[\"tweets\"])\n",
      "        for post in user[\"tweets\"]:\n",
      "            texts.append(post[\"text\"])\n",
      "        tweets = list(set(texts))\n",
      "        \n",
      "        print \"Antal -1- : %d\" %len(tweets)\n",
      "        result, tweets_sentiment = st.classify_tweets(tweets[:50])\n",
      "        sentiment_result.append(result)\n",
      "        tweets_sentiment_result.extend(tweets_sentiment)\n",
      "        \n",
      "        i += 1\n",
      "        #result, tweets_sentiment = st.classify_tweets(user[\"tweets\"])\n",
      "    #if i == 2:\n",
      "    #    break\n",
      "#rec_tweets_collection.find()\n",
      "#print len(queries)"
     ],
     "language": "python",
     "metadata": {},
     "outputs": [
      {
       "output_type": "stream",
       "stream": "stdout",
       "text": [
        "Antal -0- : 957\n",
        "Antal -1- : 886\n",
        "Antal -0- : 530"
       ]
      },
      {
       "output_type": "stream",
       "stream": "stdout",
       "text": [
        "\n",
        "Antal -1- : 526\n",
        "Antal -0- : 80"
       ]
      },
      {
       "output_type": "stream",
       "stream": "stdout",
       "text": [
        "\n",
        "Antal -1- : 76\n",
        "Antal -0- : 850"
       ]
      },
      {
       "output_type": "stream",
       "stream": "stdout",
       "text": [
        "\n",
        "Antal -1- : 844\n",
        "Antal -0- : 1000"
       ]
      },
      {
       "output_type": "stream",
       "stream": "stdout",
       "text": [
        "\n",
        "Antal -1- : 646\n",
        "Antal -0- : 938"
       ]
      },
      {
       "output_type": "stream",
       "stream": "stdout",
       "text": [
        "\n",
        "Antal -1- : 930\n",
        "Antal -0- : 830"
       ]
      },
      {
       "output_type": "stream",
       "stream": "stdout",
       "text": [
        "\n",
        "Antal -1- : 826\n",
        "Antal -0- : 811"
       ]
      },
      {
       "output_type": "stream",
       "stream": "stdout",
       "text": [
        "\n",
        "Antal -1- : 771\n",
        "Antal -0- : 123"
       ]
      },
      {
       "output_type": "stream",
       "stream": "stdout",
       "text": [
        "\n",
        "Antal -1- : 119\n",
        "Antal -0- : 69"
       ]
      },
      {
       "output_type": "stream",
       "stream": "stdout",
       "text": [
        "\n",
        "Antal -1- : 65\n",
        "Antal -0- : 78"
       ]
      },
      {
       "output_type": "stream",
       "stream": "stdout",
       "text": [
        "\n",
        "Antal -1- : 74\n",
        "Antal -0- : 32"
       ]
      },
      {
       "output_type": "stream",
       "stream": "stdout",
       "text": [
        "\n",
        "Antal -1- : 28\n",
        "Antal -0- : 52"
       ]
      },
      {
       "output_type": "stream",
       "stream": "stdout",
       "text": [
        "\n",
        "Antal -1- : 47\n",
        "Antal -0- : 15"
       ]
      },
      {
       "output_type": "stream",
       "stream": "stdout",
       "text": [
        "\n",
        "Antal -1- : 11\n",
        "Antal -0- : 10"
       ]
      },
      {
       "output_type": "stream",
       "stream": "stdout",
       "text": [
        "\n",
        "Antal -1- : 6\n",
        "Antal -0- : 6"
       ]
      },
      {
       "output_type": "stream",
       "stream": "stdout",
       "text": [
        "\n",
        "Antal -1- : 2\n",
        "Antal -0- : 897"
       ]
      },
      {
       "output_type": "stream",
       "stream": "stdout",
       "text": [
        "\n",
        "Antal -1- : 886\n",
        "Antal -0- : 770"
       ]
      },
      {
       "output_type": "stream",
       "stream": "stdout",
       "text": [
        "\n",
        "Antal -1- : 765\n",
        "Antal -0- : 582"
       ]
      },
      {
       "output_type": "stream",
       "stream": "stdout",
       "text": [
        "\n",
        "Antal -1- : 574\n",
        "Antal -0- : 719"
       ]
      },
      {
       "output_type": "stream",
       "stream": "stdout",
       "text": [
        "\n",
        "Antal -1- : 715\n",
        "Antal -0- : 641"
       ]
      },
      {
       "output_type": "stream",
       "stream": "stdout",
       "text": [
        "\n",
        "Antal -1- : 637\n",
        "Antal -0- : 732"
       ]
      },
      {
       "output_type": "stream",
       "stream": "stdout",
       "text": [
        "\n",
        "Antal -1- : 726\n",
        "Antal -0- : 888"
       ]
      },
      {
       "output_type": "stream",
       "stream": "stdout",
       "text": [
        "\n",
        "Antal -1- : 884\n",
        "Antal -0- : 490"
       ]
      },
      {
       "output_type": "stream",
       "stream": "stdout",
       "text": [
        "\n",
        "Antal -1- : 480\n",
        "Antal -0- : 862"
       ]
      },
      {
       "output_type": "stream",
       "stream": "stdout",
       "text": [
        "\n",
        "Antal -1- : 858\n",
        "Antal -0- : 421"
       ]
      },
      {
       "output_type": "stream",
       "stream": "stdout",
       "text": [
        "\n",
        "Antal -1- : 416\n",
        "Antal -0- : 880"
       ]
      },
      {
       "output_type": "stream",
       "stream": "stdout",
       "text": [
        "\n",
        "Antal -1- : 876\n",
        "Antal -0- : 903"
       ]
      },
      {
       "output_type": "stream",
       "stream": "stdout",
       "text": [
        "\n",
        "Antal -1- : 899\n",
        "Antal -0- : 773"
       ]
      },
      {
       "output_type": "stream",
       "stream": "stdout",
       "text": [
        "\n",
        "Antal -1- : 769\n",
        "Antal -0- : 985"
       ]
      },
      {
       "output_type": "stream",
       "stream": "stdout",
       "text": [
        "\n",
        "Antal -1- : 268\n",
        "Antal -0- : 864"
       ]
      },
      {
       "output_type": "stream",
       "stream": "stdout",
       "text": [
        "\n",
        "Antal -1- : 834\n",
        "Antal -0- : 802"
       ]
      },
      {
       "output_type": "stream",
       "stream": "stdout",
       "text": [
        "\n",
        "Antal -1- : 787\n",
        "Antal -0- : 831"
       ]
      },
      {
       "output_type": "stream",
       "stream": "stdout",
       "text": [
        "\n",
        "Antal -1- : 826\n",
        "Antal -0- : 775"
       ]
      },
      {
       "output_type": "stream",
       "stream": "stdout",
       "text": [
        "\n",
        "Antal -1- : 771\n",
        "Antal -0- : 971"
       ]
      },
      {
       "output_type": "stream",
       "stream": "stdout",
       "text": [
        "\n",
        "Antal -1- : 965\n",
        "Antal -0- : 97"
       ]
      },
      {
       "output_type": "stream",
       "stream": "stdout",
       "text": [
        "\n",
        "Antal -1- : 93\n",
        "Antal -0- : 263"
       ]
      },
      {
       "output_type": "stream",
       "stream": "stdout",
       "text": [
        "\n",
        "Antal -1- : 240\n",
        "Antal -0- : 139"
       ]
      },
      {
       "output_type": "stream",
       "stream": "stdout",
       "text": [
        "\n",
        "Antal -1- : 135\n",
        "Antal -0- : 209"
       ]
      },
      {
       "output_type": "stream",
       "stream": "stdout",
       "text": [
        "\n",
        "Antal -1- : 205\n",
        "Antal -0- : 27"
       ]
      },
      {
       "output_type": "stream",
       "stream": "stdout",
       "text": [
        "\n",
        "Antal -1- : 23\n",
        "Antal -0- : 15"
       ]
      },
      {
       "output_type": "stream",
       "stream": "stdout",
       "text": [
        "\n",
        "Antal -1- : 11\n",
        "Antal -0- : 27"
       ]
      },
      {
       "output_type": "stream",
       "stream": "stdout",
       "text": [
        "\n",
        "Antal -1- : 23\n",
        "Antal -0- : 904"
       ]
      },
      {
       "output_type": "stream",
       "stream": "stdout",
       "text": [
        "\n",
        "Antal -1- : 894\n",
        "Antal -0- : 921"
       ]
      },
      {
       "output_type": "stream",
       "stream": "stdout",
       "text": [
        "\n",
        "Antal -1- : 917\n",
        "Antal -0- : 984"
       ]
      },
      {
       "output_type": "stream",
       "stream": "stdout",
       "text": [
        "\n",
        "Antal -1- : 979\n",
        "Antal -0- : 911"
       ]
      },
      {
       "output_type": "stream",
       "stream": "stdout",
       "text": [
        "\n",
        "Antal -1- : 907\n",
        "Antal -0- : 930"
       ]
      },
      {
       "output_type": "stream",
       "stream": "stdout",
       "text": [
        "\n",
        "Antal -1- : 925\n",
        "Antal -0- : 774"
       ]
      },
      {
       "output_type": "stream",
       "stream": "stdout",
       "text": [
        "\n",
        "Antal -1- : 770\n",
        "Antal -0- : 852"
       ]
      },
      {
       "output_type": "stream",
       "stream": "stdout",
       "text": [
        "\n",
        "Antal -1- : 848\n",
        "Antal -0- : 393"
       ]
      },
      {
       "output_type": "stream",
       "stream": "stdout",
       "text": [
        "\n",
        "Antal -1- : 385\n",
        "Antal -0- : 735"
       ]
      },
      {
       "output_type": "stream",
       "stream": "stdout",
       "text": [
        "\n",
        "Antal -1- : 731\n",
        "Antal -0- : 786"
       ]
      },
      {
       "output_type": "stream",
       "stream": "stdout",
       "text": [
        "\n",
        "Antal -1- : 781\n",
        "Antal -0- : 966"
       ]
      },
      {
       "output_type": "stream",
       "stream": "stdout",
       "text": [
        "\n",
        "Antal -1- : 934\n",
        "Antal -0- : 654"
       ]
      },
      {
       "output_type": "stream",
       "stream": "stdout",
       "text": [
        "\n",
        "Antal -1- : 650\n",
        "Antal -0- : 203"
       ]
      },
      {
       "output_type": "stream",
       "stream": "stdout",
       "text": [
        "\n",
        "Antal -1- : 190\n",
        "Antal -0- : 282"
       ]
      },
      {
       "output_type": "stream",
       "stream": "stdout",
       "text": [
        "\n",
        "Antal -1- : 277\n",
        "Antal -0- : 132"
       ]
      },
      {
       "output_type": "stream",
       "stream": "stdout",
       "text": [
        "\n",
        "Antal -1- : 128\n",
        "Antal -0- : 230"
       ]
      },
      {
       "output_type": "stream",
       "stream": "stdout",
       "text": [
        "\n",
        "Antal -1- : 225\n",
        "Antal -0- : 841"
       ]
      },
      {
       "output_type": "stream",
       "stream": "stdout",
       "text": [
        "\n",
        "Antal -1- : 837\n",
        "Antal -0- : 805"
       ]
      },
      {
       "output_type": "stream",
       "stream": "stdout",
       "text": [
        "\n",
        "Antal -1- : 801\n",
        "Antal -0- : 717"
       ]
      },
      {
       "output_type": "stream",
       "stream": "stdout",
       "text": [
        "\n",
        "Antal -1- : 693\n",
        "Antal -0- : 154"
       ]
      },
      {
       "output_type": "stream",
       "stream": "stdout",
       "text": [
        "\n",
        "Antal -1- : 150\n",
        "Antal -0- : 609"
       ]
      },
      {
       "output_type": "stream",
       "stream": "stdout",
       "text": [
        "\n",
        "Antal -1- : 604\n",
        "Antal -0- : 929"
       ]
      },
      {
       "output_type": "stream",
       "stream": "stdout",
       "text": [
        "\n",
        "Antal -1- : 898\n",
        "Antal -0- : 734"
       ]
      },
      {
       "output_type": "stream",
       "stream": "stdout",
       "text": [
        "\n",
        "Antal -1- : 730\n",
        "Antal -0- : 834"
       ]
      },
      {
       "output_type": "stream",
       "stream": "stdout",
       "text": [
        "\n",
        "Antal -1- : 829\n",
        "Antal -0- : 213"
       ]
      },
      {
       "output_type": "stream",
       "stream": "stdout",
       "text": [
        "\n",
        "Antal -1- : 209\n",
        "Antal -0- : 23"
       ]
      },
      {
       "output_type": "stream",
       "stream": "stdout",
       "text": [
        "\n",
        "Antal -1- : 19\n",
        "Antal -0- : 72"
       ]
      },
      {
       "output_type": "stream",
       "stream": "stdout",
       "text": [
        "\n",
        "Antal -1- : 68\n",
        "Antal -0- : 25"
       ]
      },
      {
       "output_type": "stream",
       "stream": "stdout",
       "text": [
        "\n",
        "Antal -1- : 21\n",
        "Antal -0- : 739"
       ]
      },
      {
       "output_type": "stream",
       "stream": "stdout",
       "text": [
        "\n",
        "Antal -1- : 735\n",
        "Antal -0- : 380"
       ]
      },
      {
       "output_type": "stream",
       "stream": "stdout",
       "text": [
        "\n",
        "Antal -1- : 376\n",
        "Antal -0- : 350"
       ]
      },
      {
       "output_type": "stream",
       "stream": "stdout",
       "text": [
        "\n",
        "Antal -1- : 345\n",
        "Antal -0- : 717"
       ]
      },
      {
       "output_type": "stream",
       "stream": "stdout",
       "text": [
        "\n",
        "Antal -1- : 713\n",
        "Antal -0- : 925"
       ]
      },
      {
       "output_type": "stream",
       "stream": "stdout",
       "text": [
        "\n",
        "Antal -1- : 883\n",
        "Antal -0- : 210"
       ]
      },
      {
       "output_type": "stream",
       "stream": "stdout",
       "text": [
        "\n",
        "Antal -1- : 205\n",
        "Antal -0- : 921"
       ]
      },
      {
       "output_type": "stream",
       "stream": "stdout",
       "text": [
        "\n",
        "Antal -1- : 636\n",
        "Antal -0- : 388"
       ]
      },
      {
       "output_type": "stream",
       "stream": "stdout",
       "text": [
        "\n",
        "Antal -1- : 384\n",
        "Antal -0- : 913"
       ]
      },
      {
       "output_type": "stream",
       "stream": "stdout",
       "text": [
        "\n",
        "Antal -1- : 854\n",
        "Antal -0- : 895"
       ]
      },
      {
       "output_type": "stream",
       "stream": "stdout",
       "text": [
        "\n",
        "Antal -1- : 891\n",
        "Antal -0- : 623"
       ]
      },
      {
       "output_type": "stream",
       "stream": "stdout",
       "text": [
        "\n",
        "Antal -1- : 619\n",
        "Antal -0- : 665"
       ]
      },
      {
       "output_type": "stream",
       "stream": "stdout",
       "text": [
        "\n",
        "Antal -1- : 661\n",
        "Antal -0- : 976"
       ]
      },
      {
       "output_type": "stream",
       "stream": "stdout",
       "text": [
        "\n",
        "Antal -1- : 970\n",
        "Antal -0- : 905"
       ]
      },
      {
       "output_type": "stream",
       "stream": "stdout",
       "text": [
        "\n",
        "Antal -1- : 814\n",
        "Antal -0- : 912"
       ]
      },
      {
       "output_type": "stream",
       "stream": "stdout",
       "text": [
        "\n",
        "Antal -1- : 907\n",
        "Antal -0- : 932"
       ]
      },
      {
       "output_type": "stream",
       "stream": "stdout",
       "text": [
        "\n",
        "Antal -1- : 925\n",
        "Antal -0- : 766"
       ]
      },
      {
       "output_type": "stream",
       "stream": "stdout",
       "text": [
        "\n",
        "Antal -1- : 745\n",
        "Antal -0- : 480"
       ]
      },
      {
       "output_type": "stream",
       "stream": "stdout",
       "text": [
        "\n",
        "Antal -1- : 476\n",
        "Antal -0- : 986"
       ]
      },
      {
       "output_type": "stream",
       "stream": "stdout",
       "text": [
        "\n",
        "Antal -1- : 970\n",
        "Antal -0- : 765"
       ]
      },
      {
       "output_type": "stream",
       "stream": "stdout",
       "text": [
        "\n",
        "Antal -1- : 756\n",
        "Antal -0- : 706"
       ]
      },
      {
       "output_type": "stream",
       "stream": "stdout",
       "text": [
        "\n",
        "Antal -1- : 702\n",
        "Antal -0- : 741"
       ]
      },
      {
       "output_type": "stream",
       "stream": "stdout",
       "text": [
        "\n",
        "Antal -1- : 737\n",
        "Antal -0- : 235"
       ]
      },
      {
       "output_type": "stream",
       "stream": "stdout",
       "text": [
        "\n",
        "Antal -1- : 231\n",
        "Antal -0- : 509"
       ]
      },
      {
       "output_type": "stream",
       "stream": "stdout",
       "text": [
        "\n",
        "Antal -1- : 497\n",
        "Antal -0- : 169"
       ]
      },
      {
       "output_type": "stream",
       "stream": "stdout",
       "text": [
        "\n",
        "Antal -1- : 164\n",
        "Antal -0- : 865"
       ]
      },
      {
       "output_type": "stream",
       "stream": "stdout",
       "text": [
        "\n",
        "Antal -1- : 857\n",
        "Antal -0- : 1000"
       ]
      },
      {
       "output_type": "stream",
       "stream": "stdout",
       "text": [
        "\n",
        "Antal -1- : 647\n",
        "Antal -0- : 391"
       ]
      },
      {
       "output_type": "stream",
       "stream": "stdout",
       "text": [
        "\n",
        "Antal -1- : 387\n",
        "Antal -0- : 639"
       ]
      },
      {
       "output_type": "stream",
       "stream": "stdout",
       "text": [
        "\n",
        "Antal -1- : 635\n",
        "Antal -0- : 583"
       ]
      },
      {
       "output_type": "stream",
       "stream": "stdout",
       "text": [
        "\n",
        "Antal -1- : 579\n",
        "Antal -0- : 938"
       ]
      },
      {
       "output_type": "stream",
       "stream": "stdout",
       "text": [
        "\n",
        "Antal -1- : 929\n",
        "Antal -0- : 956"
       ]
      },
      {
       "output_type": "stream",
       "stream": "stdout",
       "text": [
        "\n",
        "Antal -1- : 946\n",
        "Antal -0- : 910"
       ]
      },
      {
       "output_type": "stream",
       "stream": "stdout",
       "text": [
        "\n",
        "Antal -1- : 866\n",
        "Antal -0- : 661"
       ]
      },
      {
       "output_type": "stream",
       "stream": "stdout",
       "text": [
        "\n",
        "Antal -1- : 657\n",
        "Antal -0- : 766"
       ]
      },
      {
       "output_type": "stream",
       "stream": "stdout",
       "text": [
        "\n",
        "Antal -1- : 760\n",
        "Antal -0- : 183"
       ]
      },
      {
       "output_type": "stream",
       "stream": "stdout",
       "text": [
        "\n",
        "Antal -1- : 179\n",
        "Antal -0- : 20"
       ]
      },
      {
       "output_type": "stream",
       "stream": "stdout",
       "text": [
        "\n",
        "Antal -1- : 16\n",
        "Antal -0- : 22"
       ]
      },
      {
       "output_type": "stream",
       "stream": "stdout",
       "text": [
        "\n",
        "Antal -1- : 18\n",
        "Antal -0- : 7"
       ]
      },
      {
       "output_type": "stream",
       "stream": "stdout",
       "text": [
        "\n",
        "Antal -1- : 3\n",
        "Antal -0- : 659"
       ]
      },
      {
       "output_type": "stream",
       "stream": "stdout",
       "text": [
        "\n",
        "Antal -1- : 655\n",
        "Antal -0- : 726"
       ]
      },
      {
       "output_type": "stream",
       "stream": "stdout",
       "text": [
        "\n",
        "Antal -1- : 721\n",
        "Antal -0- : 453"
       ]
      },
      {
       "output_type": "stream",
       "stream": "stdout",
       "text": [
        "\n",
        "Antal -1- : 448\n",
        "Antal -0- : 840"
       ]
      },
      {
       "output_type": "stream",
       "stream": "stdout",
       "text": [
        "\n",
        "Antal -1- : 836\n",
        "Antal -0- : 439"
       ]
      },
      {
       "output_type": "stream",
       "stream": "stdout",
       "text": [
        "\n",
        "Antal -1- : 430\n",
        "Antal -0- : 785"
       ]
      },
      {
       "output_type": "stream",
       "stream": "stdout",
       "text": [
        "\n",
        "Antal -1- : 780\n",
        "Antal -0- : 746"
       ]
      },
      {
       "output_type": "stream",
       "stream": "stdout",
       "text": [
        "\n",
        "Antal -1- : 742\n",
        "Antal -0- : 763"
       ]
      },
      {
       "output_type": "stream",
       "stream": "stdout",
       "text": [
        "\n",
        "Antal -1- : 754\n",
        "Antal -0- : 153"
       ]
      },
      {
       "output_type": "stream",
       "stream": "stdout",
       "text": [
        "\n",
        "Antal -1- : 149\n",
        "Antal -0- : 692"
       ]
      },
      {
       "output_type": "stream",
       "stream": "stdout",
       "text": [
        "\n",
        "Antal -1- : 642\n",
        "Antal -0- : 892"
       ]
      },
      {
       "output_type": "stream",
       "stream": "stdout",
       "text": [
        "\n",
        "Antal -1- : 772\n",
        "Antal -0- : 669"
       ]
      },
      {
       "output_type": "stream",
       "stream": "stdout",
       "text": [
        "\n",
        "Antal -1- : 659\n",
        "Antal -0- : 774"
       ]
      },
      {
       "output_type": "stream",
       "stream": "stdout",
       "text": [
        "\n",
        "Antal -1- : 768\n",
        "Antal -0- : 584"
       ]
      },
      {
       "output_type": "stream",
       "stream": "stdout",
       "text": [
        "\n",
        "Antal -1- : 579\n",
        "Antal -0- : 776"
       ]
      },
      {
       "output_type": "stream",
       "stream": "stdout",
       "text": [
        "\n",
        "Antal -1- : 770\n",
        "Antal -0- : 213"
       ]
      },
      {
       "output_type": "stream",
       "stream": "stdout",
       "text": [
        "\n",
        "Antal -1- : 209\n",
        "Antal -0- : 1000"
       ]
      },
      {
       "output_type": "stream",
       "stream": "stdout",
       "text": [
        "\n",
        "Antal -1- : 522\n",
        "Antal -0- : 824"
       ]
      },
      {
       "output_type": "stream",
       "stream": "stdout",
       "text": [
        "\n",
        "Antal -1- : 818\n",
        "Antal -0- : 938"
       ]
      },
      {
       "output_type": "stream",
       "stream": "stdout",
       "text": [
        "\n",
        "Antal -1- : 934\n",
        "Antal -0- : 889"
       ]
      },
      {
       "output_type": "stream",
       "stream": "stdout",
       "text": [
        "\n",
        "Antal -1- : 885\n",
        "Antal -0- : 839"
       ]
      },
      {
       "output_type": "stream",
       "stream": "stdout",
       "text": [
        "\n",
        "Antal -1- : 829\n",
        "Antal -0- : 470"
       ]
      },
      {
       "output_type": "stream",
       "stream": "stdout",
       "text": [
        "\n",
        "Antal -1- : 466\n",
        "Antal -0- : 953"
       ]
      },
      {
       "output_type": "stream",
       "stream": "stdout",
       "text": [
        "\n",
        "Antal -1- : 949\n",
        "Antal -0- : 986"
       ]
      },
      {
       "output_type": "stream",
       "stream": "stdout",
       "text": [
        "\n",
        "Antal -1- : 970\n",
        "Antal -0- : 578"
       ]
      },
      {
       "output_type": "stream",
       "stream": "stdout",
       "text": [
        "\n",
        "Antal -1- : 574\n",
        "Antal -0- : 846"
       ]
      },
      {
       "output_type": "stream",
       "stream": "stdout",
       "text": [
        "\n",
        "Antal -1- : 842\n",
        "Antal -0- : 85"
       ]
      },
      {
       "output_type": "stream",
       "stream": "stdout",
       "text": [
        "\n",
        "Antal -1- : 81\n",
        "Antal -0- : 319"
       ]
      },
      {
       "output_type": "stream",
       "stream": "stdout",
       "text": [
        "\n",
        "Antal -1- : 312\n",
        "Antal -0- : 293"
       ]
      },
      {
       "output_type": "stream",
       "stream": "stdout",
       "text": [
        "\n",
        "Antal -1- : 283\n",
        "Antal -0- : 379"
       ]
      },
      {
       "output_type": "stream",
       "stream": "stdout",
       "text": [
        "\n",
        "Antal -1- : 375\n",
        "Antal -0- : 695"
       ]
      },
      {
       "output_type": "stream",
       "stream": "stdout",
       "text": [
        "\n",
        "Antal -1- : 689\n",
        "Antal -0- : 750"
       ]
      },
      {
       "output_type": "stream",
       "stream": "stdout",
       "text": [
        "\n",
        "Antal -1- : 744\n",
        "Antal -0- : 708"
       ]
      },
      {
       "output_type": "stream",
       "stream": "stdout",
       "text": [
        "\n",
        "Antal -1- : 704\n",
        "Antal -0- : 982"
       ]
      },
      {
       "output_type": "stream",
       "stream": "stdout",
       "text": [
        "\n",
        "Antal -1- : 970\n",
        "Antal -0- : 1000"
       ]
      },
      {
       "output_type": "stream",
       "stream": "stdout",
       "text": [
        "\n",
        "Antal -1- : 751\n",
        "Antal -0- : 123"
       ]
      },
      {
       "output_type": "stream",
       "stream": "stdout",
       "text": [
        "\n",
        "Antal -1- : 119\n",
        "Antal -0- : 434"
       ]
      },
      {
       "output_type": "stream",
       "stream": "stdout",
       "text": [
        "\n",
        "Antal -1- : 426\n",
        "Antal -0- : 402"
       ]
      },
      {
       "output_type": "stream",
       "stream": "stdout",
       "text": [
        "\n",
        "Antal -1- : 398\n",
        "Antal -0- : 764"
       ]
      },
      {
       "output_type": "stream",
       "stream": "stdout",
       "text": [
        "\n",
        "Antal -1- : 759\n",
        "Antal -0- : 1000"
       ]
      },
      {
       "output_type": "stream",
       "stream": "stdout",
       "text": [
        "\n",
        "Antal -1- : 824\n",
        "Antal -0- : 977"
       ]
      },
      {
       "output_type": "stream",
       "stream": "stdout",
       "text": [
        "\n",
        "Antal -1- : 725\n",
        "Antal -0- : 462"
       ]
      },
      {
       "output_type": "stream",
       "stream": "stdout",
       "text": [
        "\n",
        "Antal -1- : 458\n",
        "Antal -0- : 83"
       ]
      },
      {
       "output_type": "stream",
       "stream": "stdout",
       "text": [
        "\n",
        "Antal -1- : 79\n",
        "Antal -0- : 990"
       ]
      },
      {
       "output_type": "stream",
       "stream": "stdout",
       "text": [
        "\n",
        "Antal -1- : 487\n",
        "Antal -0- : 484"
       ]
      },
      {
       "output_type": "stream",
       "stream": "stdout",
       "text": [
        "\n",
        "Antal -1- : 480\n",
        "Antal -0- : 998"
       ]
      },
      {
       "output_type": "stream",
       "stream": "stdout",
       "text": [
        "\n",
        "Antal -1- : 880\n",
        "Antal -0- : 961"
       ]
      },
      {
       "output_type": "stream",
       "stream": "stdout",
       "text": [
        "\n",
        "Antal -1- : 941\n",
        "Antal -0- : 564"
       ]
      },
      {
       "output_type": "stream",
       "stream": "stdout",
       "text": [
        "\n",
        "Antal -1- : 558\n",
        "Antal -0- : 31"
       ]
      },
      {
       "output_type": "stream",
       "stream": "stdout",
       "text": [
        "\n",
        "Antal -1- : 27\n",
        "Antal -0- : 160"
       ]
      },
      {
       "output_type": "stream",
       "stream": "stdout",
       "text": [
        "\n",
        "Antal -1- : 155\n",
        "Antal -0- : 256"
       ]
      },
      {
       "output_type": "stream",
       "stream": "stdout",
       "text": [
        "\n",
        "Antal -1- : 252\n",
        "Antal -0- : 327"
       ]
      },
      {
       "output_type": "stream",
       "stream": "stdout",
       "text": [
        "\n",
        "Antal -1- : 323\n",
        "Antal -0- : 871"
       ]
      },
      {
       "output_type": "stream",
       "stream": "stdout",
       "text": [
        "\n",
        "Antal -1- : 858\n",
        "Antal -0- : 99"
       ]
      },
      {
       "output_type": "stream",
       "stream": "stdout",
       "text": [
        "\n",
        "Antal -1- : 94\n",
        "Antal -0- : 42"
       ]
      },
      {
       "output_type": "stream",
       "stream": "stdout",
       "text": [
        "\n",
        "Antal -1- : 38\n",
        "Antal -0- : 38"
       ]
      },
      {
       "output_type": "stream",
       "stream": "stdout",
       "text": [
        "\n",
        "Antal -1- : 34\n",
        "Antal -0- : 705"
       ]
      },
      {
       "output_type": "stream",
       "stream": "stdout",
       "text": [
        "\n",
        "Antal -1- : 692\n",
        "Antal -0- : 1000"
       ]
      },
      {
       "output_type": "stream",
       "stream": "stdout",
       "text": [
        "\n",
        "Antal -1- : 569\n",
        "Antal -0- : 500"
       ]
      },
      {
       "output_type": "stream",
       "stream": "stdout",
       "text": [
        "\n",
        "Antal -1- : 493\n",
        "Antal -0- : 471"
       ]
      },
      {
       "output_type": "stream",
       "stream": "stdout",
       "text": [
        "\n",
        "Antal -1- : 467\n",
        "Antal -0- : 792"
       ]
      },
      {
       "output_type": "stream",
       "stream": "stdout",
       "text": [
        "\n",
        "Antal -1- : 785\n",
        "Antal -0- : 972"
       ]
      },
      {
       "output_type": "stream",
       "stream": "stdout",
       "text": [
        "\n",
        "Antal -1- : 947\n",
        "Antal -0- : 471"
       ]
      },
      {
       "output_type": "stream",
       "stream": "stdout",
       "text": [
        "\n",
        "Antal -1- : 465\n",
        "Antal -0- : 842"
       ]
      },
      {
       "output_type": "stream",
       "stream": "stdout",
       "text": [
        "\n",
        "Antal -1- : 835\n",
        "Antal -0- : 713"
       ]
      },
      {
       "output_type": "stream",
       "stream": "stdout",
       "text": [
        "\n",
        "Antal -1- : 648\n",
        "Antal -0- : 126"
       ]
      },
      {
       "output_type": "stream",
       "stream": "stdout",
       "text": [
        "\n",
        "Antal -1- : 122\n",
        "Antal -0- : 518"
       ]
      },
      {
       "output_type": "stream",
       "stream": "stdout",
       "text": [
        "\n",
        "Antal -1- : 514\n",
        "Antal -0- : 62"
       ]
      },
      {
       "output_type": "stream",
       "stream": "stdout",
       "text": [
        "\n",
        "Antal -1- : 58\n",
        "Antal -0- : 986"
       ]
      },
      {
       "output_type": "stream",
       "stream": "stdout",
       "text": [
        "\n",
        "Antal -1- : 968\n",
        "Antal -0- : 869"
       ]
      },
      {
       "output_type": "stream",
       "stream": "stdout",
       "text": [
        "\n",
        "Antal -1- : 863\n",
        "Antal -0- : 918"
       ]
      },
      {
       "output_type": "stream",
       "stream": "stdout",
       "text": [
        "\n",
        "Antal -1- : 913\n",
        "Antal -0- : 992"
       ]
      },
      {
       "output_type": "stream",
       "stream": "stdout",
       "text": [
        "\n",
        "Antal -1- : 988\n",
        "Antal -0- : 122"
       ]
      },
      {
       "output_type": "stream",
       "stream": "stdout",
       "text": [
        "\n",
        "Antal -1- : 118\n",
        "Antal -0- : 363"
       ]
      },
      {
       "output_type": "stream",
       "stream": "stdout",
       "text": [
        "\n",
        "Antal -1- : 359\n",
        "Antal -0- : 90"
       ]
      },
      {
       "output_type": "stream",
       "stream": "stdout",
       "text": [
        "\n",
        "Antal -1- : 81\n",
        "Antal -0- : 528"
       ]
      },
      {
       "output_type": "stream",
       "stream": "stdout",
       "text": [
        "\n",
        "Antal -1- : 521\n",
        "Antal -0- : 1000"
       ]
      },
      {
       "output_type": "stream",
       "stream": "stdout",
       "text": [
        "\n",
        "Antal -1- : 994\n",
        "Antal -0- : 1000"
       ]
      },
      {
       "output_type": "stream",
       "stream": "stdout",
       "text": [
        "\n",
        "Antal -1- : 227\n",
        "Antal -0- : 815"
       ]
      },
      {
       "output_type": "stream",
       "stream": "stdout",
       "text": [
        "\n",
        "Antal -1- : 801\n",
        "Antal -0- : 93"
       ]
      },
      {
       "output_type": "stream",
       "stream": "stdout",
       "text": [
        "\n",
        "Antal -1- : 89\n",
        "Antal -0- : 838"
       ]
      },
      {
       "output_type": "stream",
       "stream": "stdout",
       "text": [
        "\n",
        "Antal -1- : 833\n",
        "Antal -0- : 965"
       ]
      },
      {
       "output_type": "stream",
       "stream": "stdout",
       "text": [
        "\n",
        "Antal -1- : 935\n",
        "Antal -0- : 954"
       ]
      },
      {
       "output_type": "stream",
       "stream": "stdout",
       "text": [
        "\n",
        "Antal -1- : 862\n",
        "Antal -0- : 799"
       ]
      },
      {
       "output_type": "stream",
       "stream": "stdout",
       "text": [
        "\n",
        "Antal -1- : 794\n",
        "Antal -0- : 883"
       ]
      },
      {
       "output_type": "stream",
       "stream": "stdout",
       "text": [
        "\n",
        "Antal -1- : 879\n",
        "Antal -0- : 183"
       ]
      },
      {
       "output_type": "stream",
       "stream": "stdout",
       "text": [
        "\n",
        "Antal -1- : 179\n",
        "Antal -0- : 997"
       ]
      },
      {
       "output_type": "stream",
       "stream": "stdout",
       "text": [
        "\n",
        "Antal -1- : 992\n",
        "Antal -0- : 990"
       ]
      },
      {
       "output_type": "stream",
       "stream": "stdout",
       "text": [
        "\n",
        "Antal -1- : 986\n",
        "Antal -0- : 255"
       ]
      },
      {
       "output_type": "stream",
       "stream": "stdout",
       "text": [
        "\n",
        "Antal -1- : 251\n",
        "Antal -0- : 242"
       ]
      },
      {
       "output_type": "stream",
       "stream": "stdout",
       "text": [
        "\n",
        "Antal -1- : 238\n",
        "Antal -0- : 911"
       ]
      },
      {
       "output_type": "stream",
       "stream": "stdout",
       "text": [
        "\n",
        "Antal -1- : 893\n",
        "Antal -0- : 1000"
       ]
      },
      {
       "output_type": "stream",
       "stream": "stdout",
       "text": [
        "\n",
        "Antal -1- : 703\n",
        "Antal -0- : 982"
       ]
      },
      {
       "output_type": "stream",
       "stream": "stdout",
       "text": [
        "\n",
        "Antal -1- : 977\n",
        "Antal -0- : 868"
       ]
      },
      {
       "output_type": "stream",
       "stream": "stdout",
       "text": [
        "\n",
        "Antal -1- : 864\n",
        "Antal -0- : 943"
       ]
      },
      {
       "output_type": "stream",
       "stream": "stdout",
       "text": [
        "\n",
        "Antal -1- : 938\n",
        "Antal -0- : 812"
       ]
      },
      {
       "output_type": "stream",
       "stream": "stdout",
       "text": [
        "\n",
        "Antal -1- : 808\n",
        "Antal -0- : 359"
       ]
      },
      {
       "output_type": "stream",
       "stream": "stdout",
       "text": [
        "\n",
        "Antal -1- : 355\n",
        "Antal -0- : 763"
       ]
      },
      {
       "output_type": "stream",
       "stream": "stdout",
       "text": [
        "\n",
        "Antal -1- : 759\n",
        "Antal -0- : 724"
       ]
      },
      {
       "output_type": "stream",
       "stream": "stdout",
       "text": [
        "\n",
        "Antal -1- : 720\n",
        "Antal -0- : 415"
       ]
      },
      {
       "output_type": "stream",
       "stream": "stdout",
       "text": [
        "\n",
        "Antal -1- : 408\n",
        "Antal -0- : 670"
       ]
      },
      {
       "output_type": "stream",
       "stream": "stdout",
       "text": [
        "\n",
        "Antal -1- : 666\n",
        "Antal -0- : 361"
       ]
      },
      {
       "output_type": "stream",
       "stream": "stdout",
       "text": [
        "\n",
        "Antal -1- : 350\n",
        "Antal -0- : 477"
       ]
      },
      {
       "output_type": "stream",
       "stream": "stdout",
       "text": [
        "\n",
        "Antal -1- : 469\n",
        "Antal -0- : 386"
       ]
      },
      {
       "output_type": "stream",
       "stream": "stdout",
       "text": [
        "\n",
        "Antal -1- : 382\n",
        "Antal -0- : 783"
       ]
      },
      {
       "output_type": "stream",
       "stream": "stdout",
       "text": [
        "\n",
        "Antal -1- : 779\n",
        "Antal -0- : 656"
       ]
      },
      {
       "output_type": "stream",
       "stream": "stdout",
       "text": [
        "\n",
        "Antal -1- : 652\n",
        "Antal -0- : 938"
       ]
      },
      {
       "output_type": "stream",
       "stream": "stdout",
       "text": [
        "\n",
        "Antal -1- : 924\n",
        "Antal -0- : 972"
       ]
      },
      {
       "output_type": "stream",
       "stream": "stdout",
       "text": [
        "\n",
        "Antal -1- : 924\n",
        "Antal -0- : 792"
       ]
      },
      {
       "output_type": "stream",
       "stream": "stdout",
       "text": [
        "\n",
        "Antal -1- : 786\n",
        "Antal -0- : 840"
       ]
      },
      {
       "output_type": "stream",
       "stream": "stdout",
       "text": [
        "\n",
        "Antal -1- : 771\n",
        "Antal -0- : 800"
       ]
      },
      {
       "output_type": "stream",
       "stream": "stdout",
       "text": [
        "\n",
        "Antal -1- : 794\n",
        "Antal -0- : 578"
       ]
      },
      {
       "output_type": "stream",
       "stream": "stdout",
       "text": [
        "\n",
        "Antal -1- : 573\n",
        "Antal -0- : 89"
       ]
      },
      {
       "output_type": "stream",
       "stream": "stdout",
       "text": [
        "\n",
        "Antal -1- : 85\n",
        "Antal -0- : 893"
       ]
      },
      {
       "output_type": "stream",
       "stream": "stdout",
       "text": [
        "\n",
        "Antal -1- : 888\n",
        "Antal -0- : 693"
       ]
      },
      {
       "output_type": "stream",
       "stream": "stdout",
       "text": [
        "\n",
        "Antal -1- : 685\n",
        "Antal -0- : 965"
       ]
      },
      {
       "output_type": "stream",
       "stream": "stdout",
       "text": [
        "\n",
        "Antal -1- : 956\n",
        "Antal -0- : 298"
       ]
      },
      {
       "output_type": "stream",
       "stream": "stdout",
       "text": [
        "\n",
        "Antal -1- : 274\n",
        "Antal -0- : 438"
       ]
      },
      {
       "output_type": "stream",
       "stream": "stdout",
       "text": [
        "\n",
        "Antal -1- : 420\n",
        "Antal -0- : 45"
       ]
      },
      {
       "output_type": "stream",
       "stream": "stdout",
       "text": [
        "\n",
        "Antal -1- : 41\n",
        "Antal -0- : 80"
       ]
      },
      {
       "output_type": "stream",
       "stream": "stdout",
       "text": [
        "\n",
        "Antal -1- : 76\n",
        "Antal -0- : 101"
       ]
      },
      {
       "output_type": "stream",
       "stream": "stdout",
       "text": [
        "\n",
        "Antal -1- : 97\n",
        "Antal -0- : 55"
       ]
      },
      {
       "output_type": "stream",
       "stream": "stdout",
       "text": [
        "\n",
        "Antal -1- : 51\n",
        "Antal -0- : 57"
       ]
      },
      {
       "output_type": "stream",
       "stream": "stdout",
       "text": [
        "\n",
        "Antal -1- : 53\n",
        "Antal -0- : 51"
       ]
      },
      {
       "output_type": "stream",
       "stream": "stdout",
       "text": [
        "\n",
        "Antal -1- : 47\n",
        "Antal -0- : 19"
       ]
      },
      {
       "output_type": "stream",
       "stream": "stdout",
       "text": [
        "\n",
        "Antal -1- : 15\n",
        "Antal -0- : 838"
       ]
      },
      {
       "output_type": "stream",
       "stream": "stdout",
       "text": [
        "\n",
        "Antal -1- : 828\n",
        "Antal -0- : 935"
       ]
      },
      {
       "output_type": "stream",
       "stream": "stdout",
       "text": [
        "\n",
        "Antal -1- : 909\n",
        "Antal -0- : 976"
       ]
      },
      {
       "output_type": "stream",
       "stream": "stdout",
       "text": [
        "\n",
        "Antal -1- : 689\n",
        "Antal -0- : 792"
       ]
      },
      {
       "output_type": "stream",
       "stream": "stdout",
       "text": [
        "\n",
        "Antal -1- : 773\n",
        "Antal -0- : 681"
       ]
      },
      {
       "output_type": "stream",
       "stream": "stdout",
       "text": [
        "\n",
        "Antal -1- : 670\n",
        "Antal -0- : 727"
       ]
      },
      {
       "output_type": "stream",
       "stream": "stdout",
       "text": [
        "\n",
        "Antal -1- : 723\n",
        "Antal -0- : 984"
       ]
      },
      {
       "output_type": "stream",
       "stream": "stdout",
       "text": [
        "\n",
        "Antal -1- : 875\n",
        "Antal -0- : 975"
       ]
      },
      {
       "output_type": "stream",
       "stream": "stdout",
       "text": [
        "\n",
        "Antal -1- : 960\n",
        "Antal -0- : 846"
       ]
      },
      {
       "output_type": "stream",
       "stream": "stdout",
       "text": [
        "\n",
        "Antal -1- : 839\n",
        "Antal -0- : 835"
       ]
      },
      {
       "output_type": "stream",
       "stream": "stdout",
       "text": [
        "\n",
        "Antal -1- : 818\n",
        "Antal -0- : 323"
       ]
      },
      {
       "output_type": "stream",
       "stream": "stdout",
       "text": [
        "\n",
        "Antal -1- : 319\n",
        "Antal -0- : 1000"
       ]
      },
      {
       "output_type": "stream",
       "stream": "stdout",
       "text": [
        "\n",
        "Antal -1- : 826\n",
        "Antal -0- : 984"
       ]
      },
      {
       "output_type": "stream",
       "stream": "stdout",
       "text": [
        "\n",
        "Antal -1- : 980\n",
        "Antal -0- : 684"
       ]
      },
      {
       "output_type": "stream",
       "stream": "stdout",
       "text": [
        "\n",
        "Antal -1- : 678\n",
        "Antal -0- : 276"
       ]
      },
      {
       "output_type": "stream",
       "stream": "stdout",
       "text": [
        "\n",
        "Antal -1- : 272\n",
        "Antal -0- : 947"
       ]
      },
      {
       "output_type": "stream",
       "stream": "stdout",
       "text": [
        "\n",
        "Antal -1- : 941\n",
        "Antal -0- : 665"
       ]
      },
      {
       "output_type": "stream",
       "stream": "stdout",
       "text": [
        "\n",
        "Antal -1- : 648\n",
        "Antal -0- : 809"
       ]
      },
      {
       "output_type": "stream",
       "stream": "stdout",
       "text": [
        "\n",
        "Antal -1- : 475\n",
        "Antal -0- : 863"
       ]
      },
      {
       "output_type": "stream",
       "stream": "stdout",
       "text": [
        "\n",
        "Antal -1- : 859\n",
        "Antal -0- : 950"
       ]
      },
      {
       "output_type": "stream",
       "stream": "stdout",
       "text": [
        "\n",
        "Antal -1- : 946\n",
        "Antal -0- : 857"
       ]
      },
      {
       "output_type": "stream",
       "stream": "stdout",
       "text": [
        "\n",
        "Antal -1- : 852\n",
        "Antal -0- : 951"
       ]
      },
      {
       "output_type": "stream",
       "stream": "stdout",
       "text": [
        "\n",
        "Antal -1- : 947\n",
        "Antal -0- : 925"
       ]
      },
      {
       "output_type": "stream",
       "stream": "stdout",
       "text": [
        "\n",
        "Antal -1- : 921\n",
        "Antal -0- : 998"
       ]
      },
      {
       "output_type": "stream",
       "stream": "stdout",
       "text": [
        "\n",
        "Antal -1- : 955\n",
        "Antal -0- : 884"
       ]
      },
      {
       "output_type": "stream",
       "stream": "stdout",
       "text": [
        "\n",
        "Antal -1- : 880\n",
        "Antal -0- : 984"
       ]
      },
      {
       "output_type": "stream",
       "stream": "stdout",
       "text": [
        "\n",
        "Antal -1- : 979\n",
        "Antal -0- : 1000"
       ]
      },
      {
       "output_type": "stream",
       "stream": "stdout",
       "text": [
        "\n",
        "Antal -1- : 987\n",
        "Antal -0- : 783"
       ]
      },
      {
       "output_type": "stream",
       "stream": "stdout",
       "text": [
        "\n",
        "Antal -1- : 772\n",
        "Antal -0- : 304"
       ]
      },
      {
       "output_type": "stream",
       "stream": "stdout",
       "text": [
        "\n",
        "Antal -1- : 300\n",
        "Antal -0- : 272"
       ]
      },
      {
       "output_type": "stream",
       "stream": "stdout",
       "text": [
        "\n",
        "Antal -1- : 264\n",
        "Antal -0- : 966"
       ]
      },
      {
       "output_type": "stream",
       "stream": "stdout",
       "text": [
        "\n",
        "Antal -1- : 921\n",
        "Antal -0- : 935"
       ]
      },
      {
       "output_type": "stream",
       "stream": "stdout",
       "text": [
        "\n",
        "Antal -1- : 930\n",
        "Antal -0- : 152"
       ]
      },
      {
       "output_type": "stream",
       "stream": "stdout",
       "text": [
        "\n",
        "Antal -1- : 148\n",
        "Antal -0- : 658"
       ]
      },
      {
       "output_type": "stream",
       "stream": "stdout",
       "text": [
        "\n",
        "Antal -1- : 648\n",
        "Antal -0- : 825"
       ]
      },
      {
       "output_type": "stream",
       "stream": "stdout",
       "text": [
        "\n",
        "Antal -1- : 821\n",
        "Antal -0- : 969"
       ]
      },
      {
       "output_type": "stream",
       "stream": "stdout",
       "text": [
        "\n",
        "Antal -1- : 965\n",
        "Antal -0- : 806"
       ]
      },
      {
       "output_type": "stream",
       "stream": "stdout",
       "text": [
        "\n",
        "Antal -1- : 790\n",
        "Antal -0- : 993"
       ]
      },
      {
       "output_type": "stream",
       "stream": "stdout",
       "text": [
        "\n",
        "Antal -1- : 985\n",
        "Antal -0- : 671"
       ]
      },
      {
       "output_type": "stream",
       "stream": "stdout",
       "text": [
        "\n",
        "Antal -1- : 665\n",
        "Antal -0- : 252"
       ]
      },
      {
       "output_type": "stream",
       "stream": "stdout",
       "text": [
        "\n",
        "Antal -1- : 248\n",
        "Antal -0- : 633"
       ]
      },
      {
       "output_type": "stream",
       "stream": "stdout",
       "text": [
        "\n",
        "Antal -1- : 590\n",
        "Antal -0- : 96"
       ]
      },
      {
       "output_type": "stream",
       "stream": "stdout",
       "text": [
        "\n",
        "Antal -1- : 92\n",
        "Antal -0- : 1000"
       ]
      },
      {
       "output_type": "stream",
       "stream": "stdout",
       "text": [
        "\n",
        "Antal -1- : 996\n",
        "Antal -0- : 551"
       ]
      },
      {
       "output_type": "stream",
       "stream": "stdout",
       "text": [
        "\n",
        "Antal -1- : 547\n",
        "Antal -0- : 807"
       ]
      },
      {
       "output_type": "stream",
       "stream": "stdout",
       "text": [
        "\n",
        "Antal -1- : 713\n",
        "Antal -0- : 445"
       ]
      },
      {
       "output_type": "stream",
       "stream": "stdout",
       "text": [
        "\n",
        "Antal -1- : 440\n",
        "Antal -0- : 699"
       ]
      },
      {
       "output_type": "stream",
       "stream": "stdout",
       "text": [
        "\n",
        "Antal -1- : 666\n",
        "Antal -0- : 1000"
       ]
      },
      {
       "output_type": "stream",
       "stream": "stdout",
       "text": [
        "\n",
        "Antal -1- : 947\n",
        "Antal -0- : 662"
       ]
      },
      {
       "output_type": "stream",
       "stream": "stdout",
       "text": [
        "\n",
        "Antal -1- : 658\n",
        "Antal -0- : 543"
       ]
      },
      {
       "output_type": "stream",
       "stream": "stdout",
       "text": [
        "\n",
        "Antal -1- : 539\n",
        "Antal -0- : 916"
       ]
      },
      {
       "output_type": "stream",
       "stream": "stdout",
       "text": [
        "\n",
        "Antal -1- : 911\n",
        "Antal -0- : 987"
       ]
      },
      {
       "output_type": "stream",
       "stream": "stdout",
       "text": [
        "\n",
        "Antal -1- : 980\n",
        "Antal -0- : 505"
       ]
      },
      {
       "output_type": "stream",
       "stream": "stdout",
       "text": [
        "\n",
        "Antal -1- : 501\n",
        "Antal -0- : 691"
       ]
      },
      {
       "output_type": "stream",
       "stream": "stdout",
       "text": [
        "\n",
        "Antal -1- : 657\n",
        "Antal -0- : 179"
       ]
      },
      {
       "output_type": "stream",
       "stream": "stdout",
       "text": [
        "\n",
        "Antal -1- : 175\n",
        "Antal -0- : 996"
       ]
      },
      {
       "output_type": "stream",
       "stream": "stdout",
       "text": [
        "\n",
        "Antal -1- : 864\n",
        "Antal -0- : 587"
       ]
      },
      {
       "output_type": "stream",
       "stream": "stdout",
       "text": [
        "\n",
        "Antal -1- : 583\n",
        "Antal -0- : 995"
       ]
      },
      {
       "output_type": "stream",
       "stream": "stdout",
       "text": [
        "\n",
        "Antal -1- : 991\n",
        "Antal -0- : 131"
       ]
      },
      {
       "output_type": "stream",
       "stream": "stdout",
       "text": [
        "\n",
        "Antal -1- : 127\n",
        "Antal -0- : 868"
       ]
      },
      {
       "output_type": "stream",
       "stream": "stdout",
       "text": [
        "\n",
        "Antal -1- : 863\n",
        "Antal -0- : 902"
       ]
      },
      {
       "output_type": "stream",
       "stream": "stdout",
       "text": [
        "\n",
        "Antal -1- : 898\n",
        "Antal -0- : 901"
       ]
      },
      {
       "output_type": "stream",
       "stream": "stdout",
       "text": [
        "\n",
        "Antal -1- : 588\n",
        "Antal -0- : 212"
       ]
      },
      {
       "output_type": "stream",
       "stream": "stdout",
       "text": [
        "\n",
        "Antal -1- : 208\n",
        "Antal -0- : 907"
       ]
      },
      {
       "output_type": "stream",
       "stream": "stdout",
       "text": [
        "\n",
        "Antal -1- : 891\n",
        "Antal -0- : 1000"
       ]
      },
      {
       "output_type": "stream",
       "stream": "stdout",
       "text": [
        "\n",
        "Antal -1- : 680\n",
        "Antal -0- : 788"
       ]
      },
      {
       "output_type": "stream",
       "stream": "stdout",
       "text": [
        "\n",
        "Antal -1- : 628\n",
        "Antal -0- : 602"
       ]
      },
      {
       "output_type": "stream",
       "stream": "stdout",
       "text": [
        "\n",
        "Antal -1- : 598\n",
        "Antal -0- : 227"
       ]
      },
      {
       "output_type": "stream",
       "stream": "stdout",
       "text": [
        "\n",
        "Antal -1- : 223\n",
        "Antal -0- : 861"
       ]
      },
      {
       "output_type": "stream",
       "stream": "stdout",
       "text": [
        "\n",
        "Antal -1- : 857\n",
        "Antal -0- : 896"
       ]
      },
      {
       "output_type": "stream",
       "stream": "stdout",
       "text": [
        "\n",
        "Antal -1- : 892\n",
        "Antal -0- : 982"
       ]
      },
      {
       "output_type": "stream",
       "stream": "stdout",
       "text": [
        "\n",
        "Antal -1- : 978\n",
        "Antal -0- : 999"
       ]
      },
      {
       "output_type": "stream",
       "stream": "stdout",
       "text": [
        "\n",
        "Antal -1- : 663\n",
        "Antal -0- : 671"
       ]
      },
      {
       "output_type": "stream",
       "stream": "stdout",
       "text": [
        "\n",
        "Antal -1- : 661\n",
        "Antal -0- : 468"
       ]
      },
      {
       "output_type": "stream",
       "stream": "stdout",
       "text": [
        "\n",
        "Antal -1- : 464\n",
        "Antal -0- : 751"
       ]
      },
      {
       "output_type": "stream",
       "stream": "stdout",
       "text": [
        "\n",
        "Antal -1- : 746\n",
        "Antal -0- : 985"
       ]
      },
      {
       "output_type": "stream",
       "stream": "stdout",
       "text": [
        "\n",
        "Antal -1- : 978\n",
        "Antal -0- : 151"
       ]
      },
      {
       "output_type": "stream",
       "stream": "stdout",
       "text": [
        "\n",
        "Antal -1- : 147\n",
        "Antal -0- : 916"
       ]
      },
      {
       "output_type": "stream",
       "stream": "stdout",
       "text": [
        "\n",
        "Antal -1- : 911\n",
        "Antal -0- : 294"
       ]
      },
      {
       "output_type": "stream",
       "stream": "stdout",
       "text": [
        "\n",
        "Antal -1- : 290\n",
        "Antal -0- : 737"
       ]
      },
      {
       "output_type": "stream",
       "stream": "stdout",
       "text": [
        "\n",
        "Antal -1- : 659\n",
        "Antal -0- : 353"
       ]
      },
      {
       "output_type": "stream",
       "stream": "stdout",
       "text": [
        "\n",
        "Antal -1- : 309\n",
        "Antal -0- : 406"
       ]
      },
      {
       "output_type": "stream",
       "stream": "stdout",
       "text": [
        "\n",
        "Antal -1- : 386\n",
        "Antal -0- : 1000"
       ]
      },
      {
       "output_type": "stream",
       "stream": "stdout",
       "text": [
        "\n",
        "Antal -1- : 949\n",
        "Antal -0- : 547"
       ]
      },
      {
       "output_type": "stream",
       "stream": "stdout",
       "text": [
        "\n",
        "Antal -1- : 543\n",
        "Antal -0- : 540"
       ]
      },
      {
       "output_type": "stream",
       "stream": "stdout",
       "text": [
        "\n",
        "Antal -1- : 532\n",
        "Antal -0- : 55"
       ]
      },
      {
       "output_type": "stream",
       "stream": "stdout",
       "text": [
        "\n",
        "Antal -1- : 51\n",
        "Antal -0- : 125"
       ]
      },
      {
       "output_type": "stream",
       "stream": "stdout",
       "text": [
        "\n",
        "Antal -1- : 121\n",
        "Antal -0- : 38"
       ]
      },
      {
       "output_type": "stream",
       "stream": "stdout",
       "text": [
        "\n",
        "Antal -1- : 34\n",
        "Antal -0- : 969"
       ]
      },
      {
       "output_type": "stream",
       "stream": "stdout",
       "text": [
        "\n",
        "Antal -1- : 963\n",
        "Antal -0- : 836"
       ]
      },
      {
       "output_type": "stream",
       "stream": "stdout",
       "text": [
        "\n",
        "Antal -1- : 832\n",
        "Antal -0- : 962"
       ]
      },
      {
       "output_type": "stream",
       "stream": "stdout",
       "text": [
        "\n",
        "Antal -1- : 953\n",
        "Antal -0- : 950"
       ]
      },
      {
       "output_type": "stream",
       "stream": "stdout",
       "text": [
        "\n",
        "Antal -1- : 926\n",
        "Antal -0- : 749"
       ]
      },
      {
       "output_type": "stream",
       "stream": "stdout",
       "text": [
        "\n",
        "Antal -1- : 649\n",
        "Antal -0- : 529"
       ]
      },
      {
       "output_type": "stream",
       "stream": "stdout",
       "text": [
        "\n",
        "Antal -1- : 525\n",
        "Antal -0- : 784"
       ]
      },
      {
       "output_type": "stream",
       "stream": "stdout",
       "text": [
        "\n",
        "Antal -1- : 780\n",
        "Antal -0- : 527"
       ]
      },
      {
       "output_type": "stream",
       "stream": "stdout",
       "text": [
        "\n",
        "Antal -1- : 523\n",
        "Antal -0- : 908"
       ]
      },
      {
       "output_type": "stream",
       "stream": "stdout",
       "text": [
        "\n",
        "Antal -1- : 879\n",
        "Antal -0- : 595"
       ]
      },
      {
       "output_type": "stream",
       "stream": "stdout",
       "text": [
        "\n",
        "Antal -1- : 591\n",
        "Antal -0- : 639"
       ]
      },
      {
       "output_type": "stream",
       "stream": "stdout",
       "text": [
        "\n",
        "Antal -1- : 612\n",
        "Antal -0- : 879"
       ]
      },
      {
       "output_type": "stream",
       "stream": "stdout",
       "text": [
        "\n",
        "Antal -1- : 873\n",
        "Antal -0- : 544"
       ]
      },
      {
       "output_type": "stream",
       "stream": "stdout",
       "text": [
        "\n",
        "Antal -1- : 540\n",
        "Antal -0- : 946"
       ]
      },
      {
       "output_type": "stream",
       "stream": "stdout",
       "text": [
        "\n",
        "Antal -1- : 939\n",
        "Antal -0- : 983"
       ]
      },
      {
       "output_type": "stream",
       "stream": "stdout",
       "text": [
        "\n",
        "Antal -1- : 978\n",
        "Antal -0- : 805"
       ]
      },
      {
       "output_type": "stream",
       "stream": "stdout",
       "text": [
        "\n",
        "Antal -1- : 797\n",
        "Antal -0- : 800"
       ]
      },
      {
       "output_type": "stream",
       "stream": "stdout",
       "text": [
        "\n",
        "Antal -1- : 785\n",
        "Antal -0- : 737"
       ]
      },
      {
       "output_type": "stream",
       "stream": "stdout",
       "text": [
        "\n",
        "Antal -1- : 731\n",
        "Antal -0- : 884"
       ]
      },
      {
       "output_type": "stream",
       "stream": "stdout",
       "text": [
        "\n",
        "Antal -1- : 880\n",
        "Antal -0- : 722"
       ]
      },
      {
       "output_type": "stream",
       "stream": "stdout",
       "text": [
        "\n",
        "Antal -1- : 709\n",
        "Antal -0- : 883"
       ]
      },
      {
       "output_type": "stream",
       "stream": "stdout",
       "text": [
        "\n",
        "Antal -1- : 873\n",
        "Antal -0- : 992"
       ]
      },
      {
       "output_type": "stream",
       "stream": "stdout",
       "text": [
        "\n",
        "Antal -1- : 966\n",
        "Antal -0- : 403"
       ]
      },
      {
       "output_type": "stream",
       "stream": "stdout",
       "text": [
        "\n",
        "Antal -1- : 399\n",
        "Antal -0- : 751"
       ]
      },
      {
       "output_type": "stream",
       "stream": "stdout",
       "text": [
        "\n",
        "Antal -1- : 747\n",
        "Antal -0- : 839"
       ]
      },
      {
       "output_type": "stream",
       "stream": "stdout",
       "text": [
        "\n",
        "Antal -1- : 834\n",
        "Antal -0- : 841"
       ]
      },
      {
       "output_type": "stream",
       "stream": "stdout",
       "text": [
        "\n",
        "Antal -1- : 834\n",
        "Antal -0- : 976"
       ]
      },
      {
       "output_type": "stream",
       "stream": "stdout",
       "text": [
        "\n",
        "Antal -1- : 972\n",
        "Antal -0- : 941"
       ]
      },
      {
       "output_type": "stream",
       "stream": "stdout",
       "text": [
        "\n",
        "Antal -1- : 893\n",
        "Antal -0- : 211"
       ]
      },
      {
       "output_type": "stream",
       "stream": "stdout",
       "text": [
        "\n",
        "Antal -1- : 207\n",
        "Antal -0- : 824"
       ]
      },
      {
       "output_type": "stream",
       "stream": "stdout",
       "text": [
        "\n",
        "Antal -1- : 820\n",
        "Antal -0- : 648"
       ]
      },
      {
       "output_type": "stream",
       "stream": "stdout",
       "text": [
        "\n",
        "Antal -1- : 643\n",
        "Antal -0- : 729"
       ]
      },
      {
       "output_type": "stream",
       "stream": "stdout",
       "text": [
        "\n",
        "Antal -1- : 725\n",
        "Antal -0- : 881"
       ]
      },
      {
       "output_type": "stream",
       "stream": "stdout",
       "text": [
        "\n",
        "Antal -1- : 821\n",
        "Antal -0- : 880"
       ]
      },
      {
       "output_type": "stream",
       "stream": "stdout",
       "text": [
        "\n",
        "Antal -1- : 876\n",
        "Antal -0- : 172"
       ]
      },
      {
       "output_type": "stream",
       "stream": "stdout",
       "text": [
        "\n",
        "Antal -1- : 168\n",
        "Antal -0- : 807"
       ]
      },
      {
       "output_type": "stream",
       "stream": "stdout",
       "text": [
        "\n",
        "Antal -1- : 803\n",
        "Antal -0- : 974"
       ]
      },
      {
       "output_type": "stream",
       "stream": "stdout",
       "text": [
        "\n",
        "Antal -1- : 970\n",
        "Antal -0- : 515"
       ]
      },
      {
       "output_type": "stream",
       "stream": "stdout",
       "text": [
        "\n",
        "Antal -1- : 510\n",
        "Antal -0- : 194"
       ]
      },
      {
       "output_type": "stream",
       "stream": "stdout",
       "text": [
        "\n",
        "Antal -1- : 190\n",
        "Antal -0- : 578"
       ]
      },
      {
       "output_type": "stream",
       "stream": "stdout",
       "text": [
        "\n",
        "Antal -1- : 573\n",
        "Antal -0- : 921"
       ]
      },
      {
       "output_type": "stream",
       "stream": "stdout",
       "text": [
        "\n",
        "Antal -1- : 913\n",
        "Antal -0- : 903"
       ]
      },
      {
       "output_type": "stream",
       "stream": "stdout",
       "text": [
        "\n",
        "Antal -1- : 899\n",
        "Antal -0- : 128"
       ]
      },
      {
       "output_type": "stream",
       "stream": "stdout",
       "text": [
        "\n",
        "Antal -1- : 124\n",
        "Antal -0- : 835"
       ]
      },
      {
       "output_type": "stream",
       "stream": "stdout",
       "text": [
        "\n",
        "Antal -1- : 831\n",
        "Antal -0- : 299"
       ]
      },
      {
       "output_type": "stream",
       "stream": "stdout",
       "text": [
        "\n",
        "Antal -1- : 295\n",
        "Antal -0- : 941"
       ]
      },
      {
       "output_type": "stream",
       "stream": "stdout",
       "text": [
        "\n",
        "Antal -1- : 744\n",
        "Antal -0- : 995"
       ]
      },
      {
       "output_type": "stream",
       "stream": "stdout",
       "text": [
        "\n",
        "Antal -1- : 977\n",
        "Antal -0- : 653"
       ]
      },
      {
       "output_type": "stream",
       "stream": "stdout",
       "text": [
        "\n",
        "Antal -1- : 479\n",
        "Antal -0- : 994"
       ]
      },
      {
       "output_type": "stream",
       "stream": "stdout",
       "text": [
        "\n",
        "Antal -1- : 990\n",
        "Antal -0- : 825"
       ]
      },
      {
       "output_type": "stream",
       "stream": "stdout",
       "text": [
        "\n",
        "Antal -1- : 821\n",
        "Antal -0- : 924"
       ]
      },
      {
       "output_type": "stream",
       "stream": "stdout",
       "text": [
        "\n",
        "Antal -1- : 920\n",
        "Antal -0- : 227"
       ]
      },
      {
       "output_type": "stream",
       "stream": "stdout",
       "text": [
        "\n",
        "Antal -1- : 197\n",
        "Antal -0- : 923"
       ]
      },
      {
       "output_type": "stream",
       "stream": "stdout",
       "text": [
        "\n",
        "Antal -1- : 919\n",
        "Antal -0- : 894"
       ]
      },
      {
       "output_type": "stream",
       "stream": "stdout",
       "text": [
        "\n",
        "Antal -1- : 822\n",
        "Antal -0- : 985"
       ]
      },
      {
       "output_type": "stream",
       "stream": "stdout",
       "text": [
        "\n",
        "Antal -1- : 743\n",
        "Antal -0- : 769"
       ]
      },
      {
       "output_type": "stream",
       "stream": "stdout",
       "text": [
        "\n",
        "Antal -1- : 765\n",
        "Antal -0- : 696"
       ]
      },
      {
       "output_type": "stream",
       "stream": "stdout",
       "text": [
        "\n",
        "Antal -1- : 647\n",
        "Antal -0- : 406"
       ]
      },
      {
       "output_type": "stream",
       "stream": "stdout",
       "text": [
        "\n",
        "Antal -1- : 400\n",
        "Antal -0- : 656"
       ]
      },
      {
       "output_type": "stream",
       "stream": "stdout",
       "text": [
        "\n",
        "Antal -1- : 642\n",
        "Antal -0- : 948"
       ]
      },
      {
       "output_type": "stream",
       "stream": "stdout",
       "text": [
        "\n",
        "Antal -1- : 828\n",
        "Antal -0- : 430"
       ]
      },
      {
       "output_type": "stream",
       "stream": "stdout",
       "text": [
        "\n",
        "Antal -1- : 426\n",
        "Antal -0- : 695"
       ]
      },
      {
       "output_type": "stream",
       "stream": "stdout",
       "text": [
        "\n",
        "Antal -1- : 690\n",
        "Antal -0- : 721"
       ]
      },
      {
       "output_type": "stream",
       "stream": "stdout",
       "text": [
        "\n",
        "Antal -1- : 714\n",
        "Antal -0- : 601"
       ]
      },
      {
       "output_type": "stream",
       "stream": "stdout",
       "text": [
        "\n",
        "Antal -1- : 594\n",
        "Antal -0- : 930"
       ]
      },
      {
       "output_type": "stream",
       "stream": "stdout",
       "text": [
        "\n",
        "Antal -1- : 926\n",
        "Antal -0- : 860"
       ]
      },
      {
       "output_type": "stream",
       "stream": "stdout",
       "text": [
        "\n",
        "Antal -1- : 850\n",
        "Antal -0- : 996"
       ]
      },
      {
       "output_type": "stream",
       "stream": "stdout",
       "text": [
        "\n",
        "Antal -1- : 984\n",
        "Antal -0- : 994"
       ]
      },
      {
       "output_type": "stream",
       "stream": "stdout",
       "text": [
        "\n",
        "Antal -1- : 986\n",
        "Antal -0- : 928"
       ]
      },
      {
       "output_type": "stream",
       "stream": "stdout",
       "text": [
        "\n",
        "Antal -1- : 922\n",
        "Antal -0- : 220"
       ]
      },
      {
       "output_type": "stream",
       "stream": "stdout",
       "text": [
        "\n",
        "Antal -1- : 215\n",
        "Antal -0- : 154"
       ]
      },
      {
       "output_type": "stream",
       "stream": "stdout",
       "text": [
        "\n",
        "Antal -1- : 150\n",
        "Antal -0- : 985"
       ]
      },
      {
       "output_type": "stream",
       "stream": "stdout",
       "text": [
        "\n",
        "Antal -1- : 980\n",
        "Antal -0- : 135"
       ]
      },
      {
       "output_type": "stream",
       "stream": "stdout",
       "text": [
        "\n",
        "Antal -1- : 129\n",
        "Antal -0- : 227"
       ]
      },
      {
       "output_type": "stream",
       "stream": "stdout",
       "text": [
        "\n",
        "Antal -1- : 223\n",
        "Antal -0- : 931"
       ]
      },
      {
       "output_type": "stream",
       "stream": "stdout",
       "text": [
        "\n",
        "Antal -1- : 923\n",
        "Antal -0- : 604"
       ]
      },
      {
       "output_type": "stream",
       "stream": "stdout",
       "text": [
        "\n",
        "Antal -1- : 600\n",
        "Antal -0- : 473"
       ]
      },
      {
       "output_type": "stream",
       "stream": "stdout",
       "text": [
        "\n",
        "Antal -1- : 469\n",
        "Antal -0- : 913"
       ]
      },
      {
       "output_type": "stream",
       "stream": "stdout",
       "text": [
        "\n",
        "Antal -1- : 909\n",
        "Antal -0- : 88"
       ]
      },
      {
       "output_type": "stream",
       "stream": "stdout",
       "text": [
        "\n",
        "Antal -1- : 84\n",
        "Antal -0- : 919"
       ]
      },
      {
       "output_type": "stream",
       "stream": "stdout",
       "text": [
        "\n",
        "Antal -1- : 915\n",
        "Antal -0- : 999"
       ]
      },
      {
       "output_type": "stream",
       "stream": "stdout",
       "text": [
        "\n",
        "Antal -1- : 995\n",
        "Antal -0- : 76"
       ]
      },
      {
       "output_type": "stream",
       "stream": "stdout",
       "text": [
        "\n",
        "Antal -1- : 72\n",
        "Antal -0- : 781"
       ]
      },
      {
       "output_type": "stream",
       "stream": "stdout",
       "text": [
        "\n",
        "Antal -1- : 776\n",
        "Antal -0- : 487"
       ]
      },
      {
       "output_type": "stream",
       "stream": "stdout",
       "text": [
        "\n",
        "Antal -1- : 483\n",
        "Antal -0- : 783"
       ]
      },
      {
       "output_type": "stream",
       "stream": "stdout",
       "text": [
        "\n",
        "Antal -1- : 779\n",
        "Antal -0- : 846"
       ]
      },
      {
       "output_type": "stream",
       "stream": "stdout",
       "text": [
        "\n",
        "Antal -1- : 838\n",
        "Antal -0- : 36"
       ]
      },
      {
       "output_type": "stream",
       "stream": "stdout",
       "text": [
        "\n",
        "Antal -1- : 32\n",
        "Antal -0- : 254"
       ]
      },
      {
       "output_type": "stream",
       "stream": "stdout",
       "text": [
        "\n",
        "Antal -1- : 250\n",
        "Antal -0- : 688"
       ]
      },
      {
       "output_type": "stream",
       "stream": "stdout",
       "text": [
        "\n",
        "Antal -1- : 683\n",
        "Antal -0- : 838"
       ]
      },
      {
       "output_type": "stream",
       "stream": "stdout",
       "text": [
        "\n",
        "Antal -1- : 743\n",
        "Antal -0- : 999"
       ]
      },
      {
       "output_type": "stream",
       "stream": "stdout",
       "text": [
        "\n",
        "Antal -1- : 916\n",
        "Antal -0- : 786"
       ]
      },
      {
       "output_type": "stream",
       "stream": "stdout",
       "text": [
        "\n",
        "Antal -1- : 782\n",
        "Antal -0- : 603"
       ]
      },
      {
       "output_type": "stream",
       "stream": "stdout",
       "text": [
        "\n",
        "Antal -1- : 467\n",
        "Antal -0- : 910"
       ]
      },
      {
       "output_type": "stream",
       "stream": "stdout",
       "text": [
        "\n",
        "Antal -1- : 906\n",
        "Antal -0- : 437"
       ]
      },
      {
       "output_type": "stream",
       "stream": "stdout",
       "text": [
        "\n",
        "Antal -1- : 430\n",
        "Antal -0- : 76"
       ]
      },
      {
       "output_type": "stream",
       "stream": "stdout",
       "text": [
        "\n",
        "Antal -1- : 71\n",
        "Antal -0- : 332"
       ]
      },
      {
       "output_type": "stream",
       "stream": "stdout",
       "text": [
        "\n",
        "Antal -1- : 327\n",
        "Antal -0- : 943"
       ]
      },
      {
       "output_type": "stream",
       "stream": "stdout",
       "text": [
        "\n",
        "Antal -1- : 939\n",
        "Antal -0- : 957"
       ]
      },
      {
       "output_type": "stream",
       "stream": "stdout",
       "text": [
        "\n",
        "Antal -1- : 951\n",
        "Antal -0- : 341"
       ]
      },
      {
       "output_type": "stream",
       "stream": "stdout",
       "text": [
        "\n",
        "Antal -1- : 337\n",
        "Antal -0- : 881"
       ]
      },
      {
       "output_type": "stream",
       "stream": "stdout",
       "text": [
        "\n",
        "Antal -1- : 756\n",
        "Antal -0- : 835"
       ]
      },
      {
       "output_type": "stream",
       "stream": "stdout",
       "text": [
        "\n",
        "Antal -1- : 831\n",
        "Antal -0- : 974"
       ]
      },
      {
       "output_type": "stream",
       "stream": "stdout",
       "text": [
        "\n",
        "Antal -1- : 951\n",
        "Antal -0- : 865"
       ]
      },
      {
       "output_type": "stream",
       "stream": "stdout",
       "text": [
        "\n",
        "Antal -1- : 821\n",
        "Antal -0- : 709"
       ]
      },
      {
       "output_type": "stream",
       "stream": "stdout",
       "text": [
        "\n",
        "Antal -1- : 696\n",
        "Antal -0- : 155"
       ]
      },
      {
       "output_type": "stream",
       "stream": "stdout",
       "text": [
        "\n",
        "Antal -1- : 150\n",
        "Antal -0- : 693"
       ]
      },
      {
       "output_type": "stream",
       "stream": "stdout",
       "text": [
        "\n",
        "Antal -1- : 689\n",
        "Antal -0- : 455"
       ]
      },
      {
       "output_type": "stream",
       "stream": "stdout",
       "text": [
        "\n",
        "Antal -1- : 451\n",
        "Antal -0- : 782"
       ]
      },
      {
       "output_type": "stream",
       "stream": "stdout",
       "text": [
        "\n",
        "Antal -1- : 778\n",
        "Antal -0- : 563"
       ]
      },
      {
       "output_type": "stream",
       "stream": "stdout",
       "text": [
        "\n",
        "Antal -1- : 559\n",
        "Antal -0- : 787"
       ]
      },
      {
       "output_type": "stream",
       "stream": "stdout",
       "text": [
        "\n",
        "Antal -1- : 783\n",
        "Antal -0- : 51"
       ]
      },
      {
       "output_type": "stream",
       "stream": "stdout",
       "text": [
        "\n",
        "Antal -1- : 47\n",
        "Antal -0- : 535"
       ]
      },
      {
       "output_type": "stream",
       "stream": "stdout",
       "text": [
        "\n",
        "Antal -1- : 531\n",
        "Antal -0- : 868"
       ]
      },
      {
       "output_type": "stream",
       "stream": "stdout",
       "text": [
        "\n",
        "Antal -1- : 802\n",
        "Antal -0- : 628"
       ]
      },
      {
       "output_type": "stream",
       "stream": "stdout",
       "text": [
        "\n",
        "Antal -1- : 623\n",
        "Antal -0- : 506"
       ]
      },
      {
       "output_type": "stream",
       "stream": "stdout",
       "text": [
        "\n",
        "Antal -1- : 502\n",
        "Antal -0- : 509"
       ]
      },
      {
       "output_type": "stream",
       "stream": "stdout",
       "text": [
        "\n",
        "Antal -1- : 505\n",
        "Antal -0- : 994"
       ]
      },
      {
       "output_type": "stream",
       "stream": "stdout",
       "text": [
        "\n",
        "Antal -1- : 989\n",
        "Antal -0- : 996"
       ]
      },
      {
       "output_type": "stream",
       "stream": "stdout",
       "text": [
        "\n",
        "Antal -1- : 846\n",
        "Antal -0- : 511"
       ]
      },
      {
       "output_type": "stream",
       "stream": "stdout",
       "text": [
        "\n",
        "Antal -1- : 162\n",
        "Antal -0- : 122"
       ]
      },
      {
       "output_type": "stream",
       "stream": "stdout",
       "text": [
        "\n",
        "Antal -1- : 118\n",
        "Antal -0- : 644"
       ]
      },
      {
       "output_type": "stream",
       "stream": "stdout",
       "text": [
        "\n",
        "Antal -1- : 631\n",
        "Antal -0- : 455"
       ]
      },
      {
       "output_type": "stream",
       "stream": "stdout",
       "text": [
        "\n",
        "Antal -1- : 451\n",
        "Antal -0- : 846"
       ]
      },
      {
       "output_type": "stream",
       "stream": "stdout",
       "text": [
        "\n",
        "Antal -1- : 842\n",
        "Antal -0- : 147"
       ]
      },
      {
       "output_type": "stream",
       "stream": "stdout",
       "text": [
        "\n",
        "Antal -1- : 143\n",
        "Antal -0- : 46"
       ]
      },
      {
       "output_type": "stream",
       "stream": "stdout",
       "text": [
        "\n",
        "Antal -1- : 42\n",
        "Antal -0- : 75"
       ]
      },
      {
       "output_type": "stream",
       "stream": "stdout",
       "text": [
        "\n",
        "Antal -1- : 70\n",
        "Antal -0- : 986"
       ]
      },
      {
       "output_type": "stream",
       "stream": "stdout",
       "text": [
        "\n",
        "Antal -1- : 982\n",
        "Antal -0- : 973"
       ]
      },
      {
       "output_type": "stream",
       "stream": "stdout",
       "text": [
        "\n",
        "Antal -1- : 965\n",
        "Antal -0- : 816"
       ]
      },
      {
       "output_type": "stream",
       "stream": "stdout",
       "text": [
        "\n",
        "Antal -1- : 812\n",
        "Antal -0- : 1000"
       ]
      },
      {
       "output_type": "stream",
       "stream": "stdout",
       "text": [
        "\n",
        "Antal -1- : 768\n",
        "Antal -0- : 356"
       ]
      },
      {
       "output_type": "stream",
       "stream": "stdout",
       "text": [
        "\n",
        "Antal -1- : 352\n",
        "Antal -0- : 870"
       ]
      },
      {
       "output_type": "stream",
       "stream": "stdout",
       "text": [
        "\n",
        "Antal -1- : 864\n",
        "Antal -0- : 370"
       ]
      },
      {
       "output_type": "stream",
       "stream": "stdout",
       "text": [
        "\n",
        "Antal -1- : 366\n",
        "Antal -0- : 520"
       ]
      },
      {
       "output_type": "stream",
       "stream": "stdout",
       "text": [
        "\n",
        "Antal -1- : 516\n",
        "Antal -0- : 1000"
       ]
      },
      {
       "output_type": "stream",
       "stream": "stdout",
       "text": [
        "\n",
        "Antal -1- : 835\n",
        "Antal -0- : 885"
       ]
      },
      {
       "output_type": "stream",
       "stream": "stdout",
       "text": [
        "\n",
        "Antal -1- : 880\n",
        "Antal -0- : 616"
       ]
      },
      {
       "output_type": "stream",
       "stream": "stdout",
       "text": [
        "\n",
        "Antal -1- : 604\n",
        "Antal -0- : 629"
       ]
      },
      {
       "output_type": "stream",
       "stream": "stdout",
       "text": [
        "\n",
        "Antal -1- : 623\n",
        "Antal -0- : 238"
       ]
      },
      {
       "output_type": "stream",
       "stream": "stdout",
       "text": [
        "\n",
        "Antal -1- : 234\n",
        "Antal -0- : 653"
       ]
      },
      {
       "output_type": "stream",
       "stream": "stdout",
       "text": [
        "\n",
        "Antal -1- : 647\n",
        "Antal -0- : 675"
       ]
      },
      {
       "output_type": "stream",
       "stream": "stdout",
       "text": [
        "\n",
        "Antal -1- : 671\n",
        "Antal -0- : 984"
       ]
      },
      {
       "output_type": "stream",
       "stream": "stdout",
       "text": [
        "\n",
        "Antal -1- : 980\n",
        "Antal -0- : 917"
       ]
      },
      {
       "output_type": "stream",
       "stream": "stdout",
       "text": [
        "\n",
        "Antal -1- : 913\n",
        "Antal -0- : 604"
       ]
      },
      {
       "output_type": "stream",
       "stream": "stdout",
       "text": [
        "\n",
        "Antal -1- : 600\n",
        "Antal -0- : 298"
       ]
      },
      {
       "output_type": "stream",
       "stream": "stdout",
       "text": [
        "\n",
        "Antal -1- : 293\n",
        "Antal -0- : 657"
       ]
      },
      {
       "output_type": "stream",
       "stream": "stdout",
       "text": [
        "\n",
        "Antal -1- : 652\n",
        "Antal -0- : 287"
       ]
      },
      {
       "output_type": "stream",
       "stream": "stdout",
       "text": [
        "\n",
        "Antal -1- : 283\n",
        "Antal -0- : 646"
       ]
      },
      {
       "output_type": "stream",
       "stream": "stdout",
       "text": [
        "\n",
        "Antal -1- : 642\n",
        "Antal -0- : 206"
       ]
      },
      {
       "output_type": "stream",
       "stream": "stdout",
       "text": [
        "\n",
        "Antal -1- : 197\n",
        "Antal -0- : 879"
       ]
      },
      {
       "output_type": "stream",
       "stream": "stdout",
       "text": [
        "\n",
        "Antal -1- : 875\n",
        "Antal -0- : 425"
       ]
      },
      {
       "output_type": "stream",
       "stream": "stdout",
       "text": [
        "\n",
        "Antal -1- : 420\n",
        "Antal -0- : 398"
       ]
      },
      {
       "output_type": "stream",
       "stream": "stdout",
       "text": [
        "\n",
        "Antal -1- : 394\n",
        "Antal -0- : 637"
       ]
      },
      {
       "output_type": "stream",
       "stream": "stdout",
       "text": [
        "\n",
        "Antal -1- : 630\n",
        "Antal -0- : 740"
       ]
      },
      {
       "output_type": "stream",
       "stream": "stdout",
       "text": [
        "\n",
        "Antal -1- : 716\n",
        "Antal -0- : 658"
       ]
      },
      {
       "output_type": "stream",
       "stream": "stdout",
       "text": [
        "\n",
        "Antal -1- : 645\n",
        "Antal -0- : 663"
       ]
      },
      {
       "output_type": "stream",
       "stream": "stdout",
       "text": [
        "\n",
        "Antal -1- : 649\n",
        "Antal -0- : 773"
       ]
      },
      {
       "output_type": "stream",
       "stream": "stdout",
       "text": [
        "\n",
        "Antal -1- : 769\n",
        "Antal -0- : 946"
       ]
      },
      {
       "output_type": "stream",
       "stream": "stdout",
       "text": [
        "\n",
        "Antal -1- : 935\n",
        "Antal -0- : 769"
       ]
      },
      {
       "output_type": "stream",
       "stream": "stdout",
       "text": [
        "\n",
        "Antal -1- : 765\n",
        "Antal -0- : 814"
       ]
      },
      {
       "output_type": "stream",
       "stream": "stdout",
       "text": [
        "\n",
        "Antal -1- : 810\n",
        "Antal -0- : 909"
       ]
      },
      {
       "output_type": "stream",
       "stream": "stdout",
       "text": [
        "\n",
        "Antal -1- : 897\n",
        "Antal -0- : 771"
       ]
      },
      {
       "output_type": "stream",
       "stream": "stdout",
       "text": [
        "\n",
        "Antal -1- : 767\n",
        "Antal -0- : 933"
       ]
      },
      {
       "output_type": "stream",
       "stream": "stdout",
       "text": [
        "\n",
        "Antal -1- : 926\n",
        "Antal -0- : 300"
       ]
      },
      {
       "output_type": "stream",
       "stream": "stdout",
       "text": [
        "\n",
        "Antal -1- : 295\n"
       ]
      }
     ],
     "prompt_number": 30
    },
    {
     "cell_type": "code",
     "collapsed": false,
     "input": [
      "#print sentiment_result\n",
      "print \"Antal users: %d\" % len(sentiment_result)\n",
      "#print tweets_sentiment_result\n",
      "print \"Antal tweets: %d\" % len(tweets_sentiment_result)\n",
      "print \"Antal positive tweets: %d\" % tweets_sentiment_result.count(1)\n",
      "print \"Antal negative tweets: %d\" % tweets_sentiment_result.count(0)\n",
      "\n",
      "#Scatter plot!!!! korreleret?!"
     ],
     "language": "python",
     "metadata": {},
     "outputs": [
      {
       "output_type": "stream",
       "stream": "stdout",
       "text": [
        "Antal users: 487\n",
        "Antal tweets: 23785\n",
        "Antal positive tweets: 14870\n",
        "Antal negative tweets: 8915\n"
       ]
      }
     ],
     "prompt_number": 31
    },
    {
     "cell_type": "code",
     "collapsed": false,
     "input": [
      "print tweets_sentiment_result[0]\n",
      "print sentiment_result[0]\n"
     ],
     "language": "python",
     "metadata": {},
     "outputs": [
      {
       "output_type": "stream",
       "stream": "stdout",
       "text": [
        "1\n",
        "['strong positive', 42, 8, 0.84, 0.16]\n"
       ]
      }
     ],
     "prompt_number": 32
    },
    {
     "cell_type": "code",
     "collapsed": false,
     "input": [
      "File = open(\"rec_user_sentiment.txt\", 'w')\n",
      "File.write(\"sentiment_judgement, n_pos, n_neg, n_pos_norm, n_neg_norm\\n\")\n",
      "\n",
      "for tweet in sentiment_result:\n",
      "    line = tweet[0]+\",\"+str(tweet[1])+\",\"+str(tweet[2])+\",\"+str(tweet[3])+\",\"+str(tweet[4])+\"\\n\"\n",
      "    File.write(line)\n",
      "    #break\n",
      "File.close()"
     ],
     "language": "python",
     "metadata": {},
     "outputs": [],
     "prompt_number": 33
    },
    {
     "cell_type": "code",
     "collapsed": false,
     "input": [
      "File = open(\"rec_tweet_sentiment.txt\", 'w')\n",
      "File.write(\"1=positive & 0=negative. Line = user. 0/1 = a tweet\\n\")\n",
      "\n",
      "\n",
      "count1 = 0\n",
      "count2 = 0\n",
      "for user in sentiment_result:\n",
      "    number_tweets = user[1]+user[2]\n",
      "    count2 = number_tweets\n",
      "    line = \"\"\n",
      "    for sentiment in tweets_sentiment_result[count1:count1+count2]:\n",
      "        line += str(sentiment)+\",\"\n",
      "    line = line[:-1]\n",
      "    line += \"\\n\"\n",
      "    File.write(line)\n",
      "    count1 += count2\n",
      "File.close()"
     ],
     "language": "python",
     "metadata": {},
     "outputs": [],
     "prompt_number": 34
    },
    {
     "cell_type": "code",
     "collapsed": false,
     "input": [
      "File.close()"
     ],
     "language": "python",
     "metadata": {},
     "outputs": [],
     "prompt_number": 25
    },
    {
     "cell_type": "code",
     "collapsed": false,
     "input": [
      "List = [\"hej\", \"hej\", \"hej\", \"med\"]\n",
      "ListA = list(set(List))\n",
      "print ListA\n",
      "print \"her\"\n",
      "ListA[:10]"
     ],
     "language": "python",
     "metadata": {},
     "outputs": [
      {
       "output_type": "stream",
       "stream": "stdout",
       "text": [
        "['med', 'hej']\n",
        "her\n"
       ]
      },
      {
       "metadata": {},
       "output_type": "pyout",
       "prompt_number": 8,
       "text": [
        "['med', 'hej']"
       ]
      }
     ],
     "prompt_number": 8
    },
    {
     "cell_type": "code",
     "collapsed": false,
     "input": [
      "line = \"hej,\"\n",
      "line = line[:-1]\n",
      "print line"
     ],
     "language": "python",
     "metadata": {},
     "outputs": [
      {
       "output_type": "stream",
       "stream": "stdout",
       "text": [
        "hej\n"
       ]
      }
     ],
     "prompt_number": 12
    },
    {
     "cell_type": "code",
     "collapsed": false,
     "input": [
      "line = [1,2,3,4,5,6,7,8,9,10,11,12,13,14,15]\n",
      "count2 = 5\n",
      "count1 = 0\n",
      "print line[count1:count2]\n",
      "count1 +=count2\n",
      "count2 = 5\n",
      "print line[count1:count1+count2]\n",
      "count1 +=count2\n",
      "count2 = 5\n",
      "\n",
      "print line[count1:count1+count2]"
     ],
     "language": "python",
     "metadata": {},
     "outputs": [
      {
       "output_type": "stream",
       "stream": "stdout",
       "text": [
        "[1, 2, 3, 4, 5]\n",
        "[6, 7, 8, 9, 10]\n",
        "[11, 12, 13, 14, 15]\n"
       ]
      }
     ],
     "prompt_number": 18
    },
    {
     "cell_type": "code",
     "collapsed": false,
     "input": [
      "with open(\"rec_user_sentiment.txt\", 'r') as f:\n",
      "    lines = f.readlines()\n",
      "\n",
      "rec_data = [0, 0, 0, 0, 0]\n",
      "for line in lines:\n",
      "    lineElements = line.split(',')\n",
      "    if lineElements[0] == \"strong negative\":\n",
      "        rec_data[0] +=1\n",
      "    elif lineElements[0] == \"slight negative\":\n",
      "        rec_data[1] +=1\n",
      "    elif lineElements[0] == \"neutral\":\n",
      "        rec_data[2] +=1\n",
      "    elif lineElements[0] == \"slight positive\":\n",
      "        rec_data[3] +=1\n",
      "    elif lineElements[0] == \"strong positive\":\n",
      "        rec_data[4] +=1\n",
      "    else:\n",
      "        print \"Fejl :/\""
     ],
     "language": "python",
     "metadata": {},
     "outputs": [
      {
       "output_type": "stream",
       "stream": "stdout",
       "text": [
        "Fejl :/\n"
       ]
      }
     ],
     "prompt_number": 40
    },
    {
     "cell_type": "code",
     "collapsed": false,
     "input": [
      "print rec_data[0]"
     ],
     "language": "python",
     "metadata": {},
     "outputs": [
      {
       "output_type": "stream",
       "stream": "stdout",
       "text": [
        "6\n"
       ]
      }
     ],
     "prompt_number": 45
    },
    {
     "cell_type": "code",
     "collapsed": false,
     "input": [
      "with open(\"non_rec_user_sentiment.txt\", 'r') as f:\n",
      "    lines = f.readlines()\n",
      "count = 0\n",
      "non_rec_data = [0, 0, 0, 0, 0]\n",
      "for line in lines:\n",
      "    lineElements = line.split(',')\n",
      "    if lineElements[0] == \"strong negative\":\n",
      "        non_rec_data[0] +=1\n",
      "    elif lineElements[0] == \"slight negative\":\n",
      "        non_rec_data[1] +=1\n",
      "    elif lineElements[0] == \"neutral\":\n",
      "        non_rec_data[2] +=1\n",
      "    elif lineElements[0] == \"slight positive\":\n",
      "        non_rec_data[3] +=1\n",
      "    elif lineElements[0] == \"strong positive\":\n",
      "        non_rec_data[4] +=1\n",
      "    else:\n",
      "        print \"Fejl :/\"\n",
      "    count += 1\n",
      "    if count == 488:\n",
      "        break"
     ],
     "language": "python",
     "metadata": {},
     "outputs": [
      {
       "output_type": "stream",
       "stream": "stdout",
       "text": [
        "Fejl :/\n"
       ]
      }
     ],
     "prompt_number": 47
    },
    {
     "cell_type": "code",
     "collapsed": false,
     "input": [
      "print rec_data\n",
      "print non_rec_data"
     ],
     "language": "python",
     "metadata": {},
     "outputs": [
      {
       "output_type": "stream",
       "stream": "stdout",
       "text": [
        "[6, 17, 185, 190, 89]\n",
        "[4, 22, 201, 177, 83]\n"
       ]
      }
     ],
     "prompt_number": 48
    },
    {
     "cell_type": "code",
     "collapsed": false,
     "input": [
      "import numpy as np\n",
      "import matplotlib.pyplot as plt\n",
      "%matplotlib inline\n",
      "\n",
      "N = 5\n",
      "width = 0.25\n",
      "ind = np.arange(N)\n",
      "fig, ax = plt.subplots()\n",
      "\n",
      "rec = ax.bar(ind, rec_data, width, color='r')\n",
      "non_rec = ax.bar(ind+width, non_rec_data, width, color='b')\n",
      "\n",
      "ax.set_ylabel('No. of users')\n",
      "ax.set_title('Tweets sentiments for susceptible vs. non-susceptible')\n",
      "ax.set_xticks(ind+width)\n",
      "ax.set_xticklabels( ('Strong\\n negative ', 'Slight\\n negative', 'Neutral', 'Slight\\n positive', 'Strong\\n positive') )\n",
      "\n",
      "ax.legend( (rec[0], non_rec[0]), ('Susceptible', 'Non-susceptible') )\n",
      "\n",
      "plt.show()"
     ],
     "language": "python",
     "metadata": {},
     "outputs": [
      {
       "metadata": {},
       "output_type": "display_data",
       "png": "[encoded data removed]",
       "text": [
        "<matplotlib.figure.Figure at 0xe14be90>"
       ]
      }
     ],
     "prompt_number": 55
    },
    {
     "cell_type": "code",
     "collapsed": false,
     "input": [
      "with open(\"non_rec_user_sentiment.txt\", 'r') as f:\n",
      "    header = f.readline()\n",
      "    lines = f.readlines()\n",
      "count = 0\n",
      "non_rec_pos = []\n",
      "for line in lines:\n",
      "    lineElements = line.split(',')\n",
      "    non_rec_pos.append(float(lineElements[3]))\n",
      "    #neg1.append(lineElements[4])\n",
      "    count += 1\n",
      "    if count == 487:\n",
      "        break\n",
      "Sum = sum(non_rec_pos)\n",
      "length = len(non_rec_pos)\n",
      "non_rec_mean = Sum/length"
     ],
     "language": "python",
     "metadata": {},
     "outputs": [],
     "prompt_number": 82
    },
    {
     "cell_type": "code",
     "collapsed": false,
     "input": [
      "print len(pos1)\n",
      "print pos1[0]"
     ],
     "language": "python",
     "metadata": {},
     "outputs": [
      {
       "output_type": "stream",
       "stream": "stdout",
       "text": [
        "487\n",
        "1.0\n"
       ]
      }
     ],
     "prompt_number": 75
    },
    {
     "cell_type": "code",
     "collapsed": false,
     "input": [
      "with open(\"rec_user_sentiment.txt\", 'r') as f:\n",
      "    header = f.readline()\n",
      "    lines = f.readlines()\n",
      "count = 0\n",
      "rec_pos = []\n",
      "for line in lines:\n",
      "    lineElements = line.split(',')\n",
      "    rec_pos.append(float(lineElements[3]))\n",
      "    #neg2.append(lineElements[4])\n",
      "    count += 1\n",
      "    if count == 487:\n",
      "        break\n",
      "Sum = sum(rec_pos)\n",
      "length = len(rec_pos)\n",
      "rec_mean = Sum/length"
     ],
     "language": "python",
     "metadata": {},
     "outputs": [],
     "prompt_number": 83
    },
    {
     "cell_type": "code",
     "collapsed": false,
     "input": [
      "print rec_mean\n",
      "print non_rec_mean"
     ],
     "language": "python",
     "metadata": {},
     "outputs": [
      {
       "output_type": "stream",
       "stream": "stdout",
       "text": [
        "0.625920335732\n",
        "0.606974279106\n"
       ]
      }
     ],
     "prompt_number": 84
    },
    {
     "cell_type": "code",
     "collapsed": false,
     "input": [
      "import numpy as np\n",
      "import matplotlib.pyplot as plt\n",
      "%matplotlib inline\n",
      "\n",
      "x = [pos1, pos2]\n",
      "y = [neg1, neg2]\n",
      "plt.scatter(x,y, c=['r', 'b'], marker='+')\n",
      "\n",
      "plt.show()\n"
     ],
     "language": "python",
     "metadata": {},
     "outputs": [
      {
       "metadata": {},
       "output_type": "display_data",
       "png": "[encoded data removed]",
       "text": [
        "<matplotlib.figure.Figure at 0xf76f310>"
       ]
      }
     ],
     "prompt_number": 78
    },
    {
     "cell_type": "code",
     "collapsed": false,
     "input": [
      "List = [1.1,2.3,3.8]\n",
      "sum(List)"
     ],
     "language": "python",
     "metadata": {},
     "outputs": [
      {
       "metadata": {},
       "output_type": "pyout",
       "prompt_number": 81,
       "text": [
        "7.199999999999999"
       ]
      }
     ],
     "prompt_number": 81
    },
    {
     "cell_type": "code",
     "collapsed": false,
     "input": [],
     "language": "python",
     "metadata": {},
     "outputs": []
    }
   ],
   "metadata": {}
  }
 ]
}