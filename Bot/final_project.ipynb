{
 "metadata": {
  "name": "",
  "signature": "sha256:316bd6298401f8fa921c5a8645ec4dcdb9367e0beee101720aaa9a08756e7577"
 },
 "nbformat": 3,
 "nbformat_minor": 0,
 "worksheets": [
  {
   "cells": [
    {
     "cell_type": "markdown",
     "metadata": {},
     "source": [
      "Getting list of followback followers as well as list of human followers:"
     ]
    },
    {
     "cell_type": "code",
     "collapsed": false,
     "input": [
      "from twitter_bot import *\n",
      "%matplotlib inline\n",
      "humans = set(list([human[\"id\"] for human in human_users_collection.find()]))\n",
      "followers = set(twitter_api.followers.ids(screen_name=\"JackBoHorseMan\")[\"ids\"])\n",
      "\n",
      "non_reciprocal_humans_ids = humans-followers\n",
      "reciprocal_humans_ids = followers.intersection(humans)"
     ],
     "language": "python",
     "metadata": {},
     "outputs": [],
     "prompt_number": 3
    },
    {
     "cell_type": "markdown",
     "metadata": {},
     "source": [
      "Total numbers:"
     ]
    },
    {
     "cell_type": "code",
     "collapsed": false,
     "input": [
      "print(\"number of non reciprocal human users: {}\".format(len(non_reciprocal_humans_ids)))\n",
      "print(\"number of reciprocal human users: {}\".format(len(reciprocal_humans_ids)))"
     ],
     "language": "python",
     "metadata": {},
     "outputs": [
      {
       "output_type": "stream",
       "stream": "stdout",
       "text": [
        "number of non reciprocal human users: 1189\n",
        "number of reciprocal human users: 485\n"
       ]
      }
     ],
     "prompt_number": 4
    },
    {
     "cell_type": "markdown",
     "metadata": {},
     "source": [
      "Get fully-hydrated users"
     ]
    },
    {
     "cell_type": "code",
     "collapsed": false,
     "input": [
      "non_reciprocal_humans_list = list([str(id) for id in non_reciprocal_humans_ids])\n",
      "non_reciprocal_hydrated = []\n",
      "for i in range(100,len(non_reciprocal_humans_list),100):\n",
      "    non_reciprocal_hydrated.extend(twitter_api.users.lookup(user_id=\",\".join(non_reciprocal_humans_list[i-100:i])))\n",
      "\n",
      "start_index = len(non_reciprocal_humans_list)-(len(non_reciprocal_humans_list) % 100)\n",
      "end_index = len(non_reciprocal_humans_list)\n",
      "\n",
      "non_reciprocal_hydrated.extend(twitter_api.users.lookup(user_id=\",\".join(non_reciprocal_humans_list[start_index:end_index])))\n",
      "\n",
      "reciprocal_humans_list = list([str(id) for id in reciprocal_humans_ids])\n",
      "reciprocal_hydrated = []\n",
      "for i in range(100,len(reciprocal_humans_list),100):\n",
      "    reciprocal_hydrated.extend(twitter_api.users.lookup(user_id=\",\".join(reciprocal_humans_list[i-100:i])))\n",
      "\n",
      "start_index = len(reciprocal_humans_list)-(len(reciprocal_humans_list) % 100)\n",
      "end_index = len(reciprocal_humans_list)\n",
      "\n",
      "reciprocal_hydrated.extend(twitter_api.users.lookup(user_id=\",\".join(reciprocal_humans_list[start_index:end_index])))"
     ],
     "language": "python",
     "metadata": {},
     "outputs": [],
     "prompt_number": 68
    },
    {
     "cell_type": "code",
     "collapsed": false,
     "input": [
      "print(len(non_reciprocal_hydrated))\n",
      "print(len(reciprocal_hydrated))"
     ],
     "language": "python",
     "metadata": {},
     "outputs": [
      {
       "output_type": "stream",
       "stream": "stdout",
       "text": [
        "1188\n",
        "482\n"
       ]
      }
     ],
     "prompt_number": 70
    },
    {
     "cell_type": "code",
     "collapsed": false,
     "input": [
      "import datetime\n",
      "for user in non_reciprocal_hydrated:\n",
      "    user[\"created_at\"] = datetime.datetime.strptime(user[\"created_at\"], '%a %b %d %H:%M:%S +0000 %Y')\n",
      "for user in reciprocal_hydrated:\n",
      "    user[\"created_at\"] = datetime.datetime.strptime(user[\"created_at\"], '%a %b %d %H:%M:%S +0000 %Y')"
     ],
     "language": "python",
     "metadata": {},
     "outputs": [],
     "prompt_number": 71
    },
    {
     "cell_type": "markdown",
     "metadata": {},
     "source": [
      "Comparing age of account:"
     ]
    },
    {
     "cell_type": "code",
     "collapsed": false,
     "input": [
      "import matplotlib.pyplot as plt\n",
      "\n",
      "mean_non_reciprocal_age_days = 0\n",
      "mean_reciprocal_age_days = 0\n",
      "for user in non_reciprocal_hydrated:\n",
      "    delta = datetime.datetime.now()-user[\"created_at\"]\n",
      "    mean_non_reciprocal_age_days += delta.days\n",
      "mean_non_reciprocal_age_days /= len(non_reciprocal_hydrated)\n",
      "\n",
      "for user in reciprocal_hydrated:\n",
      "    delta = datetime.datetime.now()-user[\"created_at\"]\n",
      "    mean_reciprocal_age_days += delta.days\n",
      "mean_reciprocal_age_days /= len(reciprocal_hydrated)\n",
      "\n",
      "print(mean_non_reciprocal_age_days)\n",
      "print(mean_reciprocal_age_days)\n",
      "\n",
      "now = datetime.datetime.now()\n",
      "plt.boxplot([[(now-u[\"created_at\"]).days for u in non_reciprocal_hydrated],\n",
      "             [(now-u[\"created_at\"]).days for u in reciprocal_hydrated]])"
     ],
     "language": "python",
     "metadata": {},
     "outputs": [
      {
       "output_type": "stream",
       "stream": "stdout",
       "text": [
        "1448.421717171717\n",
        "1208.3734439834025\n"
       ]
      },
      {
       "metadata": {},
       "output_type": "pyout",
       "prompt_number": 77,
       "text": [
        "{'boxes': [<matplotlib.lines.Line2D at 0x7f393d6ec978>,\n",
        "  <matplotlib.lines.Line2D at 0x7f393d6f1438>],\n",
        " 'caps': [<matplotlib.lines.Line2D at 0x7f393d6e12b0>,\n",
        "  <matplotlib.lines.Line2D at 0x7f393d6e1ac8>,\n",
        "  <matplotlib.lines.Line2D at 0x7f393d6bb320>,\n",
        "  <matplotlib.lines.Line2D at 0x7f393d6bb710>],\n",
        " 'fliers': [<matplotlib.lines.Line2D at 0x7f393d6ec160>,\n",
        "  <matplotlib.lines.Line2D at 0x7f393d6cdac8>,\n",
        "  <matplotlib.lines.Line2D at 0x7f393d6f1c50>,\n",
        "  <matplotlib.lines.Line2D at 0x7f393d6d3b00>],\n",
        " 'medians': [<matplotlib.lines.Line2D at 0x7f393d6cd160>,\n",
        "  <matplotlib.lines.Line2D at 0x7f393d6d3358>],\n",
        " 'whiskers': [<matplotlib.lines.Line2D at 0x7f393d6c45f8>,\n",
        "  <matplotlib.lines.Line2D at 0x7f393d6c49e8>,\n",
        "  <matplotlib.lines.Line2D at 0x7f393d6d0278>,\n",
        "  <matplotlib.lines.Line2D at 0x7f393d6d0b70>]}"
       ]
      },
      {
       "metadata": {},
       "output_type": "display_data",
       "png": "[encoded data removed]",
       "text": [
        "<matplotlib.figure.Figure at 0x7f393d8094a8>"
       ]
      }
     ],
     "prompt_number": 77
    },
    {
     "cell_type": "code",
     "collapsed": false,
     "input": [
      "from twitter_bot import *\n",
      "\n",
      "db[\"non_reciprocal_user_tweets\"].find()"
     ],
     "language": "python",
     "metadata": {},
     "outputs": [
      {
       "metadata": {},
       "output_type": "pyout",
       "prompt_number": 5,
       "text": [
        "<pymongo.cursor.Cursor at 0x2f2eab0>"
       ]
      }
     ],
     "prompt_number": 5
    },
    {
     "cell_type": "code",
     "collapsed": false,
     "input": [],
     "language": "python",
     "metadata": {},
     "outputs": []
    }
   ],
   "metadata": {}
  }
 ]
}