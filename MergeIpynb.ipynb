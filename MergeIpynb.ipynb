{
 "metadata": {
  "name": "",
  "signature": "sha256:23995ef25b24584d806039399291d8cccfedc02ea0251161a1bfb23742826982"
 },
 "nbformat": 3,
 "nbformat_minor": 0,
 "worksheets": [
  {
   "cells": [
    {
     "cell_type": "code",
     "collapsed": false,
     "input": [
      "from IPython.nbformat import current\n",
      "with open('Lecture 2 - Exercise.ipynb') as f:\n",
      " noteBookA= current.read(f,'json')\n",
      "with open('Lecture-2-Exercises.ipynb') as g:\n",
      " noteBookB = current.read(g,'json')\n",
      "\n",
      "cellsB = noteBookB['worksheets'][0]['cells']\n",
      "for cell in cellsB:\n",
      "    noteBookA['worksheets'][0]['cells'].append(cell)\n",
      "\n",
      "nbf.write(noteBookA, open('lecture2Merge.ipynb', 'w'), 'ipynb')"
     ],
     "language": "python",
     "metadata": {},
     "outputs": [],
     "prompt_number": 104
    }
   ],
   "metadata": {}
  }
 ]
}