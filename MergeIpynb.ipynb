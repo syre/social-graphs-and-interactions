{
 "metadata": {
  "name": "",
  "signature": "sha256:10dda8a3f1fe290f574ff404d0976d45efb8b6747b152aac2d63081218558905"
 },
 "nbformat": 3,
 "nbformat_minor": 0,
 "worksheets": [
  {
   "cells": [
    {
     "cell_type": "code",
     "collapsed": false,
     "input": [
      "from IPython.nbformat import current\n",
      "with open('Assignment 1.ipynb') as f:\n",
      " noteBookA= current.read(f,'json')\n",
      "with open('Lecture-2-Exercises.ipynb') as g:\n",
      " noteBookB = current.read(g,'json')\n",
      "\n",
      "cellsB = noteBookB['worksheets'][0]['cells']\n",
      "for cell in cellsB:\n",
      "    noteBookA['worksheets'][0]['cells'].append(cell)\n",
      "\n",
      "current.write(noteBookA, open('Assignment 1-1.ipynb', 'w'), 'ipynb')"
     ],
     "language": "python",
     "metadata": {},
     "outputs": [],
     "prompt_number": 2
    },
    {
     "cell_type": "code",
     "collapsed": false,
     "input": [],
     "language": "python",
     "metadata": {},
     "outputs": []
    }
   ],
   "metadata": {}
  }
 ]
}