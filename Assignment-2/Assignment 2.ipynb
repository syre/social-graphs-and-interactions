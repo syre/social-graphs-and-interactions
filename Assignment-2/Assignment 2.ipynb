{
 "metadata": {
  "name": "",
  "signature": "sha256:11b053a294a9fb48c6df56f879572a271f90d2ca490076ad065e3dd93eb414cd"
 },
 "nbformat": 3,
 "nbformat_minor": 0,
 "worksheets": [
  {
   "cells": [
    {
     "cell_type": "heading",
     "level": 1,
     "metadata": {},
     "source": [
      "Assignment 2"
     ]
    },
    {
     "cell_type": "markdown",
     "metadata": {},
     "source": [
      "<hr>"
     ]
    },
    {
     "cell_type": "markdown",
     "metadata": {},
     "source": [
      "<u>Group:</u><br>\n",
      "------------- <br>\n",
      "*S\u00f8ren Howe Gersager - s094557* <br>\n",
      "*Anders L\u00f8nberg Rahbek - s107029* \n",
      "<hr><hr>"
     ]
    },
    {
     "cell_type": "heading",
     "level": 2,
     "metadata": {},
     "source": [
      "Part 1 - Twitter Bot"
     ]
    },
    {
     "cell_type": "heading",
     "level": 3,
     "metadata": {},
     "source": [
      "Problem T1 - Make sure that your social bot complies to every instruction on the Bot-Check page."
     ]
    },
    {
     "cell_type": "markdown",
     "metadata": {},
     "source": [
      "Skriv her!!! :D"
     ]
    },
    {
     "cell_type": "heading",
     "level": 2,
     "metadata": {},
     "source": [
      "Part 2 - The network stuff"
     ]
    },
    {
     "cell_type": "heading",
     "level": 3,
     "metadata": {},
     "source": [
      "Problem N2 - Crawl your own twitter graph. Create a picture of the graph using the plotting tools in NetworkX."
     ]
    },
    {
     "cell_type": "heading",
     "level": 4,
     "metadata": {},
     "source": [
      "Fetching the followers of followers as nodes and their relationships as edges"
     ]
    },
    {
     "cell_type": "code",
     "collapsed": false,
     "input": [
      "import twitter\n",
      "import time\n",
      "\n",
      "with open(\"bot_config.txt\",\"r\") as f:\n",
      "    config = f.readlines()\n",
      "config_dict = dict(line.strip().split(\"=\") for line in config if not line.startswith(\"#\"))\n",
      "\n",
      "CONSUMER_KEY = config_dict[\"CONSUMER_KEY\"]  # API key\n",
      "# API secret key\n",
      "CONSUMER_SECRET = config_dict[\"CONSUMER_SECRET\"]\n",
      "# Access token\n",
      "OAUTH_TOKEN = config_dict[\"OAUTH_TOKEN\"]\n",
      "# access token secret\n",
      "OAUTH_TOKEN_SECRET = config_dict[\"OAUTH_TOKEN_SECRET\"]\n",
      "\n",
      "auth = twitter.oauth.OAuth(OAUTH_TOKEN, OAUTH_TOKEN_SECRET, CONSUMER_KEY, CONSUMER_SECRET)\n",
      "twitter_api = twitter.Twitter(auth=auth)\n",
      "\n",
      "print twitter_api"
     ],
     "language": "python",
     "metadata": {},
     "outputs": []
    },
    {
     "cell_type": "code",
     "collapsed": false,
     "input": [
      "result = twitter_api.followers.list(screen_name=\"JackBoHorseMan\", count=200)\n",
      "edges = []\n",
      "nodes = []\n",
      "nodes.append(\"JackBoHorseMan\")\n",
      "for user in result[\"users\"][:14]:\n",
      "    result2 = twitter_api.followers.list(screen_name=user[\"screen_name\"], count=50)\n",
      "    edges.append((\"JackBoHorseMan\", user[\"screen_name\"]))\n",
      "    nodes.append(user[\"screen_name\"])\n",
      "    for user2 in result2[\"users\"]:\n",
      "        edges.append((user[\"screen_name\"], user2[\"screen_name\"]))\n",
      "        nodes.append(user2[\"screen_name\"])\n",
      "\n",
      "print \"Sleeping 15 minutes, do to Twitters API limits\\nGood night...\"\n",
      "time.sleep((60*15)+1)\n",
      "print \"Good morning...\"\n",
      "for user in result[\"users\"][15:29]:\n",
      "    result2 = twitter_api.followers.list(screen_name=user[\"screen_name\"], count=50)\n",
      "    edges.append((\"JackBoHorseMan\", user[\"screen_name\"]))\n",
      "    nodes.append(user[\"screen_name\"])\n",
      "    for user2 in result2[\"users\"]:\n",
      "        edges.append((user[\"screen_name\"], user2[\"screen_name\"]))\n",
      "        nodes.append(user2[\"screen_name\"])\n",
      "\n",
      "nodes = list(set(nodes))"
     ],
     "language": "python",
     "metadata": {},
     "outputs": []
    },
    {
     "cell_type": "heading",
     "level": 4,
     "metadata": {},
     "source": [
      "Adding the nodes and edges to graph and draw it"
     ]
    },
    {
     "cell_type": "code",
     "collapsed": false,
     "input": [
      "import matplotlib.pyplot as plt\n",
      "import networkx as nx\n",
      "%matplotlib inline\n",
      "\n",
      "tg = nx.Graph()\n",
      "tg.add_nodes_from(nodes)\n",
      "tg.add_edges_from(edges)\n",
      "plt.figure(figsize=(15,13))\n",
      "nx.draw(tg)"
     ],
     "language": "python",
     "metadata": {},
     "outputs": []
    }
   ],
   "metadata": {}
  }
 ]
}