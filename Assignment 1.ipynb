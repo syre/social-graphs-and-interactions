{
 "metadata": {
  "name": "",
  "signature": "sha256:727d0ea1ed02cd25d31e9e06eeeac4ba88ad01483efbabd8272a4ffedc5dee16"
 },
 "nbformat": 3,
 "nbformat_minor": 0,
 "worksheets": [
  {
   "cells": [
    {
     "cell_type": "heading",
     "level": 1,
     "metadata": {},
     "source": [
      "Assignment 1"
     ]
    },
    {
     "cell_type": "markdown",
     "metadata": {},
     "source": [
      "<hr>"
     ]
    },
    {
     "cell_type": "markdown",
     "metadata": {},
     "source": [
      "<u>Group:</u><br>\n",
      "------------- <br>\n",
      "*S\u00f8ren Howe Gersager - s094557* <br>\n",
      "*Anders L\u00f8nberg Rahbek - s107029* \n",
      "<hr><hr>"
     ]
    },
    {
     "cell_type": "heading",
     "level": 2,
     "metadata": {},
     "source": [
      "Part 1 - Twitter"
     ]
    },
    {
     "cell_type": "heading",
     "level": 3,
     "metadata": {},
     "source": [
      "Problem <b>T1-1</b> - how many users does Twitter have? And how many actively engage with the platform?"
     ]
    },
    {
     "cell_type": "markdown",
     "metadata": {},
     "source": [
      "Twitter has over 500 million users, where over 100 million is active engaging. "
     ]
    },
    {
     "cell_type": "heading",
     "level": 3,
     "metadata": {},
     "source": [
      "Problem T1-2 - Twitter vs Facebook"
     ]
    },
    {
     "cell_type": "markdown",
     "metadata": {},
     "source": [
      "Twitter is using maximum 140 characters long messages, where Facebook can be bigger. Twitters messsages are like short thoughts which is being \"shout out\" to all of Twitters 500 million users - potientially. \n",
      "Where Facebook (and other social sites, like LinkedIn) normally requires mutual acceptance of a connection between users (which usually implies a real-world connection of som kind), Twitter do not require this. A user can keep up with the latest happening of ANY user, regardless the user knows the other user. As explained by the author in MTSW, with Twitter you \"follow relationships\""
     ]
    },
    {
     "cell_type": "heading",
     "level": 3,
     "metadata": {},
     "source": [
      "Problem T1-3 - Create your own Twitter application"
     ]
    },
    {
     "cell_type": "markdown",
     "metadata": {},
     "source": [
      "We went to dev.twitter.com, and then \"Manage Apps\" and created a new app for us to use."
     ]
    },
    {
     "cell_type": "heading",
     "level": 3,
     "metadata": {},
     "source": [
      "Problem T1-4 - Work through examples 1.1 to 1.4"
     ]
    },
    {
     "cell_type": "heading",
     "level": 4,
     "metadata": {},
     "source": [
      "Example 1-1:"
     ]
    },
    {
     "cell_type": "code",
     "collapsed": false,
     "input": [
      "import twitter\n",
      "\n",
      "with open(\"bot_config.txt\",\"r\") as f:\n",
      "    config = f.readlines()\n",
      "config_dict = dict(line.strip().split(\"=\") for line in config if not line.startswith(\"#\"))\n",
      "\n",
      "CONSUMER_KEY = config_dict[\"CONSUMER_KEY\"]  # API key\n",
      "# API secret key\n",
      "CONSUMER_SECRET = config_dict[\"CONSUMER_SECRET\"]\n",
      "# Access token\n",
      "OAUTH_TOKEN = config_dict[\"OAUTH_TOKEN\"]\n",
      "# access token secret\n",
      "OAUTH_TOKEN_SECRET = config_dict[\"OAUTH_TOKEN_SECRET\"]\n",
      "\n",
      "auth = twitter.oauth.OAuth(OAUTH_TOKEN, OAUTH_TOKEN_SECRET, CONSUMER_KEY, CONSUMER_SECRET)\n",
      "twitter_api = twitter.Twitter(auth=auth)\n",
      "\n",
      "print twitter_api"
     ],
     "language": "python",
     "metadata": {},
     "outputs": [
      {
       "output_type": "stream",
       "stream": "stdout",
       "text": [
        "<twitter.api.Twitter object at 0x7f4a22f34490>\n"
       ]
      }
     ],
     "prompt_number": 55
    },
    {
     "cell_type": "heading",
     "level": 4,
     "metadata": {},
     "source": [
      "Example 1-2"
     ]
    },
    {
     "cell_type": "code",
     "collapsed": false,
     "input": [
      "WORLD_WOE_ID = 1 #WEO-ID for the world\n",
      "STOCKHOLM_WEO_ID = 906057 #WEO-ID for Stockholm\n",
      "\n",
      "world_trends = twitter_api.trends.place(_id=WORLD_WOE_ID)\n",
      "stockholm_trends = twitter_api.trends.place(_id=STOCKHOLM_WEO_ID)\n",
      "\n",
      "print world_trends\n",
      "print\n",
      "print stockholm_trends"
     ],
     "language": "python",
     "metadata": {},
     "outputs": [
      {
       "output_type": "stream",
       "stream": "stdout",
       "text": [
        "[{u'created_at': u'2014-09-29T13:43:13Z', u'trends': [{u'url': u'http://twitter.com/search?q=%22T%C3%BCrkiyeninGururu+%C3%9Clk%C3%BCc%C3%BCHareket%22', u'query': u'%22T%C3%BCrkiyeninGururu+%C3%9Clk%C3%BCc%C3%BCHareket%22', u'name': u'T\\xfcrkiyeninGururu \\xdclk\\xfcc\\xfcHareket', u'promoted_content': None}, {u'url': u'http://twitter.com/search?q=%23AlaanOfficial', u'query': u'%23AlaanOfficial', u'name': u'#AlaanOfficial', u'promoted_content': None}, {u'url': u'http://twitter.com/search?q=%23BuyStealMyGirlOnItunesNOW', u'query': u'%23BuyStealMyGirlOnItunesNOW', u'name': u'#BuyStealMyGirlOnItunesNOW', u'promoted_content': None}, {u'url': u'http://twitter.com/search?q=%23T%C3%BCrkiyeninG%C3%BCc%C3%BCn%C3%BCKe%C5%9Ffet', u'query': u'%23T%C3%BCrkiyeninG%C3%BCc%C3%BCn%C3%BCKe%C5%9Ffet', u'name': u'#T\\xfcrkiyeninG\\xfcc\\xfcn\\xfcKe\\u015ffet', u'promoted_content': None}, {u'url': u'http://twitter.com/search?q=%22BurakDo%C4%9Fan+TTDeniyor%22', u'query': u'%22BurakDo%C4%9Fan+TTDeniyor%22', u'name': u'BurakDo\\u011fan TTDeniyor', u'promoted_content': None}, {u'url': u'http://twitter.com/search?q=%23whenifirstjoinedthe5sosfam', u'query': u'%23whenifirstjoinedthe5sosfam', u'name': u'#whenifirstjoinedthe5sosfam', u'promoted_content': None}, {u'url': u'http://twitter.com/search?q=%23TipsParaSUMIKAT', u'query': u'%23TipsParaSUMIKAT', u'name': u'#TipsParaSUMIKAT', u'promoted_content': None}, {u'url': u'http://twitter.com/search?q=%22Happy+National+Coffee+Day%22', u'query': u'%22Happy+National+Coffee+Day%22', u'name': u'Happy National Coffee Day', u'promoted_content': None}, {u'url': u'http://twitter.com/search?q=%22SiyahBeyazz+FilmGibiBiraz%22', u'query': u'%22SiyahBeyazz+FilmGibiBiraz%22', u'name': u'SiyahBeyazz FilmGibiBiraz', u'promoted_content': None}, {u'url': u'http://twitter.com/search?q=D.Bah%C3%A7eli', u'query': u'D.Bah%C3%A7eli', u'name': u'D.Bah\\xe7eli', u'promoted_content': None}], u'as_of': u'2014-09-29T13:49:05Z', u'locations': [{u'woeid': 1, u'name': u'Worldwide'}]}]\n",
        "\n",
        "[{u'created_at': u'2014-09-29T13:43:14Z', u'trends': [{u'url': u'http://twitter.com/search?q=Arlanda', u'query': u'Arlanda', u'name': u'Arlanda', u'promoted_content': None}, {u'url': u'http://twitter.com/search?q=%23bajen', u'query': u'%23bajen', u'name': u'#bajen', u'promoted_content': None}, {u'url': u'http://twitter.com/search?q=%22Urban+Ahlin%22', u'query': u'%22Urban+Ahlin%22', u'name': u'Urban Ahlin', u'promoted_content': None}, {u'url': u'http://twitter.com/search?q=%23WeAreFoooFamily', u'query': u'%23WeAreFoooFamily', u'name': u'#WeAreFoooFamily', u'promoted_content': None}, {u'url': u'http://twitter.com/search?q=%23Bokm%C3%A4ssan', u'query': u'%23Bokm%C3%A4ssan', u'name': u'#Bokm\\xe4ssan', u'promoted_content': None}, {u'url': u'http://twitter.com/search?q=%23agenda', u'query': u'%23agenda', u'name': u'#agenda', u'promoted_content': None}, {u'url': u'http://twitter.com/search?q=%23svpol', u'query': u'%23svpol', u'name': u'#svpol', u'promoted_content': None}, {u'url': u'http://twitter.com/search?q=Kina', u'query': u'Kina', u'name': u'Kina', u'promoted_content': None}, {u'url': u'http://twitter.com/search?q=%22Tobias+Billstr%C3%B6m%22', u'query': u'%22Tobias+Billstr%C3%B6m%22', u'name': u'Tobias Billstr\\xf6m', u'promoted_content': None}, {u'url': u'http://twitter.com/search?q=Turkiet', u'query': u'Turkiet', u'name': u'Turkiet', u'promoted_content': None}], u'as_of': u'2014-09-29T13:49:06Z', u'locations': [{u'woeid': 906057, u'name': u'Stockholm'}]}]\n"
       ]
      }
     ],
     "prompt_number": 56
    },
    {
     "cell_type": "heading",
     "level": 4,
     "metadata": {},
     "source": [
      "Example 1-3"
     ]
    },
    {
     "cell_type": "code",
     "collapsed": false,
     "input": [
      "import json \n",
      "print json.dumps(world_trends, indent=1)\n",
      "print\n",
      "print json.dumps(stockholm_trends, indent=1)"
     ],
     "language": "python",
     "metadata": {},
     "outputs": [
      {
       "output_type": "stream",
       "stream": "stdout",
       "text": [
        "[\n",
        " {\n",
        "  \"created_at\": \"2014-09-29T13:43:13Z\", \n",
        "  \"trends\": [\n",
        "   {\n",
        "    \"url\": \"http://twitter.com/search?q=%22T%C3%BCrkiyeninGururu+%C3%9Clk%C3%BCc%C3%BCHareket%22\", \n",
        "    \"query\": \"%22T%C3%BCrkiyeninGururu+%C3%9Clk%C3%BCc%C3%BCHareket%22\", \n",
        "    \"name\": \"T\\u00fcrkiyeninGururu \\u00dclk\\u00fcc\\u00fcHareket\", \n",
        "    \"promoted_content\": null\n",
        "   }, \n",
        "   {\n",
        "    \"url\": \"http://twitter.com/search?q=%23AlaanOfficial\", \n",
        "    \"query\": \"%23AlaanOfficial\", \n",
        "    \"name\": \"#AlaanOfficial\", \n",
        "    \"promoted_content\": null\n",
        "   }, \n",
        "   {\n",
        "    \"url\": \"http://twitter.com/search?q=%23BuyStealMyGirlOnItunesNOW\", \n",
        "    \"query\": \"%23BuyStealMyGirlOnItunesNOW\", \n",
        "    \"name\": \"#BuyStealMyGirlOnItunesNOW\", \n",
        "    \"promoted_content\": null\n",
        "   }, \n",
        "   {\n",
        "    \"url\": \"http://twitter.com/search?q=%23T%C3%BCrkiyeninG%C3%BCc%C3%BCn%C3%BCKe%C5%9Ffet\", \n",
        "    \"query\": \"%23T%C3%BCrkiyeninG%C3%BCc%C3%BCn%C3%BCKe%C5%9Ffet\", \n",
        "    \"name\": \"#T\\u00fcrkiyeninG\\u00fcc\\u00fcn\\u00fcKe\\u015ffet\", \n",
        "    \"promoted_content\": null\n",
        "   }, \n",
        "   {\n",
        "    \"url\": \"http://twitter.com/search?q=%22BurakDo%C4%9Fan+TTDeniyor%22\", \n",
        "    \"query\": \"%22BurakDo%C4%9Fan+TTDeniyor%22\", \n",
        "    \"name\": \"BurakDo\\u011fan TTDeniyor\", \n",
        "    \"promoted_content\": null\n",
        "   }, \n",
        "   {\n",
        "    \"url\": \"http://twitter.com/search?q=%23whenifirstjoinedthe5sosfam\", \n",
        "    \"query\": \"%23whenifirstjoinedthe5sosfam\", \n",
        "    \"name\": \"#whenifirstjoinedthe5sosfam\", \n",
        "    \"promoted_content\": null\n",
        "   }, \n",
        "   {\n",
        "    \"url\": \"http://twitter.com/search?q=%23TipsParaSUMIKAT\", \n",
        "    \"query\": \"%23TipsParaSUMIKAT\", \n",
        "    \"name\": \"#TipsParaSUMIKAT\", \n",
        "    \"promoted_content\": null\n",
        "   }, \n",
        "   {\n",
        "    \"url\": \"http://twitter.com/search?q=%22Happy+National+Coffee+Day%22\", \n",
        "    \"query\": \"%22Happy+National+Coffee+Day%22\", \n",
        "    \"name\": \"Happy National Coffee Day\", \n",
        "    \"promoted_content\": null\n",
        "   }, \n",
        "   {\n",
        "    \"url\": \"http://twitter.com/search?q=%22SiyahBeyazz+FilmGibiBiraz%22\", \n",
        "    \"query\": \"%22SiyahBeyazz+FilmGibiBiraz%22\", \n",
        "    \"name\": \"SiyahBeyazz FilmGibiBiraz\", \n",
        "    \"promoted_content\": null\n",
        "   }, \n",
        "   {\n",
        "    \"url\": \"http://twitter.com/search?q=D.Bah%C3%A7eli\", \n",
        "    \"query\": \"D.Bah%C3%A7eli\", \n",
        "    \"name\": \"D.Bah\\u00e7eli\", \n",
        "    \"promoted_content\": null\n",
        "   }\n",
        "  ], \n",
        "  \"as_of\": \"2014-09-29T13:49:05Z\", \n",
        "  \"locations\": [\n",
        "   {\n",
        "    \"woeid\": 1, \n",
        "    \"name\": \"Worldwide\"\n",
        "   }\n",
        "  ]\n",
        " }\n",
        "]\n",
        "\n",
        "[\n",
        " {\n",
        "  \"created_at\": \"2014-09-29T13:43:14Z\", \n",
        "  \"trends\": [\n",
        "   {\n",
        "    \"url\": \"http://twitter.com/search?q=Arlanda\", \n",
        "    \"query\": \"Arlanda\", \n",
        "    \"name\": \"Arlanda\", \n",
        "    \"promoted_content\": null\n",
        "   }, \n",
        "   {\n",
        "    \"url\": \"http://twitter.com/search?q=%23bajen\", \n",
        "    \"query\": \"%23bajen\", \n",
        "    \"name\": \"#bajen\", \n",
        "    \"promoted_content\": null\n",
        "   }, \n",
        "   {\n",
        "    \"url\": \"http://twitter.com/search?q=%22Urban+Ahlin%22\", \n",
        "    \"query\": \"%22Urban+Ahlin%22\", \n",
        "    \"name\": \"Urban Ahlin\", \n",
        "    \"promoted_content\": null\n",
        "   }, \n",
        "   {\n",
        "    \"url\": \"http://twitter.com/search?q=%23WeAreFoooFamily\", \n",
        "    \"query\": \"%23WeAreFoooFamily\", \n",
        "    \"name\": \"#WeAreFoooFamily\", \n",
        "    \"promoted_content\": null\n",
        "   }, \n",
        "   {\n",
        "    \"url\": \"http://twitter.com/search?q=%23Bokm%C3%A4ssan\", \n",
        "    \"query\": \"%23Bokm%C3%A4ssan\", \n",
        "    \"name\": \"#Bokm\\u00e4ssan\", \n",
        "    \"promoted_content\": null\n",
        "   }, \n",
        "   {\n",
        "    \"url\": \"http://twitter.com/search?q=%23agenda\", \n",
        "    \"query\": \"%23agenda\", \n",
        "    \"name\": \"#agenda\", \n",
        "    \"promoted_content\": null\n",
        "   }, \n",
        "   {\n",
        "    \"url\": \"http://twitter.com/search?q=%23svpol\", \n",
        "    \"query\": \"%23svpol\", \n",
        "    \"name\": \"#svpol\", \n",
        "    \"promoted_content\": null\n",
        "   }, \n",
        "   {\n",
        "    \"url\": \"http://twitter.com/search?q=Kina\", \n",
        "    \"query\": \"Kina\", \n",
        "    \"name\": \"Kina\", \n",
        "    \"promoted_content\": null\n",
        "   }, \n",
        "   {\n",
        "    \"url\": \"http://twitter.com/search?q=%22Tobias+Billstr%C3%B6m%22\", \n",
        "    \"query\": \"%22Tobias+Billstr%C3%B6m%22\", \n",
        "    \"name\": \"Tobias Billstr\\u00f6m\", \n",
        "    \"promoted_content\": null\n",
        "   }, \n",
        "   {\n",
        "    \"url\": \"http://twitter.com/search?q=Turkiet\", \n",
        "    \"query\": \"Turkiet\", \n",
        "    \"name\": \"Turkiet\", \n",
        "    \"promoted_content\": null\n",
        "   }\n",
        "  ], \n",
        "  \"as_of\": \"2014-09-29T13:49:06Z\", \n",
        "  \"locations\": [\n",
        "   {\n",
        "    \"woeid\": 906057, \n",
        "    \"name\": \"Stockholm\"\n",
        "   }\n",
        "  ]\n",
        " }\n",
        "]\n"
       ]
      }
     ],
     "prompt_number": 57
    },
    {
     "cell_type": "heading",
     "level": 4,
     "metadata": {},
     "source": [
      "Example 1-4"
     ]
    },
    {
     "cell_type": "code",
     "collapsed": false,
     "input": [
      "world_trends_set = set([trend['name'] for trend in world_trends[0]['trends']])\n",
      "stockholm_trends_set = set([trend['name'] for trend in stockholm_trends[0]['trends']])\n",
      "\n",
      "common_trends = world_trends_set.intersection(stockholm_trends_set)\n",
      "\n",
      "print common_trends\n",
      "print 'Todays Stockholm trends:\\n-------------------------'\n",
      "for trends in stockholm_trends_set:\n",
      "    print trends\n",
      "#print stockholm_trends_set                                                        "
     ],
     "language": "python",
     "metadata": {},
     "outputs": [
      {
       "output_type": "stream",
       "stream": "stdout",
       "text": [
        "set([])\n",
        "Todays Stockholm trends:\n",
        "-------------------------\n",
        "Urban Ahlin\n",
        "#agenda\n",
        "Kina\n",
        "#WeAreFoooFamily\n",
        "Tobias Billstr\u00f6m\n",
        "Turkiet\n",
        "Arlanda\n",
        "#bajen\n",
        "#svpol\n",
        "#Bokm\u00e4ssan\n"
       ]
      }
     ],
     "prompt_number": 58
    },
    {
     "cell_type": "heading",
     "level": 3,
     "metadata": {},
     "source": [
      "Problem T1-5 (Todays Stockholm trends)"
     ]
    },
    {
     "cell_type": "markdown",
     "metadata": {},
     "source": [
      "See above (Example 1-4)"
     ]
    },
    {
     "cell_type": "heading",
     "level": 3,
     "metadata": {},
     "source": [
      "Problem T1-6 - #MTVEMA Hashtag"
     ]
    },
    {
     "cell_type": "code",
     "collapsed": false,
     "input": [
      "import twitter\n",
      "import json\n",
      "\n",
      "with open(\"bot_config.txt\",\"r\") as f:\n",
      "    config = f.readlines()\n",
      "config_dict = dict(line.strip().split(\"=\") for line in config if not line.startswith(\"#\"))\n",
      "\n",
      "CONSUMER_KEY = config_dict[\"CONSUMER_KEY\"]  # API key\n",
      "# API secret key\n",
      "CONSUMER_SECRET = config_dict[\"CONSUMER_SECRET\"]\n",
      "# Access token\n",
      "OAUTH_TOKEN = config_dict[\"OAUTH_TOKEN\"]\n",
      "# access token secret\n",
      "OAUTH_TOKEN_SECRET = config_dict[\"OAUTH_TOKEN_SECRET\"]\n",
      "\n",
      "auth = twitter.oauth.OAuth(OAUTH_TOKEN, OAUTH_TOKEN_SECRET, CONSUMER_KEY, CONSUMER_SECRET)\n",
      "twitter_api = twitter.Twitter(auth=auth)\n",
      "\n",
      "print twitter_api\n",
      "\n",
      "q= '#MTVEMA' #\"Another hashtag\"\n",
      "count = 100\n",
      "search_results = twitter_api.search.tweets(q=q, count=count)\n",
      "statuses = search_results['statuses']\n",
      "\n",
      "for _ in range(5):\n",
      "    print \"Length of statuses\", len(statuses)\n",
      "    try:\n",
      "        next_results = search_results['search_metadata']['next_results']\n",
      "    except KeyError, e:\n",
      "        break\n",
      "    \n",
      "    kwargs = dict([kv.split('=') for kv in next_results[1:].split(\"&\")])\n",
      "    \n",
      "    search_results = twitter_api.search.tweets(**kwargs)\n",
      "    statuses += search_results['statuses']\n",
      "    \n",
      "print json.dumps(statuses[0], indent=1)"
     ],
     "language": "python",
     "metadata": {},
     "outputs": [
      {
       "output_type": "stream",
       "stream": "stdout",
       "text": [
        "<twitter.api.Twitter object at 0x7f4a22c0a650>\n",
        "Length of statuses"
       ]
      },
      {
       "output_type": "stream",
       "stream": "stdout",
       "text": [
        " 100\n",
        "Length of statuses"
       ]
      },
      {
       "output_type": "stream",
       "stream": "stdout",
       "text": [
        " 200\n",
        "Length of statuses"
       ]
      },
      {
       "output_type": "stream",
       "stream": "stdout",
       "text": [
        " 200\n",
        "{\n",
        " \"contributors\": null, \n",
        " \"truncated\": false, \n",
        " \"text\": \"Quatrocentos e setenta e tr\\u00eas #MTVEMA One Direction #EMABiggestFans1D\", \n",
        " \"in_reply_to_status_id\": null, \n",
        " \"id\": 516585386530054144, \n",
        " \"favorite_count\": 0, \n",
        " \"source\": \"<a href=\\\"http://twitter.com\\\" rel=\\\"nofollow\\\">Twitter Web Client</a>\", \n",
        " \"retweeted\": false, \n",
        " \"coordinates\": null, \n",
        " \"entities\": {\n",
        "  \"symbols\": [], \n",
        "  \"user_mentions\": [], \n",
        "  \"hashtags\": [\n",
        "   {\n",
        "    \"indices\": [\n",
        "     30, \n",
        "     37\n",
        "    ], \n",
        "    \"text\": \"MTVEMA\"\n",
        "   }, \n",
        "   {\n",
        "    \"indices\": [\n",
        "     52, \n",
        "     69\n",
        "    ], \n",
        "    \"text\": \"EMABiggestFans1D\"\n",
        "   }\n",
        "  ], \n",
        "  \"urls\": []\n",
        " }, \n",
        " \"in_reply_to_screen_name\": null, \n",
        " \"in_reply_to_user_id\": null, \n",
        " \"retweet_count\": 0, \n",
        " \"id_str\": \"516585386530054144\", \n",
        " \"favorited\": false, \n",
        " \"user\": {\n",
        "  \"follow_request_sent\": false, \n",
        "  \"profile_use_background_image\": true, \n",
        "  \"default_profile_image\": false, \n",
        "  \"id\": 2751685923, \n",
        "  \"profile_background_image_url_https\": \"https://abs.twimg.com/images/themes/theme1/bg.png\", \n",
        "  \"verified\": false, \n",
        "  \"profile_text_color\": \"333333\", \n",
        "  \"profile_image_url_https\": \"https://pbs.twimg.com/profile_images/510496944440213504/I9w7-7cT_normal.jpeg\", \n",
        "  \"profile_sidebar_fill_color\": \"DDEEF6\", \n",
        "  \"entities\": {\n",
        "   \"description\": {\n",
        "    \"urls\": []\n",
        "   }\n",
        "  }, \n",
        "  \"followers_count\": 62, \n",
        "  \"profile_sidebar_border_color\": \"C0DEED\", \n",
        "  \"id_str\": \"2751685923\", \n",
        "  \"profile_background_color\": \"C0DEED\", \n",
        "  \"listed_count\": 0, \n",
        "  \"is_translation_enabled\": false, \n",
        "  \"utc_offset\": -10800, \n",
        "  \"statuses_count\": 1058, \n",
        "  \"description\": \"Twitter dedicado as premia\\u00e7\\u00f5es que o 1D concorrerem, s\\u00f3 uso para votar ;) #SigoDeVolta\", \n",
        "  \"friends_count\": 57, \n",
        "  \"location\": \"Brazil \", \n",
        "  \"profile_link_color\": \"0084B4\", \n",
        "  \"profile_image_url\": \"http://pbs.twimg.com/profile_images/510496944440213504/I9w7-7cT_normal.jpeg\", \n",
        "  \"following\": false, \n",
        "  \"geo_enabled\": false, \n",
        "  \"profile_background_image_url\": \"http://abs.twimg.com/images/themes/theme1/bg.png\", \n",
        "  \"screen_name\": \"AgarroOzayn\", \n",
        "  \"lang\": \"pt\", \n",
        "  \"profile_background_tile\": false, \n",
        "  \"favourites_count\": 72, \n",
        "  \"name\": \"Senhora Stylik \", \n",
        "  \"notifications\": false, \n",
        "  \"url\": null, \n",
        "  \"created_at\": \"Tue Aug 26 13:49:25 +0000 2014\", \n",
        "  \"contributors_enabled\": false, \n",
        "  \"time_zone\": \"Santiago\", \n",
        "  \"protected\": false, \n",
        "  \"default_profile\": true, \n",
        "  \"is_translator\": false\n",
        " }, \n",
        " \"geo\": null, \n",
        " \"in_reply_to_user_id_str\": null, \n",
        " \"lang\": \"pt\", \n",
        " \"created_at\": \"Mon Sep 29 13:48:48 +0000 2014\", \n",
        " \"in_reply_to_status_id_str\": null, \n",
        " \"place\": null, \n",
        " \"metadata\": {\n",
        "  \"iso_language_code\": \"pt\", \n",
        "  \"result_type\": \"recent\"\n",
        " }\n",
        "}\n"
       ]
      }
     ],
     "prompt_number": 59
    },
    {
     "cell_type": "heading",
     "level": 3,
     "metadata": {},
     "source": [
      "Problem T1-7 - What does the coordinate field contain when it's not null"
     ]
    },
    {
     "cell_type": "markdown",
     "metadata": {},
     "source": [
      "The coordinate field contains the longitude and latitude for the person who has tweeted the tweet on that time. "
     ]
    },
    {
     "cell_type": "heading",
     "level": 3,
     "metadata": {},
     "source": [
      "Problem T1-8 - Do you understand the \"Counter\" in example 1-7? Take a look at the Python documentation here. Which Python container type is \"Counter\" most similar to? Explain your answer"
     ]
    },
    {
     "cell_type": "markdown",
     "metadata": {},
     "source": [
      "The Counter class is for counting elements in a sequence, a dictionary is returned with all keys being the sequences unique elements, and the value for each key is the number of times a value found.\n",
      "\n",
      "The Counter class is most similar to the python dictionary, and is also a subclass of dict."
     ]
    },
    {
     "cell_type": "code",
     "collapsed": false,
     "input": [
      "# Counter example, no pun intended\n",
      "import collections\n",
      "c = collections.Counter([1,1,1,2,2,3,3,4])\n",
      "print(c)"
     ],
     "language": "python",
     "metadata": {},
     "outputs": [
      {
       "output_type": "stream",
       "stream": "stdout",
       "text": [
        "Counter({1: 3, 2: 2, 3: 2, 4: 1})\n"
       ]
      }
     ],
     "prompt_number": 1
    },
    {
     "cell_type": "markdown",
     "metadata": {},
     "source": [
      "###Problem T1-9 - The notes for example 1-14 state \"Using underscores while unpacking values in  a tuple is idiomatic for discarding them\". What does that mean?"
     ]
    },
    {
     "cell_type": "markdown",
     "metadata": {},
     "source": [
      "It means that among pythonistas the \"_\" variable name means the variable is not used and thus only used for allowing unpacking.\n",
      "\n",
      "Thus in the following expression we do not care about the other variables unpacked, only count:\n",
      "\n",
      "counts = [count for count, _, _ in retweets]"
     ]
    },
    {
     "cell_type": "markdown",
     "metadata": {},
     "source": [
      "<hr>"
     ]
    },
    {
     "cell_type": "heading",
     "level": 3,
     "metadata": {},
     "source": [
      "Problem T2-1 - What is the definition of a social bot? What is the Turing test? When can a social bot claim to have passed the Turing test?"
     ]
    },
    {
     "cell_type": "markdown",
     "metadata": {},
     "source": [
      "A social bot (software robot) is a piece of software which can simulate a human being. \n",
      "Social bots \"lives\" on a social network (like Twitter and Facebook) and does something on that network. \n",
      "What it does, is up to how it has been implementet. Some bots are harmless and try to help certain kund of people. For instance, a bot for\n",
      "a big company can try to \"answer\" questions from customers. It can do this by havin top 10 qustions and try to \"spot\" those question \n",
      "and then post a answer. \n",
      "\n",
      "Other bots are directly harmfull, as they (try) to spread malicious programs/code, try to spread a rumour or exploit \n",
      "some other informatons. \n",
      "\n",
      "<br>\n",
      "<b>Turing test </b><br>\n",
      "The Turing test is from Alan Turing, and has the purpose of determine is a computer (or a bot), can act like/simulate a human being. \n",
      "In the test, a real person is interacting with a computer without knowing it is through some questions that the person\n",
      "can ask the computer. \n",
      "If the the human being conducting the test is unable to consistently determine whether an answer has been given by a computer\n",
      "or by another human being, then the computer is considered to have \"passed\" the test.\n"
     ]
    },
    {
     "cell_type": "heading",
     "level": 3,
     "metadata": {},
     "source": [
      "Problem T2-2 - Mention what you think are the three most important problems related to unleashing social bots on Twitter, Facebook, or other social networks. "
     ]
    },
    {
     "cell_type": "markdown",
     "metadata": {},
     "source": [
      "Social bots is getting more and more clever and therefor can pass the Turing more easylier than ever. This means that a human being will\n",
      "trust the bots more because he thinks it is a real person. \n",
      "This can mean that the bots can easy delude the person into beleave whatever. Rumours, terrorist threat and so on. \n",
      "\n",
      "Under that \"umbrella\" called rumours there are many problems:\n",
      "    1. Terrorist threat - fake or real, it realy doesn't matter. It can couse pannic\n",
      "    2. Child abuse - People who wants to abuse children can hide behind bots\n",
      "    3. Affect the stock market - through fake or real rumours to earn quick money. "
     ]
    },
    {
     "cell_type": "heading",
     "level": 3,
     "metadata": {},
     "source": [
      "Problem T2-3 - In the section \"Act like a human, think like a bot\" the authors explain potential strategies used by sophisticated bots. Create a list summarizing all those strategies - and write a short evaluation of how effective you think each one is. Provide reasons for your answers"
     ]
    },
    {
     "cell_type": "markdown",
     "metadata": {},
     "source": [
      "\n",
      "Below is our answers/thoughts. <br>\n",
      "The effectivity is on the scale 1 - 10 where 10 is the best - meaning best/very good to make the bot clever/sophisticated. <br>\n",
      "<table>\n",
      "    <tr>\n",
      "        <th> <center>Strategy </center></th>\n",
      "        <th> <center>Description</center></th>\n",
      "        <th> Effectivity <br><center>(1-10)</center> </th>\n",
      "        <th> <center>Reasons for effectivity</center> </th>\n",
      "    </tr>\n",
      "    <tr>\n",
      "        <td> Search the web </td>\n",
      "        <td> The bot search the web for interesting subjects to post and use for updating the profile. Such as pictures, links ect. </td>\n",
      "        <td> <center>6 </center></td>\n",
      "        <td> This could do pretty much in the beginning - to \"setup\" the profile/bot. Is can give the bot character and personality, but then it ends. The profile hasn't any socially interacting, which we think is essential. </td>\n",
      "    </tr>\n",
      "    <tr>\n",
      "        <td> Entertaining conversations </td>\n",
      "        <td> The bot can interact in conversations by searching the web for relevant answers/links to post. Here can posts from a chatbot be useful for directly conversations. </td>\n",
      "        <td> <center>9 </center></td>\n",
      "        <td> This can give the bot a more social interact. The difficult part is, when to search for a topic on the web and when a chatbot could help. Sometimes a clever combination between those two, could work perfectly. <br>\n",
      "        If the bot could search and post on topics that the bot is interessted in, say like Apple or Chicago Bulls (Basketball team), then it would definitely give the bot more socially personality. </td>\n",
      "    </tr>\n",
      "    <tr>\n",
      "        <td> Follow popular and influential people </td>\n",
      "        <td> The bot finds popular and unfluential people trough its network or by searching the web, and then it follows the people. This is to get more followers.  </td>\n",
      "        <td><center> 6</center> </td>\n",
      "        <td> It's a good idea to get new followers fast, but it cant stand alone. But if we comine this with the below, it could be very good.   </td>\n",
      "    </tr>\n",
      "    <tr>\n",
      "        <td>Infiltrate popular discussions</td>\n",
      "        <td> Again the bot will search the web for relevant topics to post as comment. Typically comments on hot topics (this could be the iPone Bendgate which is a pretty hot topic right now.</td>\n",
      "        <td><center> 7 </center></td>\n",
      "        <td> If the bot can post releevant or funny comments about hot topics or people which it just have followed (or following - old follows) it could attract attention which can get more followers </td>\n",
      "    </tr>\n",
      "    <tr>\n",
      "        <td>\u201cClone\u201d the behavior of legitimate people</td>\n",
      "        <td> Emmitate a legimate person as for regarding timing and posting contents. By contents we mean, if its a picture, link, comment or a fourth kind of post. </td>\n",
      "        <td> <center>4-5</center></td>\n",
      "        <td> It can be a good idea to have an idea on how, what and when people post. Especially the last one. To get a time scheduele for when it is normal to post something. <br>\n",
      "        But we dont think its a good idea to totally clone a persons behavior. If it isn't done right, it can do more damage than good. </td>\n",
      "    </tr>\n",
      "</table>"
     ]
    },
    {
     "cell_type": "markdown",
     "metadata": {},
     "source": [
      "<hr>"
     ]
    },
    {
     "cell_type": "heading",
     "level": 3,
     "metadata": {},
     "source": [
      "Problem T3-1"
     ]
    },
    {
     "cell_type": "markdown",
     "metadata": {},
     "source": [
      "Instead of an Amazon EC2 account, we chosed to setup an Intel NUC computer (<a href=\"http://www.intel.com/content/www/us/en/nuc/overview.html\">Intel NUC</a>) with Ubuntu installed, running around the clock.\n",
      "\n",
      "We installed python and pip with apt-get and then installed the necessary python libraries through a combination of apt-get and pip.\n"
     ]
    },
    {
     "cell_type": "heading",
     "level": 3,
     "metadata": {},
     "source": [
      "Problem T3-2 - Start by reading about cron here http://en.wikipedia.org/wiki/Cron. What does cron do? Which file do you need to change in order to start scheduling a script. How do you schedule a program to run every 15 minutes? How would you add randomness the timings?"
     ]
    },
    {
     "cell_type": "markdown",
     "metadata": {},
     "source": [
      "Cron is a job scheduler for unix-like operating systems and thus allows one to run programs regularly at specified intervals.\n",
      "\n",
      "In our Ubuntu distribution, the file to be edited is \"/etc/crontab\", it can also be edited by typing \"crontab -e\".\n",
      "\n",
      "The expression to schedule a program to run every 15minutes is: \"*/15 * * * *\" where the dots signify minutes, hours, month, day of month, day of week\n",
      "\n",
      "We introduce randomness in the timings by using the random and time libraries in python, specifically random.randint() and time.sleep(), we tried introducing randomness directly in the crontab via the bash $RANDOM() function that returns a pseudorandom integer, but because crontab is executed using dash and not bash, and dash does not have a random function, we resorted to using the python libraries."
     ]
    },
    {
     "cell_type": "markdown",
     "metadata": {},
     "source": [
      "###Set up a script that collects all tweets in your own timeline"
     ]
    },
    {
     "cell_type": "markdown",
     "metadata": {},
     "source": [
      "Below is functions from our bot responsible for collecting tweets"
     ]
    },
    {
     "cell_type": "markdown",
     "metadata": {},
     "source": [
      "#### function that retrieves user timeline"
     ]
    },
    {
     "cell_type": "code",
     "collapsed": false,
     "input": [
      "def get_user_timeline_tweets(api):\n",
      "    \"\"\" retrieve 200 newest tweets from user timeline\"\"\"\n",
      "    tweets = api.statuses.user_timeline(count=200)\n",
      "    if not tweets:\n",
      "        print(\"failed to fetch statuses\")\n",
      "        sys.exit()\n",
      "    return tweets"
     ],
     "language": "python",
     "metadata": {},
     "outputs": [],
     "prompt_number": 60
    },
    {
     "cell_type": "markdown",
     "metadata": {},
     "source": [
      "#### function that retrieves home timeline"
     ]
    },
    {
     "cell_type": "code",
     "collapsed": false,
     "input": [
      "def get_home_timeline_tweets(api, home_timeline_db):\n",
      "    \"\"\"retrieve newest tweets from home timeline\"\"\"\n",
      "    if home_timeline_db.count():\n",
      "        sorted_tweets = home_timeline_db.find().sort(\"id\",pymongo.DESCENDING)\n",
      "        newest_tweet = sorted_tweets[0]\n",
      "        if newest_tweet:\n",
      "            tweets = api.statuses.home_timeline(count=200, since_id = newest_tweet[\"id\"])\n",
      "            return tweets\n",
      "    tweets = api.statuses.home_timeline(count=200)\n",
      "    return tweets"
     ],
     "language": "python",
     "metadata": {},
     "outputs": [],
     "prompt_number": 61
    },
    {
     "cell_type": "markdown",
     "metadata": {},
     "source": [
      "#### function that saves tweet in mongodb database"
     ]
    },
    {
     "cell_type": "code",
     "collapsed": false,
     "input": [
      "def save_tweet(tweet_db, tweet):\n",
      "    \"\"\"saves tweet to \"tweets\" mongodb collection\"\"\"\n",
      "    tweet = {\"text\": tweet[\"text\"],\n",
      "             \"coordinates\": tweet[\"coordinates\"],\n",
      "             \"retweet_count\": tweet[\"retweet_count\"],\n",
      "             \"id\": tweet[\"id\"],\n",
      "             \"created_at\": tweet[\"created_at\"],\n",
      "             \"user_id\": tweet[\"user\"][\"id\"]}\n",
      "    tweet_db.insert(tweet)\n",
      "    pprint.pprint(\"put tweet with id: {} in db\".format(tweet[\"id\"]))"
     ],
     "language": "python",
     "metadata": {},
     "outputs": [],
     "prompt_number": 62
    },
    {
     "cell_type": "markdown",
     "metadata": {},
     "source": [
      "### T4-1 The code must run on your AWS machine."
     ]
    },
    {
     "cell_type": "markdown",
     "metadata": {},
     "source": [
      "The bot is running on a private server (Intel NUC) with Ubuntu 14.04 installed. See T3-1."
     ]
    },
    {
     "cell_type": "markdown",
     "metadata": {},
     "source": [
      "### T4-2 Your bot must have a realistic profile, scoring well (human) on http://truthy.indiana.edu/botornot/ site."
     ]
    },
    {
     "cell_type": "markdown",
     "metadata": {},
     "source": [
      "We currently have a score of 68, and we realize this is not ideal and we want to bring the score down.\n",
      "The highest scores in category for our bot is: sentiment, network and friends.\n",
      "We plan on bringing the score down in general by doing the following:\n",
      "* Posting tweets about upcoming Chicago Bulls matches\n",
      "* Tweets dictated by top trends in Chicago\n",
      "* Posting tweets about info scraped from a news site (like Chicago Tribune or NBC Chicago) \n",
      "\n",
      "We will improve the sentiment by:\n",
      "* providing relevant emoticons with our tweets\n",
      "* providing comments to retweets based on content\n",
      "\n",
      "We will improve the network/friends by:\n",
      "* Get more relationships from Chicago (both passive and aggressive with following based on Chicago search)\n"
     ]
    },
    {
     "cell_type": "markdown",
     "metadata": {},
     "source": [
      "### T4-3 The bot must have a \"location\", and each tweet must have a geo-tag close to that location."
     ]
    },
    {
     "cell_type": "markdown",
     "metadata": {},
     "source": [
      "We have defined the lat, long pair: (41.9479831,-87.8365125) which corresponds to Chicago in this beautiful house:"
     ]
    },
    {
     "cell_type": "code",
     "collapsed": false,
     "input": [
      "from IPython.display import Image\n",
      "Image(filename=\"house.png\")"
     ],
     "language": "python",
     "metadata": {},
     "outputs": [
      {
       "metadata": {},
       "output_type": "pyout",
       "png": "[encoded data removed]",
       "prompt_number": 63,
       "text": [
        "<IPython.core.display.Image at 0x7f4a2a8ea890>"
       ]
      }
     ],
     "prompt_number": 63
    },
    {
     "cell_type": "markdown",
     "metadata": {},
     "source": [
      "We apologize for the tree in the foreground but google maps is at fault, not us.\n",
      "\n",
      "The latitude and longitude is passed each time we tweet.\n",
      "We plan on implementing locations based on popular chicago places like bars, local events, restaurants. "
     ]
    },
    {
     "cell_type": "markdown",
     "metadata": {},
     "source": [
      "### T4-4 You must have implemented the reciprocal follow routine using cron. I recommend a \"sophisticated\" (not all at once, not totally random) time table for this."
     ]
    },
    {
     "cell_type": "markdown",
     "metadata": {},
     "source": [
      "The reciprocal follow routine is scheduled as follows:\n",
      "* at 8:30 Chicago time with an added random delay of 0-15 minutes, the bot is following 50 new followback users with a random delay of N/2 <= time <= N where N = 30s\n",
      "* at 20:00 Chicago time with an added random delay of 0-2 hours, the bot is unfollowing the users who have not followed us back within 24 hours with a random delay of N/2 <= time <= N where N = 30s"
     ]
    },
    {
     "cell_type": "markdown",
     "metadata": {},
     "source": [
      "###T4-5 Your bot must retweet precisely one tweet per day using cron (e.g. the most re-tweeted tweet you've seen in the past 24 hours). Again, the timing of the tweet must include sophisticated/circadian time table."
     ]
    },
    {
     "cell_type": "markdown",
     "metadata": {},
     "source": [
      "The retweet routine is scheduled as follows:\n",
      "* at 20:00 Chicago time with an added random delay of 0-2hours, the bot is gathering the new home timeline tweets, extracting the one with the maximum number of retweets and posting it as a retweet"
     ]
    },
    {
     "cell_type": "markdown",
     "metadata": {},
     "source": [
      "###T5-1  Make sure that our official logging script is up and running"
     ]
    },
    {
     "cell_type": "markdown",
     "metadata": {},
     "source": [
      "The logging script is up and running, here's the log for 2014-09-29 15:00 activity log:"
     ]
    },
    {
     "cell_type": "markdown",
     "metadata": {},
     "source": [
      "2014-09-29 15:00:01     ====================== START ===================<br>\n",
      "2014-09-29 15:00:01     Fetched 190 total friends ids for 2787905696<br>\n",
      "2014-09-29 15:00:02     Fetched 117 total followers ids for 2787905696<br>\n",
      "2014-09-29 15:00:09     Uploading edges: hello 2787905696 with 117 followers and 190 friends<br>\n",
      "2014-09-29 15:00:10     Fetched 15 tweets<br>\n",
      "2014-09-29 15:00:10     Fetched 0 tweets<br>\n",
      "2014-09-29 15:00:10     Done fetching tweets<br>\n",
      "2014-09-29 15:00:10     Uploading own tweets: ok<br>\n",
      "2014-09-29 15:00:10     ====================== OVER ====================<br>\n"
     ]
    },
    {
     "cell_type": "markdown",
     "metadata": {},
     "source": [
      "<hr>"
     ]
    },
    {
     "cell_type": "heading",
     "level": 2,
     "metadata": {},
     "source": [
      "Part 2 - NLPP1e"
     ]
    },
    {
     "cell_type": "heading",
     "level": 3,
     "metadata": {},
     "source": [
      "Problem N1-1 Download the various Corpora as described in Section 1.1"
     ]
    },
    {
     "cell_type": "code",
     "collapsed": false,
     "input": [
      "#import nltk\n",
      "nltk.download()"
     ],
     "language": "python",
     "metadata": {},
     "outputs": [
      {
       "output_type": "stream",
       "stream": "stdout",
       "text": [
        "showing info http://nltk.github.com/nltk_data/\n"
       ]
      },
      {
       "metadata": {},
       "output_type": "pyout",
       "prompt_number": 90,
       "text": [
        "True"
       ]
      }
     ],
     "prompt_number": 90
    },
    {
     "cell_type": "code",
     "collapsed": false,
     "input": [
      "import nltk\n",
      "from nltk.book import *\n",
      "%matplotlib inline\n"
     ],
     "language": "python",
     "metadata": {},
     "outputs": [
      {
       "output_type": "stream",
       "stream": "stdout",
       "text": [
        "*** Introductory Examples for the NLTK Book ***\n",
        "Loading text1, ..., text9 and sent1, ..., sent9\n",
        "Type the name of the text or sentence to view it.\n",
        "Type: 'texts()' or 'sents()' to list the materials.\n",
        "text1:"
       ]
      },
      {
       "output_type": "stream",
       "stream": "stdout",
       "text": [
        " Moby Dick by Herman Melville 1851\n",
        "text2:"
       ]
      },
      {
       "output_type": "stream",
       "stream": "stdout",
       "text": [
        " Sense and Sensibility by Jane Austen 1811\n",
        "text3:"
       ]
      },
      {
       "output_type": "stream",
       "stream": "stdout",
       "text": [
        " The Book of Genesis\n",
        "text4:"
       ]
      },
      {
       "output_type": "stream",
       "stream": "stdout",
       "text": [
        " Inaugural Address Corpus\n",
        "text5:"
       ]
      },
      {
       "output_type": "stream",
       "stream": "stdout",
       "text": [
        " Chat Corpus\n",
        "text6: Monty Python and the Holy Grail\n",
        "text7:"
       ]
      },
      {
       "output_type": "stream",
       "stream": "stdout",
       "text": [
        " Wall Street Journal\n",
        "text8: Personals Corpus\n",
        "text9:"
       ]
      },
      {
       "output_type": "stream",
       "stream": "stdout",
       "text": [
        " The Man Who Was Thursday by G . K . Chesterton 1908\n"
       ]
      }
     ],
     "prompt_number": 2
    },
    {
     "cell_type": "heading",
     "level": 3,
     "metadata": {},
     "source": [
      "Problem N1-2 Try out the concordance method, using another text and a word of your own chosing."
     ]
    },
    {
     "cell_type": "code",
     "collapsed": false,
     "input": [
      "text3.concordance(\"rain\")"
     ],
     "language": "python",
     "metadata": {},
     "outputs": [
      {
       "output_type": "stream",
       "stream": "stdout",
       "text": [
        "Displaying 4 of 4 matches:\n",
        "or the LORD God had not caused it to rain upon the earth , and there was not a\n",
        " seven days , and I will cause it to rain upon the earth forty days and forty \n",
        "dows of heaven were opened . And the rain was upon the earth forty days and fo\n",
        "ows of heaven were stopped , and the rain from heaven was restrained ; And the\n"
       ]
      }
     ],
     "prompt_number": 66
    },
    {
     "cell_type": "heading",
     "level": 3,
     "metadata": {},
     "source": [
      "Problem N1-3 Also try out the similar and common_context methods for a few of your own examples."
     ]
    },
    {
     "cell_type": "code",
     "collapsed": false,
     "input": [
      "text1.similar(\"good\")"
     ],
     "language": "python",
     "metadata": {},
     "outputs": [
      {
       "output_type": "stream",
       "stream": "stdout",
       "text": [
        "great much small large the long white that common it in sharp such\n",
        "with close whale well old considerable certain\n"
       ]
      }
     ],
     "prompt_number": 67
    },
    {
     "cell_type": "code",
     "collapsed": false,
     "input": [
      "text4.common_contexts([\"good\",\"bad\"])"
     ],
     "language": "python",
     "metadata": {},
     "outputs": [
      {
       "output_type": "stream",
       "stream": "stdout",
       "text": [
        "and_faith\n"
       ]
      }
     ],
     "prompt_number": 68
    },
    {
     "cell_type": "heading",
     "level": 3,
     "metadata": {},
     "source": [
      "Problem N1-4 Create your own version of a lexical dispersion plot"
     ]
    },
    {
     "cell_type": "code",
     "collapsed": false,
     "input": [
      "text3.dispersion_plot([\"good\", \"evil\"])"
     ],
     "language": "python",
     "metadata": {},
     "outputs": [
      {
       "metadata": {},
       "output_type": "display_data",
       "png": "[encoded data removed]",
       "text": [
        "<matplotlib.figure.Figure at 0x7f4a2a8416d0>"
       ]
      }
     ],
     "prompt_number": 69
    },
    {
     "cell_type": "heading",
     "level": 3,
     "metadata": {},
     "source": [
      "Problem N1-5 Create frequency distributions for text2, including the cumulative frequency plot for the 75 most common words."
     ]
    },
    {
     "cell_type": "code",
     "collapsed": false,
     "input": [
      "fdist1 = nltk.FreqDist(text2)\n",
      "fdist1.most_common(75)"
     ],
     "language": "python",
     "metadata": {},
     "outputs": [
      {
       "metadata": {},
       "output_type": "pyout",
       "prompt_number": 70,
       "text": [
        "[(u',', 9397),\n",
        " (u'to', 4063),\n",
        " (u'.', 3975),\n",
        " (u'the', 3861),\n",
        " (u'of', 3565),\n",
        " (u'and', 3350),\n",
        " (u'her', 2436),\n",
        " (u'a', 2043),\n",
        " (u'I', 2004),\n",
        " (u'in', 1904),\n",
        " (u'was', 1846),\n",
        " (u'it', 1568),\n",
        " (u'\"', 1506),\n",
        " (u';', 1419),\n",
        " (u'she', 1333),\n",
        " (u'be', 1305),\n",
        " (u'that', 1297),\n",
        " (u'for', 1234),\n",
        " (u'not', 1212),\n",
        " (u'as', 1179),\n",
        " (u'you', 1037),\n",
        " (u'with', 971),\n",
        " (u'had', 969),\n",
        " (u'his', 941),\n",
        " (u'he', 895),\n",
        " (u\"'\", 883),\n",
        " (u'have', 807),\n",
        " (u'at', 806),\n",
        " (u'by', 737),\n",
        " (u'is', 728),\n",
        " (u'.\"', 721),\n",
        " (u's', 700),\n",
        " (u'Elinor', 684),\n",
        " (u'on', 676),\n",
        " (u'all', 642),\n",
        " (u'him', 633),\n",
        " (u'so', 617),\n",
        " (u'but', 597),\n",
        " (u'which', 592),\n",
        " (u'could', 568),\n",
        " (u'Marianne', 566),\n",
        " (u'my', 551),\n",
        " (u'Mrs', 530),\n",
        " (u'from', 527),\n",
        " (u'would', 507),\n",
        " (u'very', 492),\n",
        " (u'no', 488),\n",
        " (u'their', 463),\n",
        " (u'them', 462),\n",
        " (u'--', 461),\n",
        " (u'been', 440),\n",
        " (u'were', 437),\n",
        " (u'me', 433),\n",
        " (u'they', 428),\n",
        " (u'more', 406),\n",
        " (u'said', 397),\n",
        " (u',\"', 396),\n",
        " (u'any', 389),\n",
        " (u'what', 375),\n",
        " (u'this', 372),\n",
        " (u'-', 366),\n",
        " (u'every', 361),\n",
        " (u'than', 360),\n",
        " (u'will', 354),\n",
        " (u'or', 353),\n",
        " (u'your', 347),\n",
        " (u'an', 346),\n",
        " (u'such', 340),\n",
        " (u'one', 304),\n",
        " (u'do', 296),\n",
        " (u'!', 289),\n",
        " (u'But', 289),\n",
        " (u'much', 287),\n",
        " (u'sister', 282),\n",
        " (u'only', 282)]"
       ]
      }
     ],
     "prompt_number": 70
    },
    {
     "cell_type": "code",
     "collapsed": false,
     "input": [
      "# used 50 since we were unable to see the words on the x axis with 75\n",
      "fdist1.plot(50,cumulative=True)"
     ],
     "language": "python",
     "metadata": {},
     "outputs": [
      {
       "metadata": {},
       "output_type": "display_data",
       "png": "[encoded data removed]",
       "text": [
        "<matplotlib.figure.Figure at 0x7f4a22c4b310>"
       ]
      }
     ],
     "prompt_number": 71
    },
    {
     "cell_type": "heading",
     "level": 3,
     "metadata": {},
     "source": [
      "Problem N1-6 Work through ex 1-9 in NLPP's section 1.8. "
     ]
    },
    {
     "cell_type": "heading",
     "level": 4,
     "metadata": {},
     "source": [
      "Exercise 1.8-1"
     ]
    },
    {
     "cell_type": "code",
     "collapsed": false,
     "input": [
      "6 / (3 + 1)"
     ],
     "language": "python",
     "metadata": {},
     "outputs": [
      {
       "metadata": {},
       "output_type": "pyout",
       "prompt_number": 72,
       "text": [
        "1"
       ]
      }
     ],
     "prompt_number": 72
    },
    {
     "cell_type": "heading",
     "level": 4,
     "metadata": {},
     "source": [
      "Exercise 1.8-2"
     ]
    },
    {
     "cell_type": "code",
     "collapsed": false,
     "input": [
      "26 ** 100"
     ],
     "language": "python",
     "metadata": {},
     "outputs": [
      {
       "metadata": {},
       "output_type": "pyout",
       "prompt_number": 73,
       "text": [
        "3142930641582938830174357788501626427282669988762475256374173175398995908420104023465432599069702289330964075081611719197835869803511992549376L"
       ]
      }
     ],
     "prompt_number": 73
    },
    {
     "cell_type": "heading",
     "level": 4,
     "metadata": {},
     "source": [
      "Exercise 1.8-3"
     ]
    },
    {
     "cell_type": "markdown",
     "metadata": {},
     "source": [
      "A single list is created with 20 \"Monty\", \"Pythons\"\n"
     ]
    },
    {
     "cell_type": "code",
     "collapsed": false,
     "input": [
      "[\"Monty\", \"Python\"]*20"
     ],
     "language": "python",
     "metadata": {},
     "outputs": [
      {
       "metadata": {},
       "output_type": "pyout",
       "prompt_number": 74,
       "text": [
        "['Monty',\n",
        " 'Python',\n",
        " 'Monty',\n",
        " 'Python',\n",
        " 'Monty',\n",
        " 'Python',\n",
        " 'Monty',\n",
        " 'Python',\n",
        " 'Monty',\n",
        " 'Python',\n",
        " 'Monty',\n",
        " 'Python',\n",
        " 'Monty',\n",
        " 'Python',\n",
        " 'Monty',\n",
        " 'Python',\n",
        " 'Monty',\n",
        " 'Python',\n",
        " 'Monty',\n",
        " 'Python',\n",
        " 'Monty',\n",
        " 'Python',\n",
        " 'Monty',\n",
        " 'Python',\n",
        " 'Monty',\n",
        " 'Python',\n",
        " 'Monty',\n",
        " 'Python',\n",
        " 'Monty',\n",
        " 'Python',\n",
        " 'Monty',\n",
        " 'Python',\n",
        " 'Monty',\n",
        " 'Python',\n",
        " 'Monty',\n",
        " 'Python',\n",
        " 'Monty',\n",
        " 'Python',\n",
        " 'Monty',\n",
        " 'Python']"
       ]
      }
     ],
     "prompt_number": 74
    },
    {
     "cell_type": "heading",
     "level": 4,
     "metadata": {},
     "source": [
      "Exercise 1.8-4 "
     ]
    },
    {
     "cell_type": "code",
     "collapsed": false,
     "input": [
      "print(\"total words: {0}\".format(len(text2)))\n",
      "print(\"total distinct words: {0}\".format(len(set(text2))))"
     ],
     "language": "python",
     "metadata": {},
     "outputs": [
      {
       "output_type": "stream",
       "stream": "stdout",
       "text": [
        "total words: 141576\n",
        "total distinct words: 6833"
       ]
      },
      {
       "output_type": "stream",
       "stream": "stdout",
       "text": [
        "\n"
       ]
      }
     ],
     "prompt_number": 75
    },
    {
     "cell_type": "heading",
     "level": 4,
     "metadata": {},
     "source": [
      "Exercise 1.8-5"
     ]
    },
    {
     "cell_type": "markdown",
     "metadata": {},
     "source": [
      "We are using the definition of lexical diversity from the MTSW book and the new NLTK book ( len(set(text)) / len(text) ) because of a discrepancy from the old and the new book. According to the table it seems Humour is more lexical diverse with a value of 0.231 where Fiction: Romance only has a value of 0.121"
     ]
    },
    {
     "cell_type": "heading",
     "level": 4,
     "metadata": {},
     "source": [
      "Exercise 1.8-6"
     ]
    },
    {
     "cell_type": "code",
     "collapsed": false,
     "input": [
      "text2.dispersion_plot([\"Elinor\", \"Marianne\", \"Edward\", \"Willoughby\"])"
     ],
     "language": "python",
     "metadata": {},
     "outputs": [
      {
       "metadata": {},
       "output_type": "display_data",
       "png": "[encoded data removed]",
       "text": [
        "<matplotlib.figure.Figure at 0x7f4a22c1f250>"
       ]
      }
     ],
     "prompt_number": 76
    },
    {
     "cell_type": "markdown",
     "metadata": {},
     "source": [
      "We can observe that the females play a much larger role in the novel than the males and are mentioned very often.\n",
      "An estimate from the plot is that the couples are: (Elinor, Edward) and (Marianne, Wiloughby)"
     ]
    },
    {
     "cell_type": "heading",
     "level": 4,
     "metadata": {},
     "source": [
      "Exercise 1.8-7"
     ]
    },
    {
     "cell_type": "code",
     "collapsed": false,
     "input": [
      "text5.collocations()"
     ],
     "language": "python",
     "metadata": {},
     "outputs": [
      {
       "output_type": "stream",
       "stream": "stdout",
       "text": [
        "wanna chat; PART JOIN; MODE #14-19teens; JOIN PART; PART PART;\n",
        "cute.-ass MP3; MP3 player; JOIN JOIN; times .. .; ACTION watches; guys\n",
        "wanna; song lasts; last night; ACTION sits; -...)...- S.M.R.; Lime\n",
        "Player; Player 12%; dont know; lez gurls; long time\n"
       ]
      }
     ],
     "prompt_number": 77
    },
    {
     "cell_type": "heading",
     "level": 4,
     "metadata": {},
     "source": [
      "Exercise 1.8-8"
     ]
    },
    {
     "cell_type": "markdown",
     "metadata": {},
     "source": [
      "The set function in python converts the sequence to a set thus removing duplicates.\n",
      "The len function counts the number of elements in the sequence."
     ]
    },
    {
     "cell_type": "heading",
     "level": 4,
     "metadata": {},
     "source": [
      "Exercise 1.8-9"
     ]
    },
    {
     "cell_type": "code",
     "collapsed": false,
     "input": [
      "my_string = \"Anders\"\n",
      "print(my_string)\n",
      "my_string\n",
      "print(my_string+my_string)\n",
      "print(my_string*3)\n",
      "# with spaces\n",
      "print((my_string+\" \")*3)\n"
     ],
     "language": "python",
     "metadata": {},
     "outputs": [
      {
       "output_type": "stream",
       "stream": "stdout",
       "text": [
        "Anders\n",
        "AndersAnders\n",
        "AndersAndersAnders\n",
        "Anders Anders Anders \n"
       ]
      }
     ],
     "prompt_number": 78
    },
    {
     "cell_type": "heading",
     "level": 3,
     "metadata": {},
     "source": [
      "Problem N1-7 Work through exercise 12, 15, 17, 19, 22, 23, 25, 26, 27 in section 1.8. "
     ]
    },
    {
     "cell_type": "heading",
     "level": 4,
     "metadata": {},
     "source": [
      "Exercise 1.8-12"
     ]
    },
    {
     "cell_type": "markdown",
     "metadata": {},
     "source": [
      "The first is a slice expression which slices from element 6 to 12, the second expression extracts the second element in the list, the second expression will typically be more relevant for NLP"
     ]
    },
    {
     "cell_type": "code",
     "collapsed": false,
     "input": [
      "print(\"Monty Python\"[6:12])\n",
      "print([\"Monty\", \"Python\"][1])"
     ],
     "language": "python",
     "metadata": {},
     "outputs": [
      {
       "output_type": "stream",
       "stream": "stdout",
       "text": [
        "Python\n",
        "Python\n"
       ]
      }
     ],
     "prompt_number": 79
    },
    {
     "cell_type": "heading",
     "level": 4,
     "metadata": {},
     "source": [
      "Exercise 1.8-15"
     ]
    },
    {
     "cell_type": "code",
     "collapsed": false,
     "input": [
      "sorted([w for w in set(text5) if w.startswith(\"b\")])"
     ],
     "language": "python",
     "metadata": {},
     "outputs": [
      {
       "metadata": {},
       "output_type": "pyout",
       "prompt_number": 80,
       "text": [
        "[u'b',\n",
        " u'b-day',\n",
        " u'b/c',\n",
        " u'b4',\n",
        " u'babay',\n",
        " u'babble',\n",
        " u'babblein',\n",
        " u'babe',\n",
        " u'babes',\n",
        " u'babi',\n",
        " u'babies',\n",
        " u'babiess',\n",
        " u'baby',\n",
        " u'babycakeses',\n",
        " u'bachelorette',\n",
        " u'back',\n",
        " u'backatchya',\n",
        " u'backfrontsidewaysandallaroundtheworld',\n",
        " u'backroom',\n",
        " u'backup',\n",
        " u'bacl',\n",
        " u'bad',\n",
        " u'bag',\n",
        " u'bagel',\n",
        " u'bagels',\n",
        " u'bahahahaa',\n",
        " u'bak',\n",
        " u'baked',\n",
        " u'balad',\n",
        " u'balance',\n",
        " u'balck',\n",
        " u'ball',\n",
        " u'ballin',\n",
        " u'balls',\n",
        " u'ban',\n",
        " u'band',\n",
        " u'bandito',\n",
        " u'bandsaw',\n",
        " u'banjoes',\n",
        " u'banned',\n",
        " u'baord',\n",
        " u'bar',\n",
        " u'barbie',\n",
        " u'bare',\n",
        " u'barely',\n",
        " u'bares',\n",
        " u'barfights',\n",
        " u'barks',\n",
        " u'barn',\n",
        " u'barrel',\n",
        " u'base',\n",
        " u'bases',\n",
        " u'basically',\n",
        " u'basket',\n",
        " u'battery',\n",
        " u'bay',\n",
        " u'bbbbbyyyyyyyeeeeeeeee',\n",
        " u'bbiam',\n",
        " u'bbl',\n",
        " u'bbs',\n",
        " u'bc',\n",
        " u'be',\n",
        " u'beach',\n",
        " u'beachhhh',\n",
        " u'beam',\n",
        " u'beams',\n",
        " u'beanbag',\n",
        " u'beans',\n",
        " u'bear',\n",
        " u'bears',\n",
        " u'beat',\n",
        " u'beaten',\n",
        " u'beatles',\n",
        " u'beats',\n",
        " u'beattles',\n",
        " u'beautiful',\n",
        " u'because',\n",
        " u'beckley',\n",
        " u'become',\n",
        " u'bed',\n",
        " u'bedford',\n",
        " u'bedroom',\n",
        " u'beeeeehave',\n",
        " u'beeehave',\n",
        " u'been',\n",
        " u'beer',\n",
        " u'before',\n",
        " u'beg',\n",
        " u'begin',\n",
        " u'behave',\n",
        " u'behind',\n",
        " u'bein',\n",
        " u'being',\n",
        " u'beleive',\n",
        " u'believe',\n",
        " u'belive',\n",
        " u'bell',\n",
        " u'belly',\n",
        " u'belong',\n",
        " u'belongings',\n",
        " u'ben',\n",
        " u'bend',\n",
        " u'benz',\n",
        " u'bes',\n",
        " u'beside',\n",
        " u'besides',\n",
        " u'best',\n",
        " u'bet',\n",
        " u'betrayal',\n",
        " u'betta',\n",
        " u'better',\n",
        " u'between',\n",
        " u'beuty',\n",
        " u'bf',\n",
        " u'bi',\n",
        " u'biatch',\n",
        " u'bible',\n",
        " u'biebsa',\n",
        " u'bied',\n",
        " u'big',\n",
        " u'bigest',\n",
        " u'biggest',\n",
        " u'biiiatch',\n",
        " u'bike',\n",
        " u'bikes',\n",
        " u'bikini',\n",
        " u'bio',\n",
        " u'bird',\n",
        " u'birfday',\n",
        " u'birthday',\n",
        " u'bisexual',\n",
        " u'bishes',\n",
        " u'bit',\n",
        " u'bitch',\n",
        " u'bitches',\n",
        " u'bitdh',\n",
        " u'bite',\n",
        " u'bites',\n",
        " u'biyatch',\n",
        " u'biz',\n",
        " u'bj',\n",
        " u'black',\n",
        " u'blade',\n",
        " u'blah',\n",
        " u'blank',\n",
        " u'blankie',\n",
        " u'blazed',\n",
        " u'bleach',\n",
        " u'blech',\n",
        " u'bless',\n",
        " u'blessings',\n",
        " u'blew',\n",
        " u'blind',\n",
        " u'blinks',\n",
        " u'bliss',\n",
        " u'blocking',\n",
        " u'bloe',\n",
        " u'blood',\n",
        " u'blooded',\n",
        " u'bloody',\n",
        " u'blow',\n",
        " u'blowing',\n",
        " u'blowjob',\n",
        " u'blowup',\n",
        " u'blue',\n",
        " u'blueberry',\n",
        " u'bluer',\n",
        " u'blues',\n",
        " u'blunt',\n",
        " u'board',\n",
        " u'bob',\n",
        " u'bodies',\n",
        " u'body',\n",
        " u'boed',\n",
        " u'boght',\n",
        " u'boi',\n",
        " u'boing',\n",
        " u'boinked',\n",
        " u'bois',\n",
        " u'bomb',\n",
        " u'bone',\n",
        " u'boned',\n",
        " u'bones',\n",
        " u'bong',\n",
        " u'boning',\n",
        " u'bonus',\n",
        " u'boo',\n",
        " u'booboo',\n",
        " u'boobs',\n",
        " u'book',\n",
        " u'boom',\n",
        " u'boooooooooooglyyyyyy',\n",
        " u'boost',\n",
        " u'boot',\n",
        " u'bootay',\n",
        " u'booted',\n",
        " u'boots',\n",
        " u'booty',\n",
        " u'border',\n",
        " u'borderline',\n",
        " u'bored',\n",
        " u'boredom',\n",
        " u'boring',\n",
        " u'born',\n",
        " u'born-again',\n",
        " u'bosom',\n",
        " u'boss',\n",
        " u'bossy',\n",
        " u'bot',\n",
        " u'both',\n",
        " u'bother',\n",
        " u'bothering',\n",
        " u'bottle',\n",
        " u'bought',\n",
        " u'bounced',\n",
        " u'bouncer',\n",
        " u'bouncers',\n",
        " u'bound',\n",
        " u'bout',\n",
        " u'bouts',\n",
        " u'bow',\n",
        " u'bowl',\n",
        " u'box',\n",
        " u'boy',\n",
        " u'boyfriend',\n",
        " u'boys',\n",
        " u'bra',\n",
        " u'brad',\n",
        " u'brady',\n",
        " u'brain',\n",
        " u'brakes',\n",
        " u'brass',\n",
        " u'brat',\n",
        " u'brb',\n",
        " u'brbbb',\n",
        " u'bread',\n",
        " u'break',\n",
        " u'breaks',\n",
        " u'breath',\n",
        " u'breathe',\n",
        " u'bred',\n",
        " u'breeding',\n",
        " u'bright',\n",
        " u'brightened',\n",
        " u'bring',\n",
        " u'brings',\n",
        " u'bro',\n",
        " u'broke',\n",
        " u'brooklyn',\n",
        " u'brother',\n",
        " u'brothers',\n",
        " u'brought',\n",
        " u'brown',\n",
        " u'brrrrrrr',\n",
        " u'bruises',\n",
        " u'brunswick',\n",
        " u'brwn',\n",
        " u'btw',\n",
        " u'bucks',\n",
        " u'buddyyyyyy',\n",
        " u'buff',\n",
        " u'buffalo',\n",
        " u'bug',\n",
        " u'bugs',\n",
        " u'buh',\n",
        " u'build',\n",
        " u'builds',\n",
        " u'built',\n",
        " u'bull',\n",
        " u'bulls',\n",
        " u'bum',\n",
        " u'bumber',\n",
        " u'bummer',\n",
        " u'bumped',\n",
        " u'bumper',\n",
        " u'bunch',\n",
        " u'bunny',\n",
        " u'burger',\n",
        " u'burito',\n",
        " u'burned',\n",
        " u'burns',\n",
        " u'burp',\n",
        " u'burpin',\n",
        " u'burps',\n",
        " u'burried',\n",
        " u'burryed',\n",
        " u'bus',\n",
        " u'buses',\n",
        " u'bust',\n",
        " u'busted',\n",
        " u'busy',\n",
        " u'but',\n",
        " u'butt',\n",
        " u'butter',\n",
        " u'butterscotch',\n",
        " u'button',\n",
        " u'buttons',\n",
        " u'buy',\n",
        " u'buying',\n",
        " u'bwahahahahahahahahahaha',\n",
        " u'by',\n",
        " u'byb',\n",
        " u'bye',\n",
        " u'byeee',\n",
        " u'byeeee',\n",
        " u'byeeeeeeee',\n",
        " u'byeeeeeeeeeeeee',\n",
        " u'byes']"
       ]
      }
     ],
     "prompt_number": 80
    },
    {
     "cell_type": "heading",
     "level": 4,
     "metadata": {},
     "source": [
      "Exercise 1.8-17"
     ]
    },
    {
     "cell_type": "code",
     "collapsed": false,
     "input": [
      "print(text9.index(\"sunset\"))\n",
      "print(text9[621:643])\n"
     ],
     "language": "python",
     "metadata": {},
     "outputs": [
      {
       "output_type": "stream",
       "stream": "stdout",
       "text": [
        "629\n",
        "[u'THE', u'suburb', u'of', u'Saffron', u'Park', u'lay', u'on', u'the', u'sunset', u'side', u'of', u'London', u',', u'as', u'red', u'and', u'ragged', u'as', u'a', u'cloud', u'of', u'sunset']\n"
       ]
      }
     ],
     "prompt_number": 81
    },
    {
     "cell_type": "heading",
     "level": 4,
     "metadata": {},
     "source": [
      "Exercise 1.8-19"
     ]
    },
    {
     "cell_type": "markdown",
     "metadata": {},
     "source": [
      "The second will give the larger sequence and this will always be the case. Because the set function is used before the list comprehension thus it removes lower word duplicates as done by the w.lower()"
     ]
    },
    {
     "cell_type": "code",
     "collapsed": false,
     "input": [
      "print(len(sorted(set([w.lower() for w in text1]))))\n",
      "print(len(sorted([w.lower() for w in set(text1)])))\n"
     ],
     "language": "python",
     "metadata": {},
     "outputs": [
      {
       "output_type": "stream",
       "stream": "stdout",
       "text": [
        "17231\n",
        "19317"
       ]
      },
      {
       "output_type": "stream",
       "stream": "stdout",
       "text": [
        "\n"
       ]
      }
     ],
     "prompt_number": 82
    },
    {
     "cell_type": "markdown",
     "metadata": {},
     "source": [
      "Another example:"
     ]
    },
    {
     "cell_type": "code",
     "collapsed": false,
     "input": [
      "words = [\"boss\", \"Boss\", \"boss\", \"boss\"]\n",
      "first = sorted(set([w.lower() for w in words]))\n",
      "second = sorted([w.lower() for w in set(words)])\n",
      "print(first)\n",
      "print(second)"
     ],
     "language": "python",
     "metadata": {},
     "outputs": [
      {
       "output_type": "stream",
       "stream": "stdout",
       "text": [
        "['boss']\n",
        "['boss', 'boss']\n"
       ]
      }
     ],
     "prompt_number": 83
    },
    {
     "cell_type": "heading",
     "level": 4,
     "metadata": {},
     "source": [
      "Exercise 1.8-22"
     ]
    },
    {
     "cell_type": "code",
     "collapsed": false,
     "input": [
      "four_letter_words = [w for w in text5 if len(w) == 4]\n",
      "fdist = FreqDist(four_letter_words)\n",
      "# printing 50 most common\n",
      "fdist.most_common(50)\n"
     ],
     "language": "python",
     "metadata": {},
     "outputs": [
      {
       "metadata": {},
       "output_type": "pyout",
       "prompt_number": 12,
       "text": [
        "[(u'JOIN', 1021),\n",
        " (u'PART', 1016),\n",
        " (u'that', 274),\n",
        " (u'what', 183),\n",
        " (u'here', 181),\n",
        " (u'....', 170),\n",
        " (u'have', 164),\n",
        " (u'like', 156),\n",
        " (u'with', 152),\n",
        " (u'chat', 142),\n",
        " (u'your', 137),\n",
        " (u'good', 130),\n",
        " (u'just', 125),\n",
        " (u'lmao', 107),\n",
        " (u'know', 103),\n",
        " (u'room', 98),\n",
        " (u'from', 92),\n",
        " (u'this', 86),\n",
        " (u'well', 81),\n",
        " (u'hiya', 78),\n",
        " (u'back', 78),\n",
        " (u'they', 77),\n",
        " (u'yeah', 75),\n",
        " (u'dont', 75),\n",
        " (u'want', 71),\n",
        " (u'love', 60),\n",
        " (u'guys', 58),\n",
        " (u'some', 58),\n",
        " (u'been', 57),\n",
        " (u'talk', 56),\n",
        " (u'nice', 52),\n",
        " (u'time', 50),\n",
        " (u'when', 48),\n",
        " (u'haha', 44),\n",
        " (u'make', 44),\n",
        " (u'girl', 43),\n",
        " (u'need', 43),\n",
        " (u'U122', 42),\n",
        " (u'MODE', 41),\n",
        " (u'then', 40),\n",
        " (u'much', 40),\n",
        " (u'will', 40),\n",
        " (u'over', 39),\n",
        " (u'work', 38),\n",
        " (u'were', 38),\n",
        " (u'take', 37),\n",
        " (u'song', 36),\n",
        " (u'U115', 36),\n",
        " (u'U121', 36),\n",
        " (u'even', 35)]"
       ]
      }
     ],
     "prompt_number": 12
    },
    {
     "cell_type": "heading",
     "level": 4,
     "metadata": {},
     "source": [
      "Exercise 1.8.23"
     ]
    },
    {
     "cell_type": "code",
     "collapsed": false,
     "input": [
      "# printing 50 first\n",
      "[w for w in text6 if w.isupper()][:50]"
     ],
     "language": "python",
     "metadata": {},
     "outputs": [
      {
       "metadata": {},
       "output_type": "pyout",
       "prompt_number": 13,
       "text": [
        "[u'SCENE',\n",
        " u'KING',\n",
        " u'ARTHUR',\n",
        " u'SOLDIER',\n",
        " u'ARTHUR',\n",
        " u'I',\n",
        " u'SOLDIER',\n",
        " u'ARTHUR',\n",
        " u'I',\n",
        " u'I',\n",
        " u'SOLDIER',\n",
        " u'ARTHUR',\n",
        " u'SOLDIER',\n",
        " u'ARTHUR',\n",
        " u'SOLDIER',\n",
        " u'ARTHUR',\n",
        " u'SOLDIER',\n",
        " u'ARTHUR',\n",
        " u'SOLDIER',\n",
        " u'ARTHUR',\n",
        " u'SOLDIER',\n",
        " u'ARTHUR',\n",
        " u'SOLDIER',\n",
        " u'ARTHUR',\n",
        " u'SOLDIER',\n",
        " u'A',\n",
        " u'ARTHUR',\n",
        " u'SOLDIER',\n",
        " u'A',\n",
        " u'ARTHUR',\n",
        " u'SOLDIER',\n",
        " u'ARTHUR',\n",
        " u'SOLDIER',\n",
        " u'I',\n",
        " u'ARTHUR',\n",
        " u'I',\n",
        " u'SOLDIER',\n",
        " u'SOLDIER',\n",
        " u'SOLDIER',\n",
        " u'I',\n",
        " u'ARTHUR',\n",
        " u'SOLDIER',\n",
        " u'SOLDIER',\n",
        " u'SOLDIER',\n",
        " u'SOLDIER',\n",
        " u'SOLDIER',\n",
        " u'SOLDIER',\n",
        " u'SOLDIER',\n",
        " u'SOLDIER',\n",
        " u'SCENE']"
       ]
      }
     ],
     "prompt_number": 13
    },
    {
     "cell_type": "heading",
     "level": 4,
     "metadata": {},
     "source": [
      "Exercise 1.8-25"
     ]
    },
    {
     "cell_type": "code",
     "collapsed": false,
     "input": [
      "words = ['she', 'sells', 'sea', 'shells', 'by', 'the', 'sea', 'shore']\n",
      "print([w for w in words if w.startswith(\"sh\") or len(w) > 4])"
     ],
     "language": "python",
     "metadata": {},
     "outputs": [
      {
       "output_type": "stream",
       "stream": "stdout",
       "text": [
        "['she', 'sells', 'shells', 'shore']\n"
       ]
      }
     ],
     "prompt_number": 86
    },
    {
     "cell_type": "heading",
     "level": 4,
     "metadata": {},
     "source": [
      "Exercise 1.8-26"
     ]
    },
    {
     "cell_type": "markdown",
     "metadata": {},
     "source": [
      "It counts the sum of word lengths in the text1 text.\n",
      "We can work out the average word length like this:"
     ]
    },
    {
     "cell_type": "code",
     "collapsed": false,
     "input": [
      "sum([len(w) for w in text1])/len(text1)"
     ],
     "language": "python",
     "metadata": {},
     "outputs": [
      {
       "metadata": {},
       "output_type": "pyout",
       "prompt_number": 87,
       "text": [
        "3"
       ]
      }
     ],
     "prompt_number": 87
    },
    {
     "cell_type": "heading",
     "level": 4,
     "metadata": {},
     "source": [
      "Exercise 1.8-27 "
     ]
    },
    {
     "cell_type": "code",
     "collapsed": false,
     "input": [
      "def vocab_size(text):\n",
      "    return len(set(text))"
     ],
     "language": "python",
     "metadata": {},
     "outputs": [],
     "prompt_number": 88
    },
    {
     "cell_type": "heading",
     "level": 3,
     "metadata": {},
     "source": [
      "Problem N1-8 Do exercises in NLPP1e 2.8: 16, 17, 18 "
     ]
    },
    {
     "cell_type": "heading",
     "level": 4,
     "metadata": {},
     "source": [
      "Exercise 2.8-16"
     ]
    },
    {
     "cell_type": "code",
     "collapsed": false,
     "input": [
      "def lexical_diversity(text):\n",
      "    return len(text) / len(set(text))\n",
      "# my bet is on religion\n",
      "for category in nltk.corpus.brown.categories():\n",
      "    print(\"{} category has a lexical diversity score: {:10.2f}\".format(category,lexical_diversity(nltk.corpus.brown.words(categories=category))))"
     ],
     "language": "python",
     "metadata": {},
     "outputs": [
      {
       "output_type": "stream",
       "stream": "stdout",
       "text": [
        "adventure category has a lexical diversity score:       7.00\n",
        "belles_lettres category has a lexical diversity score:       9.00"
       ]
      },
      {
       "output_type": "stream",
       "stream": "stdout",
       "text": [
        "\n",
        "editorial category has a lexical diversity score:       6.00"
       ]
      },
      {
       "output_type": "stream",
       "stream": "stdout",
       "text": [
        "\n",
        "fiction category has a lexical diversity score:       7.00"
       ]
      },
      {
       "output_type": "stream",
       "stream": "stdout",
       "text": [
        "\n",
        "government category has a lexical diversity score:       8.00"
       ]
      },
      {
       "output_type": "stream",
       "stream": "stdout",
       "text": [
        "\n",
        "hobbies category has a lexical diversity score:       6.00"
       ]
      },
      {
       "output_type": "stream",
       "stream": "stdout",
       "text": [
        "\n",
        "humor category has a lexical diversity score:       4.00"
       ]
      },
      {
       "output_type": "stream",
       "stream": "stdout",
       "text": [
        "\n",
        "learned category has a lexical diversity score:      10.00"
       ]
      },
      {
       "output_type": "stream",
       "stream": "stdout",
       "text": [
        "\n",
        "lore category has a lexical diversity score:       7.00"
       ]
      },
      {
       "output_type": "stream",
       "stream": "stdout",
       "text": [
        "\n",
        "mystery category has a lexical diversity score:       8.00"
       ]
      },
      {
       "output_type": "stream",
       "stream": "stdout",
       "text": [
        "\n",
        "news category has a lexical diversity score:       6.00"
       ]
      },
      {
       "output_type": "stream",
       "stream": "stdout",
       "text": [
        "\n",
        "religion category has a lexical diversity score:       6.00"
       ]
      },
      {
       "output_type": "stream",
       "stream": "stdout",
       "text": [
        "\n",
        "reviews category has a lexical diversity score:       4.00"
       ]
      },
      {
       "output_type": "stream",
       "stream": "stdout",
       "text": [
        "\n",
        "romance category has a lexical diversity score:       8.00"
       ]
      },
      {
       "output_type": "stream",
       "stream": "stdout",
       "text": [
        "\n",
        "science_fiction category has a lexical diversity score:       4.00"
       ]
      },
      {
       "output_type": "stream",
       "stream": "stdout",
       "text": [
        "\n"
       ]
      }
     ],
     "prompt_number": 95
    },
    {
     "cell_type": "markdown",
     "metadata": {},
     "source": [
      "It seems the lowest ones are science fiction and reviews categories"
     ]
    },
    {
     "cell_type": "heading",
     "level": 4,
     "metadata": {},
     "source": [
      "Exercise 2.8-17"
     ]
    },
    {
     "cell_type": "code",
     "collapsed": false,
     "input": [
      "from nltk.corpus import stopwords, inaugural\n",
      "from nltk import FreqDist\n",
      "import pprint\n",
      "def count_most_occurring(text, number=50):\n",
      "    \"\"\"assuming english\"\"\"\n",
      "    stripped = [w.lower() for w in text if w.lower() not in stopwords.words(\"english\") and w.lower().isalnum()]\n",
      "    f = FreqDist(stripped)\n",
      "    pprint.pprint(f.most_common(number))\n",
      "count_most_occurring(inaugural.words())"
     ],
     "language": "python",
     "metadata": {},
     "outputs": [
      {
       "output_type": "stream",
       "stream": "stdout",
       "text": [
        "[(u'government', 593),\n",
        " (u'people', 563),\n",
        " (u'us', 455),\n",
        " (u'upon', 369),\n",
        " (u'must', 346),\n",
        " (u'may', 334),\n",
        " (u'great', 331),\n",
        " (u'world', 329),\n",
        " (u'states', 329),\n",
        " (u'shall', 314),\n",
        " (u'country', 302),\n",
        " (u'nation', 302),\n",
        " (u'every', 285),\n",
        " (u'peace', 252),\n",
        " (u'one', 243),\n",
        " (u'new', 240),\n",
        " (u'citizens', 237),\n",
        " (u'power', 230),\n",
        " (u'public', 225),\n",
        " (u'would', 209),\n",
        " (u'time', 206),\n",
        " (u'constitution', 205),\n",
        " (u'united', 197),\n",
        " (u'nations', 194),\n",
        " (u'america', 192),\n",
        " (u'union', 188),\n",
        " (u'freedom', 183),\n",
        " (u'free', 179),\n",
        " (u'war', 175),\n",
        " (u'national', 154),\n",
        " (u'made', 151),\n",
        " (u'let', 149),\n",
        " (u'fellow', 148),\n",
        " (u'american', 147),\n",
        " (u'men', 144),\n",
        " (u'good', 143),\n",
        " (u'spirit', 138),\n",
        " (u'without', 138),\n",
        " (u'well', 137),\n",
        " (u'rights', 136),\n",
        " (u'years', 134),\n",
        " (u'law', 134),\n",
        " (u'justice', 134),\n",
        " (u'life', 133),\n",
        " (u'make', 133),\n",
        " (u'laws', 130),\n",
        " (u'congress', 129),\n",
        " (u'never', 125),\n",
        " (u'best', 120),\n",
        " (u'liberty', 116)]\n"
       ]
      }
     ],
     "prompt_number": 4
    },
    {
     "cell_type": "heading",
     "level": 4,
     "metadata": {},
     "source": [
      "Exercise 2.8-18"
     ]
    },
    {
     "cell_type": "code",
     "collapsed": false,
     "input": [
      "import collections\n",
      "def count_bigrams(text, number=50):\n",
      "    \"\"\"assuming english\"\"\"\n",
      "    bigrams = nltk.bigrams([w.lower() for w in text if w.lower() not in stopwords.words(\"english\") and w.lower().isalnum()])\n",
      "    pprint.pprint(collections.Counter(bigrams).most_common(number))\n",
      "count_bigrams(inaugural.words())"
     ],
     "language": "python",
     "metadata": {},
     "outputs": [
      {
       "output_type": "stream",
       "stream": "stdout",
       "text": [
        "[((u'united', u'states'), 153),\n",
        " ((u'fellow', u'citizens'), 116),\n",
        " ((u'let', u'us'), 99),\n",
        " ((u'american', u'people'), 39),\n",
        " ((u'federal', u'government'), 32),\n",
        " ((u'self', u'government'), 30),\n",
        " ((u'four', u'years'), 28),\n",
        " ((u'years', u'ago'), 26),\n",
        " ((u'general', u'government'), 25),\n",
        " ((u'upon', u'us'), 24),\n",
        " ((u'men', u'women'), 24),\n",
        " ((u'constitution', u'united'), 20),\n",
        " ((u'every', u'citizen'), 20),\n",
        " ((u'among', u'nations'), 17),\n",
        " ((u'government', u'people'), 16),\n",
        " ((u'people', u'united'), 15),\n",
        " ((u'great', u'nation'), 15),\n",
        " ((u'foreign', u'nations'), 15),\n",
        " ((u'almighty', u'god'), 15),\n",
        " ((u'vice', u'president'), 15),\n",
        " ((u'one', u'another'), 14),\n",
        " ((u'form', u'government'), 14),\n",
        " ((u'peace', u'world'), 14),\n",
        " ((u'may', u'well'), 14),\n",
        " ((u'among', u'people'), 14),\n",
        " ((u'government', u'must'), 14),\n",
        " ((u'nations', u'world'), 13),\n",
        " ((u'free', u'people'), 13),\n",
        " ((u'within', u'limits'), 13),\n",
        " ((u'national', u'life'), 13),\n",
        " ((u'god', u'bless'), 12),\n",
        " ((u'public', u'debt'), 12),\n",
        " ((u'constitution', u'laws'), 12),\n",
        " ((u'administration', u'government'), 12),\n",
        " ((u'national', u'government'), 11),\n",
        " ((u'every', u'american'), 11),\n",
        " ((u'public', u'money'), 11),\n",
        " ((u'first', u'time'), 11),\n",
        " ((u'go', u'forward'), 11),\n",
        " ((u'political', u'parties'), 11),\n",
        " ((u'protect', u'defend'), 11),\n",
        " ((u'fellow', u'americans'), 11),\n",
        " ((u'state', u'governments'), 11),\n",
        " ((u'free', u'government'), 11),\n",
        " ((u'people', u'world'), 11),\n",
        " ((u'throughout', u'world'), 11),\n",
        " ((u'chief', u'justice'), 11),\n",
        " ((u'civil', u'service'), 10),\n",
        " ((u'preserve', u'protect'), 10),\n",
        " ((u'chief', u'magistrate'), 10)]\n"
       ]
      }
     ],
     "prompt_number": 97
    },
    {
     "cell_type": "heading",
     "level": 3,
     "metadata": {},
     "source": [
      "Problem N1-9 Work through the exercises NLPP1e 3.12: 6, 8 (use your function to get the text from this page and evaluate the results), 25a,b., 3.30. "
     ]
    },
    {
     "cell_type": "heading",
     "level": 4,
     "metadata": {},
     "source": [
      "Exercise 3.12-6"
     ]
    },
    {
     "cell_type": "markdown",
     "metadata": {},
     "source": [
      "\n",
      "<b>[a-zA-Z]+ </b>\n",
      "\n",
      "matches one or more letters (from a-z) independent of case eg. absalon or Absalon\n",
      "\n",
      "<b>[A-Z][a-z]\\* </b><br>\n",
      "matches one upper case letter and zero or more lower case letters (from a-z) eg. Absalon or A <br><br>\n",
      "<b>p[aeiou]{,2}t</b><br>\n",
      "matches a word with a p, 2 or less vowels, a t e.g. pt, pet, pat, pout<br><br>\n",
      "<b>\\d+(\\.\\d+)?</b><br>\n",
      "matches a word with one digit, a group of a dot and one or more digits, which is optional e.g. a number both integer or floating point, 1, 1.1 <br><br>\n",
      "<b>([^aeiou][aeiou][^aeiou])*</b><br>\n",
      "matches a word that's not starting with a vowel, then a vowel, then not starting with a vowel, repeated zero or more times eg. pet, pat, petpatput<br><br>\n",
      "<b>\\w+|[^\\w\\s]+</b> <br>\n",
      "Matches a word with one or more word characters OR matches a word consisting of one or more \"not\" a word characters (punctuation for example) and whitespace characters. e.g. \"this is some words\" or \"w. rx. btrasd,\""
     ]
    },
    {
     "cell_type": "heading",
     "level": 4,
     "metadata": {},
     "source": [
      "Exercise 3.12-8"
     ]
    },
    {
     "cell_type": "code",
     "collapsed": false,
     "input": [
      "import urllib\n",
      "import bs4\n",
      "# nltk's clean_html function is deprecated, using beautifulsoup!\n",
      "def utility_func(url):\n",
      "    f = urllib.urlopen(url).read()\n",
      "    cleaned = bs4.BeautifulSoup(f).get_text()\n",
      "    return cleaned\n",
      "utility_func(\"http://dtu.cnwiki.dk/02805/page/1479/assignment-1\")"
     ],
     "language": "python",
     "metadata": {},
     "outputs": []
    },
    {
     "cell_type": "markdown",
     "metadata": {},
     "source": [
      "Apparently it's only removing HTML tags, and not CSS (understandable)"
     ]
    },
    {
     "cell_type": "heading",
     "level": 4,
     "metadata": {},
     "source": [
      "Exercise 3.12-25a"
     ]
    },
    {
     "cell_type": "markdown",
     "metadata": {},
     "source": [
      "Pig Latin is a simple transformation of English text. Each word of the text is converted as follows: move any consonant (or consonant cluster) that appears at the start of the word to the end, then append ay, e.g. string \u2192 ingstray, idle \u2192 idleay. <br> http://en.wikipedia.org/wiki/Pig_Latin"
     ]
    },
    {
     "cell_type": "code",
     "collapsed": false,
     "input": [
      "def pig_latin_word(word):\n",
      "    index = 0\n",
      "    for i, char in enumerate(word):\n",
      "        if char.lower() in \"aeiou\":\n",
      "            index = i\n",
      "            break\n",
      "    return word[index:]+word[:index]+\"ay\"\n",
      "\n",
      "print(pig_latin_word(\"string\"))\n",
      "print(pig_latin_word(\"idle\"))\n",
      "print(pig_latin_word(\"See\"))\n",
      "print(pig_latin_word(\"You\"))\n",
      "print(pig_latin_word(\"Later\"))"
     ],
     "language": "python",
     "metadata": {},
     "outputs": [
      {
       "output_type": "stream",
       "stream": "stdout",
       "text": [
        "ingstray\n",
        "idleay\n",
        "eeSay\n",
        "ouYay\n",
        "aterLay\n"
       ]
      }
     ],
     "prompt_number": 98
    },
    {
     "cell_type": "heading",
     "level": 4,
     "metadata": {},
     "source": [
      "Exercise 3.12-25b"
     ]
    },
    {
     "cell_type": "code",
     "collapsed": false,
     "input": [
      "def pig_latin_text(text):\n",
      "    return \" \".join([pig_latin_word(word) for word in text.split()])\n",
      "\n",
      "pig_latin_text(\"String Idle See you later\")"
     ],
     "language": "python",
     "metadata": {},
     "outputs": [
      {
       "metadata": {},
       "output_type": "pyout",
       "prompt_number": 99,
       "text": [
        "'ingStray Idleay eeSay ouyay aterlay'"
       ]
      }
     ],
     "prompt_number": 99
    },
    {
     "cell_type": "heading",
     "level": 4,
     "metadata": {},
     "source": [
      "Exercise 3.12-30"
     ]
    },
    {
     "cell_type": "markdown",
     "metadata": {},
     "source": [
      "First the PorterStemmer:"
     ]
    },
    {
     "cell_type": "code",
     "collapsed": false,
     "input": [
      "stemmer_text = [w.lower() for w in inaugural.words() if w.lower() not in stopwords.words(\"english\") and w.lower().isalnum()]\n",
      "porter = nltk.PorterStemmer()\n",
      "# printing the 50 first\n",
      "pprint.pprint([porter.stem(w) for w in stemmer_text][:50])"
     ],
     "language": "python",
     "metadata": {},
     "outputs": [
      {
       "output_type": "stream",
       "stream": "stdout",
       "text": [
        "[u'fellow',\n",
        " u'citizen',\n",
        " u'senat',\n",
        " u'hous',\n",
        " u'repres',\n",
        " u'among',\n",
        " u'vicissitud',\n",
        " u'incid',\n",
        " u'life',\n",
        " u'event',\n",
        " u'could',\n",
        " u'fill',\n",
        " u'greater',\n",
        " u'anxieti',\n",
        " u'notif',\n",
        " u'transmit',\n",
        " u'order',\n",
        " u'receiv',\n",
        " u'14th',\n",
        " u'day',\n",
        " u'present',\n",
        " u'month',\n",
        " u'one',\n",
        " u'hand',\n",
        " u'summon',\n",
        " u'countri',\n",
        " u'whose',\n",
        " u'voic',\n",
        " u'never',\n",
        " u'hear',\n",
        " u'vener',\n",
        " u'love',\n",
        " u'retreat',\n",
        " u'chosen',\n",
        " u'fondest',\n",
        " u'predilect',\n",
        " u'flatter',\n",
        " u'hope',\n",
        " u'immut',\n",
        " u'decis',\n",
        " u'asylum',\n",
        " u'declin',\n",
        " u'year',\n",
        " u'retreat',\n",
        " u'render',\n",
        " u'everi',\n",
        " u'day',\n",
        " u'necessari',\n",
        " u'well',\n",
        " u'dear']\n"
       ]
      }
     ],
     "prompt_number": 7
    },
    {
     "cell_type": "markdown",
     "metadata": {},
     "source": [
      "Then the Lancaster:"
     ]
    },
    {
     "cell_type": "code",
     "collapsed": false,
     "input": [
      "lancaster = nltk.LancasterStemmer()\n",
      "# printing the 50 first\n",
      "pprint.pprint([lancaster.stem(w) for w in stemmer_text][:50])"
     ],
     "language": "python",
     "metadata": {},
     "outputs": [
      {
       "output_type": "stream",
       "stream": "stdout",
       "text": [
        "[u'fellow',\n",
        " u'cit',\n",
        " u'sen',\n",
        " u'hous',\n",
        " u'repres',\n",
        " u'among',\n",
        " u'vicissitud',\n",
        " u'incid',\n",
        " u'lif',\n",
        " u'ev',\n",
        " u'could',\n",
        " u'fil',\n",
        " u'gre',\n",
        " u'anxy',\n",
        " u'not',\n",
        " u'transmit',\n",
        " u'ord',\n",
        " u'receiv',\n",
        " u'14th',\n",
        " u'day',\n",
        " u'pres',\n",
        " u'mon',\n",
        " u'on',\n",
        " u'hand',\n",
        " u'summon',\n",
        " u'country',\n",
        " u'whos',\n",
        " u'voic',\n",
        " u'nev',\n",
        " u'hear',\n",
        " u'ven',\n",
        " u'lov',\n",
        " u'ret',\n",
        " u'chos',\n",
        " u'fondest',\n",
        " u'predilect',\n",
        " u'flat',\n",
        " u'hop',\n",
        " u'immut',\n",
        " u'decid',\n",
        " u'asyl',\n",
        " u'declin',\n",
        " u'year',\n",
        " u'ret',\n",
        " u'rend',\n",
        " u'every',\n",
        " u'day',\n",
        " u'necess',\n",
        " u'wel',\n",
        " u'dear']\n"
       ]
      }
     ],
     "prompt_number": 8
    },
    {
     "cell_type": "markdown",
     "metadata": {},
     "source": [
      "It seems the Lancaster stemmer is generally more aggressive and cutting the words shorter than the Porter stemmer:\n",
      "<table>\n",
      "  <tr>\n",
      "  <td><b>Word</b></td>\n",
      "  <td><b>Stemmed in Porter</b></td> \n",
      "  <td><b>Stemmed in Lancaster</b></td>\n",
      "  </tr>\n",
      "  <tr>\n",
      "    <td>citizen</td>\n",
      "    <td>citizen</td> \n",
      "    <td>cit</td>\n",
      "  </tr>\n",
      "    <tr>\n",
      "    <td>senate</td>\n",
      "    <td>senat</td> \n",
      "    <td>sen</td>\n",
      "  </tr>\n",
      "    <tr>\n",
      "    <td>life</td>\n",
      "    <td>life</td> \n",
      "    <td>lif</td>\n",
      "  </tr>\n",
      "    <tr>\n",
      "    <td>event</td>\n",
      "    <td>event</td> \n",
      "    <td>ev</td>\n",
      "  </tr>\n",
      "</table>"
     ]
    },
    {
     "cell_type": "markdown",
     "metadata": {},
     "source": [
      "<hr>"
     ]
    },
    {
     "cell_type": "heading",
     "level": 3,
     "metadata": {},
     "source": [
      "Problem N2-1"
     ]
    },
    {
     "cell_type": "markdown",
     "metadata": {},
     "source": [
      "Classification is the extraction of features from an input and classifying/grouping the input by one or more labels.\n",
      "\n",
      "Supervised classification is classification where the classifier has been trained or fed first using a resource where each input generates a feature set and the feature set plus a label generates a model.\n",
      "\n",
      "When training is completed the program can use the generated model to work on inputs not seen before and convert them to feature sets, which then can be converted to labels."
     ]
    },
    {
     "cell_type": "heading",
     "level": 3,
     "metadata": {},
     "source": [
      "Problem N2-2"
     ]
    },
    {
     "cell_type": "code",
     "collapsed": false,
     "input": [
      "import random\n",
      "import nltk\n",
      "from nltk.corpus import names\n",
      "\n",
      "def gender_features(name):\n",
      "    return {\"last_letter\": name[-1]}\n",
      "\n",
      "\n",
      "names = ([(name, 'male') for name in names.words('male.txt')] +\n",
      "          [(name, 'female') for name in names.words('female.txt')])\n",
      "\n",
      "random.shuffle(names)\n",
      "\n",
      "featuresets = [(gender_features(n), g) for (n,g) in names]\n",
      "train_set, test_set = featuresets[500:], featuresets[:500]\n",
      "classifier = nltk.NaiveBayesClassifier.train(train_set)\n",
      "\n",
      "print(\"Guardians of the Galaxy cast:\")\n",
      "print(classifier.classify(gender_features(\"Star-Lord\"))) # Male\n",
      "print(classifier.classify(gender_features(\"Drax\"))) # Male\n",
      "print(classifier.classify(gender_features(\"Gamora\"))) # Female\n",
      "print(classifier.classify(gender_features(\"Rocket\"))) # Male\n",
      "print(classifier.classify(gender_features(\"Groot\"))) # Male\n",
      "print(classifier.classify(gender_features(\"Yondu\"))) # Male\n",
      "print(classifier.classify(gender_features(\"Nebula\"))) # Female\n",
      "\n",
      "print(nltk.classify.accuracy(classifier, test_set))\n",
      "print(classifier.show_most_informative_features(5))"
     ],
     "language": "python",
     "metadata": {},
     "outputs": [
      {
       "output_type": "stream",
       "stream": "stdout",
       "text": [
        "Guardians of the Galaxy cast:\n",
        "male\n",
        "female\n",
        "female\n",
        "male\n",
        "male\n",
        "male\n",
        "female\n",
        "0.766\n",
        "Most Informative Features\n",
        "             last_letter = u'a'           female : male   =     38.6 : 1.0\n",
        "             last_letter = u'k'             male : female =     30.6 : 1.0\n",
        "             last_letter = u'f'             male : female =     15.9 : 1.0\n",
        "             last_letter = u'p'             male : female =     11.8 : 1.0\n",
        "             last_letter = u'd'             male : female =      9.9 : 1.0\n",
        "None\n"
       ]
      }
     ],
     "prompt_number": 103
    },
    {
     "cell_type": "markdown",
     "metadata": {},
     "source": [
      "<b>Include solution to the \"your turn\" modification - and explain your choice of features. Do this before moving on.</b>"
     ]
    },
    {
     "cell_type": "code",
     "collapsed": false,
     "input": [
      "import random\n",
      "import nltk\n",
      "from nltk.corpus import names\n",
      "\n",
      "def gender_features(name):\n",
      "    return {\"first_letter\": name[0], \"last_letter\": name[-1], \"length\": len(name), \"vowels\": len([n for n in name if n in \"aeiou\"])}\n",
      "\n",
      "\n",
      "names = ([(name, 'male') for name in names.words('male.txt')] +\n",
      "          [(name, 'female') for name in names.words('female.txt')])\n",
      "\n",
      "random.shuffle(names)\n",
      "\n",
      "featuresets = [(gender_features(n), g) for (n,g) in names]\n",
      "train_set, test_set = featuresets[500:], featuresets[:500]\n",
      "classifier = nltk.NaiveBayesClassifier.train(train_set)\n",
      "\n",
      "print(\"Guardians of the Galaxy cast:\")\n",
      "print(classifier.classify(gender_features(\"Star-Lord\"))) # Male\n",
      "print(classifier.classify(gender_features(\"Drax\"))) # Male\n",
      "print(classifier.classify(gender_features(\"Gamora\"))) # Female\n",
      "print(classifier.classify(gender_features(\"Rocket\"))) # Male\n",
      "print(classifier.classify(gender_features(\"Groot\"))) # Male\n",
      "print(classifier.classify(gender_features(\"Yondu\"))) # Male\n",
      "print(classifier.classify(gender_features(\"Nebula\"))) # Female\n",
      "print(nltk.classify.accuracy(classifier, test_set))\n",
      "print(classifier.show_most_informative_features(10))"
     ],
     "language": "python",
     "metadata": {},
     "outputs": [
      {
       "output_type": "stream",
       "stream": "stdout",
       "text": [
        "Guardians of the Galaxy cast:\n",
        "male\n",
        "male\n",
        "female\n",
        "male\n",
        "male\n",
        "male\n",
        "female\n",
        "0.752\n",
        "Most Informative Features\n",
        "             last_letter = u'a'           female : male   =     33.0 : 1.0\n",
        "             last_letter = u'k'             male : female =     31.8 : 1.0\n",
        "             last_letter = u'f'             male : female =     17.3 : 1.0\n",
        "             last_letter = u'p'             male : female =     11.9 : 1.0\n",
        "             last_letter = u'v'             male : female =     11.2 : 1.0\n",
        "             last_letter = u'm'             male : female =      9.8 : 1.0\n",
        "             last_letter = u'd'             male : female =      9.6 : 1.0\n",
        "             last_letter = u'o'             male : female =      8.7 : 1.0\n",
        "             last_letter = u'r'             male : female =      6.9 : 1.0\n",
        "             last_letter = u'w'             male : female =      6.2 : 1.0\n",
        "None\n"
       ]
      }
     ],
     "prompt_number": 104
    },
    {
     "cell_type": "markdown",
     "metadata": {},
     "source": [
      "If the last letter of a word was an indicator for gender, maybe the first letter would be aswell, and the length of the name and number of vowels."
     ]
    },
    {
     "cell_type": "heading",
     "level": 3,
     "metadata": {},
     "source": [
      "Problem N2-3"
     ]
    },
    {
     "cell_type": "markdown",
     "metadata": {},
     "source": [
      "Overfitting is modelling an algorithm too much for a specific data-set instead of making it general, it will then adapt the unusual quirks or features of the data-set and account for those.\n",
      "Training a model to be too \"perfect\" or \"specific\" for test-data, but which inadvertently makes it not good for general data-sets.\n",
      "\n",
      "gender_features2 overfit the training data, because it contains too many features which it apply to the training data.\n",
      "\n",
      "\n",
      "* Development set consisting of Training set and Dev-test set, subsets of the corpus\n",
      "* Test set, subset of the corpus\n",
      "\n",
      "The training set and dev-test set is for error analysis, we train a model using the training set and test it for errors using the dev-test set.\n",
      "We then adjust the features, and run the same test again to see if it has improved.\n",
      "\n",
      "This can then be repeated with a new Training set and Dev-test set to adjust our features.\n"
     ]
    },
    {
     "cell_type": "heading",
     "level": 3,
     "metadata": {},
     "source": [
      "Problem N2-4"
     ]
    },
    {
     "cell_type": "markdown",
     "metadata": {},
     "source": [
      "We can use supervised classification, and generate a corpus of tweets with either \"good\" or \"bad\" label and then find what features constitute the good. Or simply test our own tweets if it measures up to the good tweets before posting them."
     ]
    },
    {
     "cell_type": "heading",
     "level": 3,
     "metadata": {},
     "source": [
      "Problem N2-5"
     ]
    },
    {
     "cell_type": "markdown",
     "metadata": {},
     "source": [
      "**Accuracy** is the percentage of our classifier being right, so if our classifier is giving the correct gender to a name 80% of the time, that's the accuracy. As explained in the text a high accuracy in some cases is only valuable if the corpus is balanced, for instance when finding the correct word sense, as a corpus containing one sense of the word a lot of times would give an \"inflated\" accuracy\n",
      "\n",
      "Precision and recall are terms related to searching tasks, where finding relevant information is necessary:\n",
      "**Precision** is $TP/(TP+FP)$ where $TP$ is the number of True Positives, items identified correctly as *relevant*, and $FP$ is the number of False Positives, items *incorrectly* identified as relevant. Precision indicates how many items were actually relevant.\n",
      "\n",
      "**Recall** is $TP/(TP+FN)$ where $TP$ is the number of True Positives and $FN$ is the number of False Negatives, items incorrectly identified as *irrelevant*. Recall indicates how many relevant items were identified.\n",
      "\n",
      "**Confusion Matrices** is a way of visually presenting errors, a matrix of where cell[i,j] corresponds to how often i was predicted to be j, thus the diagonal of the matrix is correct predictions and all other cells are erronous predictions. The matrix allows one to see which are common cases of mispredictions.\n",
      "\n",
      "**Cross-validation** is a technique which implies that instead of just having one subset of the data be the training set and another subset of the data be a test set, we perform multiple evaluations on different test set and combine the scores. So we divide the corpus into N folds and train it with all the data minus one fold X and test it against the fold X, then we keep going until we have tested against all N folds. The combined folds we test against is all of our data and is therefore more reliable, and also allows us to see if our performance varies across different data sets (which it ideally shouldn't)."
     ]
    }
   ],
   "metadata": {}
  }
 ]
}