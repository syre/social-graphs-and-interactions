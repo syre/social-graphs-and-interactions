{
 "metadata": {
  "name": "",
  "signature": "sha256:af63497fd5903b48b93684621941d90c19851a138aabf2709b7b990dcb43e285"
 },
 "nbformat": 3,
 "nbformat_minor": 0,
 "worksheets": [
  {
   "cells": [
    {
     "cell_type": "heading",
     "level": 1,
     "metadata": {},
     "source": [
      "Assignment 1"
     ]
    },
    {
     "cell_type": "markdown",
     "metadata": {},
     "source": [
      "<hr>"
     ]
    },
    {
     "cell_type": "markdown",
     "metadata": {},
     "source": [
      "<u>Group:</u><br>\n",
      "------------- <br>\n",
      "*S\u00f8ren Howe Gersager - sXXXXXX* <br>\n",
      "*Anders L\u00f8nberg Rahbek - s107029* \n",
      "<hr><hr>"
     ]
    },
    {
     "cell_type": "heading",
     "level": 2,
     "metadata": {},
     "source": [
      "Part 1 - Twitter"
     ]
    },
    {
     "cell_type": "heading",
     "level": 3,
     "metadata": {},
     "source": [
      "Problem <b>T1-1</b>"
     ]
    },
    {
     "cell_type": "markdown",
     "metadata": {},
     "source": [
      "Twitter has over 500 million users, where over 100 million is active engaging. "
     ]
    },
    {
     "cell_type": "heading",
     "level": 3,
     "metadata": {},
     "source": [
      "Problem T1-2"
     ]
    },
    {
     "cell_type": "markdown",
     "metadata": {},
     "source": [
      "Twitter is using maximum 140 characters long messages, where Facebook can be bigger. Twitters messsages are like short thoughts which is being \"shout out\" to all of Twitters 500 million users - potientially. \n",
      "Where Facebook (and other social sites, like LinkedIn) normally requires mutual acceptance of a connection between users (which usually implies a real-world connection of som kind), Twitter do not require this. A user can keep up with the latest happening of ANY user, regardless the user knows the other user. As explained by the author in MTSW, with Twitter you \"follow relationships\""
     ]
    },
    {
     "cell_type": "heading",
     "level": 3,
     "metadata": {},
     "source": [
      "Problem T1-3"
     ]
    },
    {
     "cell_type": "markdown",
     "metadata": {},
     "source": [
      "Hvordan skal vi svarer p\u00e5 det???"
     ]
    },
    {
     "cell_type": "heading",
     "level": 3,
     "metadata": {},
     "source": [
      "Problem T1-4"
     ]
    },
    {
     "cell_type": "heading",
     "level": 4,
     "metadata": {},
     "source": [
      "Example 1-1:"
     ]
    },
    {
     "cell_type": "code",
     "collapsed": false,
     "input": [
      "import twitter\n",
      "\n",
      "with open(\"bot_config.txt\",\"r\") as f:\n",
      "    config = f.readlines()\n",
      "config_dict = dict(line.strip().split(\"=\") for line in config if not line.startswith(\"#\"))\n",
      "\n",
      "CONSUMER_KEY = config_dict[\"CONSUMER_KEY\"]  # API key\n",
      "# API secret key\n",
      "CONSUMER_SECRET = config_dict[\"CONSUMER_SECRET\"]\n",
      "# Access token\n",
      "OAUTH_TOKEN = config_dict[\"OAUTH_TOKEN\"]\n",
      "# access token secret\n",
      "OAUTH_TOKEN_SECRET = config_dict[\"OAUTH_TOKEN_SECRET\"]\n",
      "\n",
      "auth = twitter.oauth.OAuth(OAUTH_TOKEN, OAUTH_TOKEN_SECRET, CONSUMER_KEY, CONSUMER_SECRET)\n",
      "twitter_api = twitter.Twitter(auth=auth)\n",
      "\n",
      "print twitter_api"
     ],
     "language": "python",
     "metadata": {},
     "outputs": []
    },
    {
     "cell_type": "heading",
     "level": 4,
     "metadata": {},
     "source": [
      "Example 1-2"
     ]
    },
    {
     "cell_type": "code",
     "collapsed": false,
     "input": [
      "WORLD_WOE_ID = 1 #WEO-ID for the world\n",
      "STOCKHOLM_WEO_ID = 906057 #WEO-ID for Stockholm\n",
      "\n",
      "world_trends = twitter_api.trends.place(_id=WORLD_WOE_ID)\n",
      "stockholm_trends = twitter_api.trends.place(_id=STOCKHOLM_WEO_ID)\n",
      "\n",
      "print world_trends\n",
      "print\n",
      "print stockholm_trends"
     ],
     "language": "python",
     "metadata": {},
     "outputs": []
    },
    {
     "cell_type": "heading",
     "level": 4,
     "metadata": {},
     "source": [
      "Example 1-3"
     ]
    },
    {
     "cell_type": "code",
     "collapsed": false,
     "input": [
      "import json \n",
      "print json.dumps(world_trends, indent=1)\n",
      "print\n",
      "print json.dumps(stockholm_trends, indent=1)"
     ],
     "language": "python",
     "metadata": {},
     "outputs": []
    },
    {
     "cell_type": "heading",
     "level": 4,
     "metadata": {},
     "source": [
      "Example 1-4"
     ]
    },
    {
     "cell_type": "code",
     "collapsed": false,
     "input": [
      "world_trends_set = set([trend['name'] for trend in world_trends[0]['trends']])\n",
      "stockholm_trends_set = set([trend['name'] for trend in stockholm_trends[0]['trends']])\n",
      "\n",
      "common_trends = world_trends_set.intersection(stockholm_trends_set)\n",
      "\n",
      "print common_trends\n",
      "print 'Todays Stockholm trends:\\n-------------------------'\n",
      "for trends in stockholm_trends_set:\n",
      "    print trends\n",
      "#print stockholm_trends_set                                                        "
     ],
     "language": "python",
     "metadata": {},
     "outputs": []
    },
    {
     "cell_type": "heading",
     "level": 3,
     "metadata": {},
     "source": [
      "Problem T1-5 (Todays Stockholm trends)"
     ]
    },
    {
     "cell_type": "markdown",
     "metadata": {},
     "source": [
      "See above (Example 1-4)"
     ]
    },
    {
     "cell_type": "heading",
     "level": 3,
     "metadata": {},
     "source": [
      "Problem T1-6"
     ]
    },
    {
     "cell_type": "code",
     "collapsed": false,
     "input": [
      "import twitter\n",
      "import json\n",
      "\n",
      "with open(\"bot_config.txt\",\"r\") as f:\n",
      "    config = f.readlines()\n",
      "config_dict = dict(line.strip().split(\"=\") for line in config if not line.startswith(\"#\"))\n",
      "\n",
      "CONSUMER_KEY = config_dict[\"CONSUMER_KEY\"]  # API key\n",
      "# API secret key\n",
      "CONSUMER_SECRET = config_dict[\"CONSUMER_SECRET\"]\n",
      "# Access token\n",
      "OAUTH_TOKEN = config_dict[\"OAUTH_TOKEN\"]\n",
      "# access token secret\n",
      "OAUTH_TOKEN_SECRET = config_dict[\"OAUTH_TOKEN_SECRET\"]\n",
      "\n",
      "auth = twitter.oauth.OAuth(OAUTH_TOKEN, OAUTH_TOKEN_SECRET, CONSUMER_KEY, CONSUMER_SECRET)\n",
      "twitter_api = twitter.Twitter(auth=auth)\n",
      "\n",
      "print twitter_api\n",
      "\n",
      "q= '#MTVEMA' #\"Another hashtag\"\n",
      "count = 100\n",
      "search_results = twitter_api.search.tweets(q=q, count=count)\n",
      "statuses = search_results['statuses']\n",
      "\n",
      "for _ in range(5):\n",
      "    print \"Length of statuses\", len(statuses)\n",
      "    try:\n",
      "        next_results = search_results['search_metadata']['next_results']\n",
      "    except KeyError, e:\n",
      "        break\n",
      "    \n",
      "    kwargs = dict([kv.split('=') for kv in next_results[1:].split(\"&\")])\n",
      "    \n",
      "    search_results = twitter_api.search.tweets(**kwargs)\n",
      "    statuses += search_results['statuses']\n",
      "    \n",
      "print json.dumps(statuses[0], indent=1)"
     ],
     "language": "python",
     "metadata": {},
     "outputs": []
    },
    {
     "cell_type": "heading",
     "level": 3,
     "metadata": {},
     "source": [
      "Problem T1-7"
     ]
    },
    {
     "cell_type": "markdown",
     "metadata": {},
     "source": [
      "The coordinate field contains the longitude and latitude for the person who has tweeted the tweet on that time. "
     ]
    },
    {
     "cell_type": "heading",
     "level": 3,
     "metadata": {},
     "source": [
      "Problem T1-8 (MANGLER!!!)"
     ]
    },
    {
     "cell_type": "markdown",
     "metadata": {},
     "source": [
      "MANGLER!"
     ]
    },
    {
     "cell_type": "markdown",
     "metadata": {},
     "source": [
      "<hr>"
     ]
    },
    {
     "cell_type": "heading",
     "level": 3,
     "metadata": {},
     "source": [
      "Problem T2-1"
     ]
    },
    {
     "cell_type": "markdown",
     "metadata": {},
     "source": [
      "A social bot (software robot) is a piece of software which can simulate a human being. \n",
      "Social bots \"lives\" on a social network (like Twitter and Facebook) and does something on that network. \n",
      "What it does, is up to how it has been implementet. Some bots are harmless and try to help certain kund of people. For instance, a bot for\n",
      "a big company can try to \"answer\" questions from customers. It can do this by havin top 10 qustions and try to \"spot\" those question \n",
      "and then post a answer. \n",
      "\n",
      "Other bots are directly harmfull, as they (try) to spread malicious programs/code, try to spread a rumour or exploit \n",
      "some other informatons. \n",
      "\n",
      "<br>\n",
      "<b>Turing test </b><br>\n",
      "The Turing test is from Alan Turing, and has the purpose of determine is a computer (or a bot), can act like/simulate a human being. \n",
      "In the test, a real person is interacting with a computer without knowing it is through some questions that the person\n",
      "can ask the computer. \n",
      "If the the human being conducting the test is unable to consistently determine whether an answer has been given by a computer\n",
      "or by another human being, then the computer is considered to have \"passed\" the test.\n"
     ]
    },
    {
     "cell_type": "heading",
     "level": 3,
     "metadata": {},
     "source": [
      "Problem T2-2"
     ]
    },
    {
     "cell_type": "markdown",
     "metadata": {},
     "source": [
      "Social bots is getting more and more clever and therefor can pass the Turing more easylier than ever. This means that a human being will\n",
      "trust the bots more because he thinks it is a real person. \n",
      "This can mean that the bots can easy delude the person into beleave whatever. Rumours, terrorist threat and so on. \n",
      "\n",
      "Under that \"umbrella\" called rumours there are many problems:\n",
      "    1. Terrorist threat - fake or real, it realy doesn't matter. It can couse pannic\n",
      "    2. Child abuse - People who wants to abuse children can hide behind bots\n",
      "    3. Affect the stock market - through fake or real rumours to earn quick money. "
     ]
    },
    {
     "cell_type": "heading",
     "level": 3,
     "metadata": {},
     "source": [
      "Problem T2-3 (MANGLER!!)"
     ]
    },
    {
     "cell_type": "markdown",
     "metadata": {},
     "source": [
      "\n",
      "<table>\n",
      "    <tr>\n",
      "        <th> Strategy </th>\n",
      "        <th> Description</th>\n",
      "        <th> Effectivity (1-10) </th>\n",
      "    </tr>\n",
      "    <tr>\n",
      "        <td> ... </td>\n",
      "        <td> ...</td>\n",
      "        <td> .... </td>\n",
      "    </tr>\n",
      "    <tr>\n",
      "        <td> ... </td>\n",
      "        <td> ...</td>\n",
      "        <td> .... </td>\n",
      "    </tr>\n",
      "    <tr>\n",
      "        <td> ... </td>\n",
      "        <td> ...</td>\n",
      "        <td> .... </td>\n",
      "    </tr>\n",
      "    <tr>\n",
      "        <td> ... </td>\n",
      "        <td> ...</td>\n",
      "        <td> .... </td>\n",
      "    </tr>\n",
      "</table>"
     ]
    },
    {
     "cell_type": "markdown",
     "metadata": {},
     "source": [
      "<hr>"
     ]
    },
    {
     "cell_type": "heading",
     "level": 3,
     "metadata": {},
     "source": [
      "Problem T3-1"
     ]
    },
    {
     "cell_type": "markdown",
     "metadata": {},
     "source": [
      "Instead of an Amazon EC2 account, we chosed to setup an Intel NUC (<a href=\"http://www.intel.com/content/www/us/en/nuc/overview.html\">Intel NUC</a>) with Linux installed. <br>\n",
      "Python 2.7.x and all necessary packages was installed\n"
     ]
    },
    {
     "cell_type": "heading",
     "level": 3,
     "metadata": {},
     "source": [
      "Problem T3-2"
     ]
    },
    {
     "cell_type": "code",
     "collapsed": false,
     "input": [],
     "language": "python",
     "metadata": {},
     "outputs": []
    },
    {
     "cell_type": "markdown",
     "metadata": {},
     "source": [
      "<hr>"
     ]
    },
    {
     "cell_type": "heading",
     "level": 2,
     "metadata": {},
     "source": [
      "Part 2 - NLPP1e"
     ]
    },
    {
     "cell_type": "heading",
     "level": 3,
     "metadata": {},
     "source": [
      "Problem N1-1"
     ]
    },
    {
     "cell_type": "code",
     "collapsed": false,
     "input": [],
     "language": "python",
     "metadata": {},
     "outputs": []
    }
   ],
   "metadata": {}
  }
 ]
}