{
 "metadata": {
  "name": "",
  "signature": "sha256:c1ce6ff96fb6a0c8b20c37ba533055dcf32914b6fa1a67ab26c4b09c2cbe3825"
 },
 "nbformat": 3,
 "nbformat_minor": 0,
 "worksheets": [
  {
   "cells": [
    {
     "cell_type": "heading",
     "level": 1,
     "metadata": {},
     "source": [
      "Opgave 3"
     ]
    },
    {
     "cell_type": "code",
     "collapsed": false,
     "input": [
      "a = range(1,1111)\n",
      "print a"
     ],
     "language": "python",
     "metadata": {},
     "outputs": [
      {
       "output_type": "stream",
       "stream": "stdout",
       "text": [
        "[1, 2, 3, 4, 5, 6, 7, 8, 9, 10, 11, 12, 13, 14, 15, 16, 17, 18, 19, 20, 21, 22, 23, 24, 25, 26, 27, 28, 29, 30, 31, 32, 33, 34, 35, 36, 37, 38, 39, 40, 41, 42, 43, 44, 45, 46, 47, 48, 49, 50, 51, 52, 53, 54, 55, 56, 57, 58, 59, 60, 61, 62, 63, 64, 65, 66, 67, 68, 69, 70, 71, 72, 73, 74, 75, 76, 77, 78, 79, 80, 81, 82, 83, 84, 85, 86, 87, 88, 89, 90, 91, 92, 93, 94, 95, 96, 97, 98, 99, 100, 101, 102, 103, 104, 105, 106, 107, 108, 109, 110, 111, 112, 113, 114, 115, 116, 117, 118, 119, 120, 121, 122, 123, 124, 125, 126, 127, 128, 129, 130, 131, 132, 133, 134, 135, 136, 137, 138, 139, 140, 141, 142, 143, 144, 145, 146, 147, 148, 149, 150, 151, 152, 153, 154, 155, 156, 157, 158, 159, 160, 161, 162, 163, 164, 165, 166, 167, 168, 169, 170, 171, 172, 173, 174, 175, 176, 177, 178, 179, 180, 181, 182, 183, 184, 185, 186, 187, 188, 189, 190, 191, 192, 193, 194, 195, 196, 197, 198, 199, 200, 201, 202, 203, 204, 205, 206, 207, 208, 209, 210, 211, 212, 213, 214, 215, 216, 217, 218, 219, 220, 221, 222, 223, 224, 225, 226, 227, 228, 229, 230, 231, 232, 233, 234, 235, 236, 237, 238, 239, 240, 241, 242, 243, 244, 245, 246, 247, 248, 249, 250, 251, 252, 253, 254, 255, 256, 257, 258, 259, 260, 261, 262, 263, 264, 265, 266, 267, 268, 269, 270, 271, 272, 273, 274, 275, 276, 277, 278, 279, 280, 281, 282, 283, 284, 285, 286, 287, 288, 289, 290, 291, 292, 293, 294, 295, 296, 297, 298, 299, 300, 301, 302, 303, 304, 305, 306, 307, 308, 309, 310, 311, 312, 313, 314, 315, 316, 317, 318, 319, 320, 321, 322, 323, 324, 325, 326, 327, 328, 329, 330, 331, 332, 333, 334, 335, 336, 337, 338, 339, 340, 341, 342, 343, 344, 345, 346, 347, 348, 349, 350, 351, 352, 353, 354, 355, 356, 357, 358, 359, 360, 361, 362, 363, 364, 365, 366, 367, 368, 369, 370, 371, 372, 373, 374, 375, 376, 377, 378, 379, 380, 381, 382, 383, 384, 385, 386, 387, 388, 389, 390, 391, 392, 393, 394, 395, 396, 397, 398, 399, 400, 401, 402, 403, 404, 405, 406, 407, 408, 409, 410, 411, 412, 413, 414, 415, 416, 417, 418, 419, 420, 421, 422, 423, 424, 425, 426, 427, 428, 429, 430, 431, 432, 433, 434, 435, 436, 437, 438, 439, 440, 441, 442, 443, 444, 445, 446, 447, 448, 449, 450, 451, 452, 453, 454, 455, 456, 457, 458, 459, 460, 461, 462, 463, 464, 465, 466, 467, 468, 469, 470, 471, 472, 473, 474, 475, 476, 477, 478, 479, 480, 481, 482, 483, 484, 485, 486, 487, 488, 489, 490, 491, 492, 493, 494, 495, 496, 497, 498, 499, 500, 501, 502, 503, 504, 505, 506, 507, 508, 509, 510, 511, 512, 513, 514, 515, 516, 517, 518, 519, 520, 521, 522, 523, 524, 525, 526, 527, 528, 529, 530, 531, 532, 533, 534, 535, 536, 537, 538, 539, 540, 541, 542, 543, 544, 545, 546, 547, 548, 549, 550, 551, 552, 553, 554, 555, 556, 557, 558, 559, 560, 561, 562, 563, 564, 565, 566, 567, 568, 569, 570, 571, 572, 573, 574, 575, 576, 577, 578, 579, 580, 581, 582, 583, 584, 585, 586, 587, 588, 589, 590, 591, 592, 593, 594, 595, 596, 597, 598, 599, 600, 601, 602, 603, 604, 605, 606, 607, 608, 609, 610, 611, 612, 613, 614, 615, 616, 617, 618, 619, 620, 621, 622, 623, 624, 625, 626, 627, 628, 629, 630, 631, 632, 633, 634, 635, 636, 637, 638, 639, 640, 641, 642, 643, 644, 645, 646, 647, 648, 649, 650, 651, 652, 653, 654, 655, 656, 657, 658, 659, 660, 661, 662, 663, 664, 665, 666, 667, 668, 669, 670, 671, 672, 673, 674, 675, 676, 677, 678, 679, 680, 681, 682, 683, 684, 685, 686, 687, 688, 689, 690, 691, 692, 693, 694, 695, 696, 697, 698, 699, 700, 701, 702, 703, 704, 705, 706, 707, 708, 709, 710, 711, 712, 713, 714, 715, 716, 717, 718, 719, 720, 721, 722, 723, 724, 725, 726, 727, 728, 729, 730, 731, 732, 733, 734, 735, 736, 737, 738, 739, 740, 741, 742, 743, 744, 745, 746, 747, 748, 749, 750, 751, 752, 753, 754, 755, 756, 757, 758, 759, 760, 761, 762, 763, 764, 765, 766, 767, 768, 769, 770, 771, 772, 773, 774, 775, 776, 777, 778, 779, 780, 781, 782, 783, 784, 785, 786, 787, 788, 789, 790, 791, 792, 793, 794, 795, 796, 797, 798, 799, 800, 801, 802, 803, 804, 805, 806, 807, 808, 809, 810, 811, 812, 813, 814, 815, 816, 817, 818, 819, 820, 821, 822, 823, 824, 825, 826, 827, 828, 829, 830, 831, 832, 833, 834, 835, 836, 837, 838, 839, 840, 841, 842, 843, 844, 845, 846, 847, 848, 849, 850, 851, 852, 853, 854, 855, 856, 857, 858, 859, 860, 861, 862, 863, 864, 865, 866, 867, 868, 869, 870, 871, 872, 873, 874, 875, 876, 877, 878, 879, 880, 881, 882, 883, 884, 885, 886, 887, 888, 889, 890, 891, 892, 893, 894, 895, 896, 897, 898, 899, 900, 901, 902, 903, 904, 905, 906, 907, 908, 909, 910, 911, 912, 913, 914, 915, 916, 917, 918, 919, 920, 921, 922, 923, 924, 925, 926, 927, 928, 929, 930, 931, 932, 933, 934, 935, 936, 937, 938, 939, 940, 941, 942, 943, 944, 945, 946, 947, 948, 949, 950, 951, 952, 953, 954, 955, 956, 957, 958, 959, 960, 961, 962, 963, 964, 965, 966, 967, 968, 969, 970, 971, 972, 973, 974, 975, 976, 977, 978, 979, 980, 981, 982, 983, 984, 985, 986, 987, 988, 989, 990, 991, 992, 993, 994, 995, 996, 997, 998, 999, 1000, 1001, 1002, 1003, 1004, 1005, 1006, 1007, 1008, 1009, 1010, 1011, 1012, 1013, 1014, 1015, 1016, 1017, 1018, 1019, 1020, 1021, 1022, 1023, 1024, 1025, 1026, 1027, 1028, 1029, 1030, 1031, 1032, 1033, 1034, 1035, 1036, 1037, 1038, 1039, 1040, 1041, 1042, 1043, 1044, 1045, 1046, 1047, 1048, 1049, 1050, 1051, 1052, 1053, 1054, 1055, 1056, 1057, 1058, 1059, 1060, 1061, 1062, 1063, 1064, 1065, 1066, 1067, 1068, 1069, 1070, 1071, 1072, 1073, 1074, 1075, 1076, 1077, 1078, 1079, 1080, 1081, 1082, 1083, 1084, 1085, 1086, 1087, 1088, 1089, 1090, 1091, 1092, 1093, 1094, 1095, 1096, 1097, 1098, 1099, 1100, 1101, 1102, 1103, 1104, 1105, 1106, 1107, 1108, 1109, 1110]\n"
       ]
      }
     ],
     "prompt_number": 4
    },
    {
     "cell_type": "code",
     "collapsed": false,
     "input": [
      "b = a[542:779]\n",
      "print b"
     ],
     "language": "python",
     "metadata": {},
     "outputs": [
      {
       "output_type": "stream",
       "stream": "stdout",
       "text": [
        "[543, 544, 545, 546, 547, 548, 549, 550, 551, 552, 553, 554, 555, 556, 557, 558, 559, 560, 561, 562, 563, 564, 565, 566, 567, 568, 569, 570, 571, 572, 573, 574, 575, 576, 577, 578, 579, 580, 581, 582, 583, 584, 585, 586, 587, 588, 589, 590, 591, 592, 593, 594, 595, 596, 597, 598, 599, 600, 601, 602, 603, 604, 605, 606, 607, 608, 609, 610, 611, 612, 613, 614, 615, 616, 617, 618, 619, 620, 621, 622, 623, 624, 625, 626, 627, 628, 629, 630, 631, 632, 633, 634, 635, 636, 637, 638, 639, 640, 641, 642, 643, 644, 645, 646, 647, 648, 649, 650, 651, 652, 653, 654, 655, 656, 657, 658, 659, 660, 661, 662, 663, 664, 665, 666, 667, 668, 669, 670, 671, 672, 673, 674, 675, 676, 677, 678, 679, 680, 681, 682, 683, 684, 685, 686, 687, 688, 689, 690, 691, 692, 693, 694, 695, 696, 697, 698, 699, 700, 701, 702, 703, 704, 705, 706, 707, 708, 709, 710, 711, 712, 713, 714, 715, 716, 717, 718, 719, 720, 721, 722, 723, 724, 725, 726, 727, 728, 729, 730, 731, 732, 733, 734, 735, 736, 737, 738, 739, 740, 741, 742, 743, 744, 745, 746, 747, 748, 749, 750, 751, 752, 753, 754, 755, 756, 757, 758, 759, 760, 761, 762, 763, 764, 765, 766, 767, 768, 769, 770, 771, 772, 773, 774, 775, 776, 777, 778, 779]\n"
       ]
      }
     ],
     "prompt_number": 6
    },
    {
     "cell_type": "code",
     "collapsed": false,
     "input": [
      "def mul(x):\n",
      "    return (x*x)+3\n",
      "\n",
      "for num in b:\n",
      "    print mul(num)\n"
     ],
     "language": "python",
     "metadata": {},
     "outputs": []
    },
    {
     "cell_type": "heading",
     "level": 3,
     "metadata": {},
     "source": [
      "Med list comprehension\n"
     ]
    },
    {
     "cell_type": "code",
     "collapsed": false,
     "input": [
      "result = [(num*num)+3 for num in b]\n",
      "print result"
     ],
     "language": "python",
     "metadata": {},
     "outputs": []
    },
    {
     "cell_type": "heading",
     "level": 3,
     "metadata": {},
     "source": [
      "Skriver til fil"
     ]
    },
    {
     "cell_type": "code",
     "collapsed": false,
     "input": [
      "f = open(\"SocialGraferLecture1_writeTest.txt\", 'w')\n",
      "\n",
      "for num in b:\n",
      "    f.write(str(mul(num))+'\\n')\n",
      "    \n",
      "f.close()\n"
     ],
     "language": "python",
     "metadata": {},
     "outputs": [],
     "prompt_number": 15
    },
    {
     "cell_type": "heading",
     "level": 3,
     "metadata": {},
     "source": [
      "Forklare"
     ]
    },
    {
     "cell_type": "code",
     "collapsed": false,
     "input": [
      "Everytime where the sentense \"with variable 'x'\" the reader should read it at \"with the conent in variable 'x'\"\n",
      "\n",
      "x = \"There are %d types of people.\" % 10  #Substitute '%d' with '10 ('d' is for digits)\n",
      "binary = \"binary\"\n",
      "do_not = \"don't\"\n",
      "y = \"Those who know %s and those who %s.\" % (binary, do_not)  #substiture two strings ('s' is for string): The first '%s' with the variable 'binary' and the second '%s' with the variable 'do_not'\n",
      "\n",
      "print x\n",
      "print y\n",
      "\n",
      "print \"I said: %r.\" % x  #substitutes '%r' with variable 'x'. 'r' is for raw/repr. It is almost as str, but is unambiguous where str is readable. Here will the qoates (\"\") in x be printed\n",
      "print \"I also said: '%s'.\" % y #substitutes '%r' with variable 'x'. 'r' is for raw/repr. It is almost as str, but is unambiguous where str is readable. Here will the qoates (\"\") in y NOT be printed\n",
      "\n",
      "hilarious = False\n",
      "joke_evaluation = \"Isn't that joke so funny?! %r\" #substitutes '%r' with variable 'hilarious'. It will print 'false' in this example\n",
      "\n",
      "print joke_evaluation % hilarious #prints the same as the codeline above\n",
      "\n",
      "w = \"This is the left side of...\"\n",
      "e = \"a string with a right side.\"\n",
      "\n",
      "print w + e #concatinate the two strings: w and e, and print the result"
     ],
     "language": "python",
     "metadata": {},
     "outputs": []
    },
    {
     "cell_type": "heading",
     "level": 2,
     "metadata": {},
     "source": [
      "JSON"
     ]
    },
    {
     "cell_type": "markdown",
     "metadata": {},
     "source": [
      "XML is document exchange format, where JSON is data exchange format. This eans that JSON is better/easyer to handle object orientet data. \n",
      "JSON is easyer to read for humans and machines. "
     ]
    },
    {
     "cell_type": "heading",
     "level": 2,
     "metadata": {},
     "source": [
      "JSON & urllib2"
     ]
    },
    {
     "cell_type": "code",
     "collapsed": false,
     "input": [
      "import urllib2\n",
      "import json \n",
      "import pprint\n",
      "\n",
      "req = urllib2.Request('http://dl.dropbox.com/u/153071/test.json')\n",
      "response = urllib2.urlopen(req)\n",
      "File =response.read()\n",
      "jsonFile = json.loads(File)\n",
      "\n",
      "pp = pprint.PrettyPrinter(indent=1)\n",
      "pp.pprint(jsonFile)"
     ],
     "language": "python",
     "metadata": {},
     "outputs": [
      {
       "output_type": "stream",
       "stream": "stdout",
       "text": [
        "{u'SearchResponse': {u'Query': {u'SearchTerms': u'\"michael kai petersen\"'},\n",
        "                     u'Version': u'2.2',\n",
        "                     u'Web': {u'Offset': 0,\n",
        "                              u'Results': [{u'CacheUrl': u'http://cc.bingj.com/cache.aspx?q=%22michael+kai+petersen%22&d=4653447183009540&w=7753a516,1b7b0df9',\n",
        "                                            u'DateTime': u'2012-01-25T20:11:00Z',\n",
        "                                            u'Description': u'The TV2 Lorry 19.30 program on March 4 featured Ph.D. student Carsten Stahlhut and Assistant Professor Michael Kai Petersen. They were showcasing our research involving portable ...',\n",
        "                                            u'DisplayUrl': u'milab.imm.dtu.dk',\n",
        "                                            u'Title': u'milab [Mobile Informatics Lab]',\n",
        "                                            u'Url': u'http://milab.imm.dtu.dk/'},\n",
        "                                           {u'CacheUrl': u'http://cc.bingj.com/cache.aspx?q=%22michael+kai+petersen%22&d=4990194087232738&w=1ebee5dc,121b29c1',\n",
        "                                            u'DateTime': u'2012-01-28T20:07:00Z',\n",
        "                                            u'Description': u'Adjunkt p\\xe5 DTU Informatik, Michael Kai Petersen, har skrevet en ph.d.-afhandling om, hvordan sangtekster p\\xe5virker vores f\\xf8lelser og om, hvordan en mp3-afspiller, mobil eller ...',\n",
        "                                            u'DisplayUrl': u'www.imm.dtu.dk/Nyheder/Nyheder_IMM.aspx',\n",
        "                                            u'Title': u'Seneste nyt',\n",
        "                                            u'Url': u'http://www.imm.dtu.dk/Nyheder/Nyheder_IMM.aspx'},\n",
        "                                           {u'DateTime': u'2012-01-28T05:39:00Z',\n",
        "                                            u'Description': u'2 Lovforslag og digital administration, Fra HumanComputerInteraction til LawComputerInter action Author(s): Ulla Lund s071534 Supervisor(s): Adjunkt Michael Kai Petersen ...',\n",
        "                                            u'DisplayUrl': u'www2.imm.dtu.dk/pubdb/views/edoc_download.php/6117/pdf/imm6117.pdf',\n",
        "                                            u'Title': u'Lovforslag og digital administration',\n",
        "                                            u'Url': u'http://www2.imm.dtu.dk/pubdb/views/edoc_download.php/6117/pdf/imm6117.pdf'},\n",
        "                                           {u'CacheUrl': u'http://cc.bingj.com/cache.aspx?q=%22michael+kai+petersen%22&d=4831739860222888&w=2c9a690b,b1473d05',\n",
        "                                            u'DateTime': u'2012-01-23T22:06:00Z',\n",
        "                                            u'Description': u'Michael Kai Petersen; Machine Learning blog; IEEE Sig. Proc. Soc. MTG CFPs; Ear Level Audio DSP; Three-toed Sloth by C. R. Shalizi; Bad Science by Ben Goldcare',\n",
        "                                            u'DisplayUrl': u'media.aau.dk/CRISSP/2010/05/compressed-sensing-and-audio-compression.html',\n",
        "                                            u'Title': u'Compressed Sensing and Audio Compression - Collective for Research ...',\n",
        "                                            u'Url': u'http://media.aau.dk/CRISSP/2010/05/compressed-sensing-and-audio-compression.html'},\n",
        "                                           {u'CacheUrl': u'http://cc.bingj.com/cache.aspx?q=%22michael+kai+petersen%22&d=4765520051767631&w=f900eafb,38a210f3',\n",
        "                                            u'DateTime': u'2012-01-27T11:06:00Z',\n",
        "                                            u'Description': u'Der er mulighed for at sortere i listen. Klik p\\xe5 overskrifterne Navn/E-mail ... Michael Kai: Petersen: Bygn. 321, rum 127',\n",
        "                                            u'DisplayUrl': u'www.imm.dtu.dk/Om_IMM/Organisation/Fornavne.aspx',\n",
        "                                            u'Title': u'Samtlige medarbejdere sorteret efter fornavne',\n",
        "                                            u'Url': u'http://www.imm.dtu.dk/Om_IMM/Organisation/Fornavne.aspx'},\n",
        "                                           {u'CacheUrl': u'http://cc.bingj.com/cache.aspx?q=%22michael+kai+petersen%22&d=4929463250454597&w=3ce92c82,92c558f2',\n",
        "                                            u'DateTime': u'2012-01-23T01:37:00Z',\n",
        "                                            u'Description': u'Sign Up Facebook helps you connect and share with the people in your life. ... Michael Kai Petersen',\n",
        "                                            u'DisplayUrl': u'www.facebook.com/people/Michael-Hall/1287110991',\n",
        "                                            u'Title': u'Michael Hall | Facebook',\n",
        "                                            u'Url': u'http://www.facebook.com/people/Michael-Hall/1287110991'},\n",
        "                                           {u'CacheUrl': u'http://cc.bingj.com/cache.aspx?q=%22michael+kai+petersen%22&d=4606979940286852&w=40c449a3,d95c8b0b',\n",
        "                                            u'DateTime': u'2012-01-29T10:23:00Z',\n",
        "                                            u'Description': u'Michael Kai Petersen Title--Demographic info Copenhagen Area, Denmark | Information Technology and Services View Full Profile',\n",
        "                                            u'DisplayUrl': u'www.linkedin.com/pub/dir/kai/petersen',\n",
        "                                            u'Title': u'kai petersen profiles | LinkedIn',\n",
        "                                            u'Url': u'http://www.linkedin.com/pub/dir/kai/petersen'},\n",
        "                                           {u'CacheUrl': u'http://cc.bingj.com/cache.aspx?q=%22michael+kai+petersen%22&d=4714345522266520&w=72b0f7c2,1c5cc0c0',\n",
        "                                            u'DateTime': u'2012-01-29T13:26:00Z',\n",
        "                                            u'Description': u'Michael Kai Petersen; Machine Learning blog; IEEE Sig. Proc. Soc. MTG CFPs; Ear Level Audio DSP; Three-toed Sloth by C. R. Shalizi; Bad Science by Ben Goldcare',\n",
        "                                            u'DisplayUrl': u'media.aau.dk/CRISSP/2010/03/paper-of-the-day-pod-performance-of-greedy-algorithms.html',\n",
        "                                            u'Title': u\"Paper of the Day (Po'D): Performance of Greedy Algorithms ...\",\n",
        "                                            u'Url': u'http://media.aau.dk/CRISSP/2010/03/paper-of-the-day-pod-performance-of-greedy-algorithms.html'},\n",
        "                                           {u'CacheUrl': u'http://cc.bingj.com/cache.aspx?q=%22michael+kai+petersen%22&d=4636748346425645&w=a316a81b,1e5d5525',\n",
        "                                            u'DateTime': u'2012-01-25T11:57:00Z',\n",
        "                                            u'Description': u'2011; 78 : Arkadiusz Stopczynski, Jakob Eg Larsen, Carsten Stahlhut, Michael Kai Petersen, Lars Kai Hansen: A Smartphone Interface for a Wireless EEG Headset with Real-Time 3D ...',\n",
        "                                            u'DisplayUrl': u'www.informatik.uni-trier.de/~ley/db/indices/a-tree/h/Hansen:Lars_Kai.html',\n",
        "                                            u'Title': u'DBLP: Lars Kai Hansen',\n",
        "                                            u'Url': u'http://www.informatik.uni-trier.de/~ley/db/indices/a-tree/h/Hansen:Lars_Kai.html'},\n",
        "                                           {u'CacheUrl': u'http://cc.bingj.com/cache.aspx?q=%22michael+kai+petersen%22&d=4549238390915844&w=d93938d,877c1e8b',\n",
        "                                            u'DateTime': u'2012-01-25T21:14:00Z',\n",
        "                                            u'Description': u'Opret profil Facebook hj\\xe6lper dig med at dele og holde forbindelsen ved lige med ... Michael Kai Petersen',\n",
        "                                            u'DisplayUrl': u'da-dk.facebook.com/michael.rene.petersen',\n",
        "                                            u'Title': u'Michael Petersen | Facebook',\n",
        "                                            u'Url': u'http://da-dk.facebook.com/michael.rene.petersen'},\n",
        "                                           {u'CacheUrl': u'http://cc.bingj.com/cache.aspx?q=%22michael+kai+petersen%22&d=4674784572803507&w=f195785b,ccea2e00',\n",
        "                                            u'DateTime': u'2012-01-29T03:04:00Z',\n",
        "                                            u'Description': u'The Smartphone Brain Scanner is developed by Arkadiusz Stopczynski, Carsten Stahlhut, Michael Kai Petersen, Jakob Eg Larsen, and Lars Kai Hansen, DTU Informatics ...',\n",
        "                                            u'DisplayUrl': u'www.youtube.com/watch?v=i_66KAOzXhU',\n",
        "                                            u'Title': u'Smartphone Brain Scanner - YouTube',\n",
        "                                            u'Url': u'http://www.youtube.com/watch?v=i_66KAOzXhU'},\n",
        "                                           {u'CacheUrl': u'http://cc.bingj.com/cache.aspx?q=%22michael+kai+petersen%22&d=4969007005304766&w=2116d94,83294138',\n",
        "                                            u'DateTime': u'2012-01-19T12:25:00Z',\n",
        "                                            u'Description': u'Arkadiusz Stopczynski, Carsten Stahlhut, Michael Kai Petersen, Jakob Eg Larsen and Lars Kai Hansen developed the scanner, which they promote with clever tagline: \"Holding your ...',\n",
        "                                            u'DisplayUrl': u'betanews.com/2011/09/16/scan-your-brain-with-nokia-n900-video-2',\n",
        "                                            u'Title': u'Scan your brain with Nokia N900 [video]',\n",
        "                                            u'Url': u'http://betanews.com/2011/09/16/scan-your-brain-with-nokia-n900-video-2/'},\n",
        "                                           {u'CacheUrl': u'http://cc.bingj.com/cache.aspx?q=%22michael+kai+petersen%22&d=4760933016076692&w=46591d17,76283219',\n",
        "                                            u'DateTime': u'2011-08-09T00:18:00Z',\n",
        "                                            u'Description': u'Michael Kai Petersen, Lars Kai Hansen ... \\xa92011 Microsoft Corporation. All rights reserved.',\n",
        "                                            u'DisplayUrl': u'academic.research.microsoft.com/Author/1738658/lars-kai-hansen',\n",
        "                                            u'Title': u'Lars Kai Hansen',\n",
        "                                            u'Url': u'http://academic.research.microsoft.com/Author/1738658/lars-kai-hansen'},\n",
        "                                           {u'CacheUrl': u'http://cc.bingj.com/cache.aspx?q=%22michael+kai+petersen%22&d=5050164706216136&w=4160a826,2ef192a8',\n",
        "                                            u'DateTime': u'2011-08-11T21:42:00Z',\n",
        "                                            u'Description': u'Michael Kai Petersen, Morten Mrup, Lars Kai Hansen ... \\xa92011 Microsoft Corporation. All rights reserved.',\n",
        "                                            u'DisplayUrl': u'academic.research.microsoft.com/Author/12182305/eric-p-nichols',\n",
        "                                            u'Title': u'Eric P. Nichols',\n",
        "                                            u'Url': u'http://academic.research.microsoft.com/Author/12182305/eric-p-nichols'},\n",
        "                                           {u'CacheUrl': u'http://cc.bingj.com/cache.aspx?q=%22michael+kai+petersen%22&d=4739788912199232&w=8f630ce7,bf48d224',\n",
        "                                            u'DateTime': u'2012-01-29T13:23:00Z',\n",
        "                                            u'Description': u'Michael Kai Petersen; Mads Nyborg ass. Professor; Lars Kai Hansen; pia lauridsen Assistant at Technical University of... Steven Dean Designer, Educator, Entrepreneur',\n",
        "                                            u'DisplayUrl': u'www.linkedin.com/pub/jakob-eg-larsen/0/5b/30b',\n",
        "                                            u'Title': u'Jakob Eg Larsen | LinkedIn',\n",
        "                                            u'Url': u'http://www.linkedin.com/pub/jakob-eg-larsen/0/5b/30b'},\n",
        "                                           {u'CacheUrl': u'http://cc.bingj.com/cache.aspx?q=%22michael+kai+petersen%22&d=4635339601808000&w=b562870e,f327b401',\n",
        "                                            u'DateTime': u'2012-01-27T20:27:00Z',\n",
        "                                            u'Description': u'Michael Kai Petersen, Andrius Butkus: Modeling Moods in BBC Programs Based on Emotional Context. 112-116; Martin Gude, Stefan M. Gr\\xfcnvogel, Andreas P\\xfctz:',\n",
        "                                            u'DisplayUrl': u'www.informatik.uni-trier.de/~ley/db/conf/euroitv/euroitv2008.html',\n",
        "                                            u'Title': u'European Conference on Interactive TV 2008',\n",
        "                                            u'Url': u'http://www.informatik.uni-trier.de/~ley/db/conf/euroitv/euroitv2008.html'},\n",
        "                                           {u'CacheUrl': u'http://cc.bingj.com/cache.aspx?q=%22michael+kai+petersen%22&d=4805914221871805&w=a880ec95,ee8b4db1',\n",
        "                                            u'DateTime': u'2012-01-28T22:27:00Z',\n",
        "                                            u'Description': u'Sangtekster kan p\\xe5virke vores f\\xf8lelser. Adjunkt fra DTU Michael Kai Petersen fort\\xe6ller om sin ph.d afhandling om sangtekster og om hvordan vores...',\n",
        "                                            u'DisplayUrl': u'www.lorry.dk/arkiv/2010/12/10?video_id=44561',\n",
        "                                            u'Title': u'Lorry',\n",
        "                                            u'Url': u'http://www.lorry.dk/arkiv/2010/12/10?video_id=44561'},\n",
        "                                           {u'CacheUrl': u'http://cc.bingj.com/cache.aspx?q=%22michael+kai+petersen%22&d=4739217670670340&w=79437b63,e014f144',\n",
        "                                            u'DateTime': u'2012-01-27T20:14:00Z',\n",
        "                                            u'Description': u'By Jakob Eg Larsen, Michael Kai Petersen, Nima Zandi, and Rasmus Handler. Introduction. Mobile phones have become ubiquitous and an integrated part of our everyday life.',\n",
        "                                            u'DisplayUrl': u'wi.hexagram.ca',\n",
        "                                            u'Title': u'Wi: Journal of Mobile Media',\n",
        "                                            u'Url': u'http://wi.hexagram.ca/'},\n",
        "                                           {u'CacheUrl': u'http://cc.bingj.com/cache.aspx?q=%22michael+kai+petersen%22&d=4774908855058969&w=3b57c338,9ce4913d',\n",
        "                                            u'DateTime': u'2012-01-28T18:33:00Z',\n",
        "                                            u'Description': u'... Linus Harling Lucas Bambozzi Lucia Santaella Lucie B\\xe9langer Marie-H\\xe9l\\xe8ne Lemaire Marilei Fiorelli Marit-Saskia Wahrendorf Mark Young Maroussia L\\xe9vesque Martin Pielot Michael Kai Petersen ...',\n",
        "                                            u'DisplayUrl': u'wi.hexagram.ca/?p=4',\n",
        "                                            u'Title': u'Wi: Journal of Mobile Media \\xbb Blog Archive \\xbb Mapping the ...',\n",
        "                                            u'Url': u'http://wi.hexagram.ca/?p=4'},\n",
        "                                           {u'CacheUrl': u'http://cc.bingj.com/cache.aspx?q=%22michael+kai+petersen%22&d=4958338309161545&w=6ee8a494,df5defb6',\n",
        "                                            u'DateTime': u'2012-01-25T09:56:00Z',\n",
        "                                            u'Description': u'Michael Kai Petersen (DTU - Department of Informatics and Mathematical Modeling 7. Lene J\\xf8rgensen (KU - Department of Pharmaceutics and Analytical Chemistry)',\n",
        "                                            u'DisplayUrl': u'www.nxtgen.dk/en/teaching_program/latest_news',\n",
        "                                            u'Title': u'Latest news - Highly educated entrepreneurs and intrapeneurs in ...',\n",
        "                                            u'Url': u'http://www.nxtgen.dk/en/teaching_program/latest_news/'}],\n",
        "                              u'Total': 165}}}\n"
       ]
      }
     ],
     "prompt_number": 5
    },
    {
     "cell_type": "heading",
     "level": 1,
     "metadata": {},
     "source": [
      "Opgave 4"
     ]
    },
    {
     "cell_type": "heading",
     "level": 3,
     "metadata": {},
     "source": [
      "What is Github?:"
     ]
    },
    {
     "cell_type": "raw",
     "metadata": {},
     "source": [
      "Github is a social website where programmers of all levels, can collaborate and share codes. This codes can be in any programming language. \n",
      "People can fork a repository and through this contribute/help other, or just use it for private projects"
     ]
    },
    {
     "cell_type": "heading",
     "level": 3,
     "metadata": {},
     "source": [
      "What is iPython Notebook?:"
     ]
    },
    {
     "cell_type": "raw",
     "metadata": {},
     "source": [
      "iPython Notebook is a web-based Python interpreter.\n",
      "Besides its IDE functionality, it can make headlines and raw text, which make it helpful to the programmer to organize his code. "
     ]
    },
    {
     "cell_type": "heading",
     "level": 1,
     "metadata": {},
     "source": [
      "Opgave 5"
     ]
    },
    {
     "cell_type": "heading",
     "level": 3,
     "metadata": {},
     "source": [
      "Twitter"
     ]
    },
    {
     "cell_type": "raw",
     "metadata": {},
     "source": [
      "Twitter has over 500 million users, where over 100 million is active engaging. "
     ]
    },
    {
     "cell_type": "heading",
     "level": 3,
     "metadata": {},
     "source": [
      "Twitter vs. Facebook"
     ]
    },
    {
     "cell_type": "raw",
     "metadata": {},
     "source": [
      "Twitterr is using maximum 140 characters long messages, where Facebook can be bigger. Twitters messsages are like short thoughts which is being \"shout out\" to all of Twitters 500 million users - potientially. \n",
      "Where Facebook (and other social sites, like LinkedIn) requires mutual acceptance of a connection between users (which usually implies a real-world connection of som kind), Twitter do not require this. A user can keep up with the latest happening of ANY user, regardless the user knows the other user. "
     ]
    },
    {
     "cell_type": "heading",
     "level": 3,
     "metadata": {},
     "source": [
      "Twitter examples 1.1 - 1.4:"
     ]
    },
    {
     "cell_type": "code",
     "collapsed": false,
     "input": [
      "#Example 1.1\n",
      "import twitter\n",
      "\n",
      "CONSUMER_KEY = 'dBzN5LgoHAZfC5cQK7ItOwHRi' #API key\n",
      "CONSUMER_SECRET = '1keiti4AmqArm6Quumpmq2fW19YFwoOUmd023xb5lf6fof3Eh4' #API secret key\n",
      "OAUTH_TOKEN = '2787905696-YNEKdOUnD3nXPWUHopY2nDNPfYIfJkMkLh5vxsC'  #Access token\n",
      "OAUTH_TOKEN_SECRET = '85kXzVNoIZ2O9s8nxwPLWbcap6lc1VfXn1HHl6PYkl0Tr' #access token secret\n",
      "\n",
      "auth = twitter.oauth.OAuth(OAUTH_TOKEN, OAUTH_TOKEN_SECRET, CONSUMER_KEY, CONSUMER_SECRET)\n",
      "twitter_api = twitter.Twitter(auth=auth)\n",
      "\n",
      "print twitter_api\n",
      "\n"
     ],
     "language": "python",
     "metadata": {},
     "outputs": [
      {
       "output_type": "stream",
       "stream": "stdout",
       "text": [
        "<twitter.api.Twitter object at 0x02F0C290>\n"
       ]
      }
     ],
     "prompt_number": 2
    },
    {
     "cell_type": "code",
     "collapsed": false,
     "input": [
      "#Example 1.2\n",
      "\n",
      "WORLD_WOE_ID = 1\n",
      "STOCKHOLM_WEO_ID = 906057\n",
      "\n",
      "world_trends = twitter_api.trends.place(_id=WORLD_WOE_ID)\n",
      "stockholm_trends = twitter_api.trends.place(_id=STOCKHOLM_WEO_ID)\n",
      "\n",
      "print world_trends\n",
      "print\n",
      "print stockholm_trends"
     ],
     "language": "python",
     "metadata": {},
     "outputs": [
      {
       "output_type": "stream",
       "stream": "stdout",
       "text": [
        "[{u'created_at': u'2014-09-06T22:11:34Z', u'trends': [{u'url': u'http://twitter.com/search?q=%23BenCUMHUR', u'query': u'%23BenCUMHUR', u'name': u'#BenCUMHUR', u'promoted_content': None}, {u'url': u'http://twitter.com/search?q=%23ExplainAFilmPlotBadly', u'query': u'%23ExplainAFilmPlotBadly', u'name': u'#ExplainAFilmPlotBadly', u'promoted_content': None}, {u'url': u'http://twitter.com/search?q=%23KazaDe%C4%9FilCinayet', u'query': u'%23KazaDe%C4%9FilCinayet', u'name': u'#KazaDe\\u011filCinayet', u'promoted_content': None}, {u'url': u'http://twitter.com/search?q=%22Romina+Yan%22', u'query': u'%22Romina+Yan%22', u'name': u'Romina Yan', u'promoted_content': None}, {u'url': u'http://twitter.com/search?q=%23RIPNannyS', u'query': u'%23RIPNannyS', u'name': u'#RIPNannyS', u'promoted_content': None}, {u'url': u'http://twitter.com/search?q=%22Every+Canadian%22', u'query': u'%22Every+Canadian%22', u'name': u'Every Canadian', u'promoted_content': None}, {u'url': u'http://twitter.com/search?q=Cilic', u'query': u'Cilic', u'name': u'Cilic', u'promoted_content': None}, {u'url': u'http://twitter.com/search?q=%23StayStrongHarry', u'query': u'%23StayStrongHarry', u'name': u'#StayStrongHarry', u'promoted_content': None}, {u'url': u'http://twitter.com/search?q=Frampton', u'query': u'Frampton', u'name': u'Frampton', u'promoted_content': None}, {u'url': u'http://twitter.com/search?q=Federer', u'query': u'Federer', u'name': u'Federer', u'promoted_content': None}], u'as_of': u'2014-09-06T22:12:23Z', u'locations': [{u'woeid': 1, u'name': u'Worldwide'}]}]\n",
        "\n",
        "[{u'created_at': u'2014-09-06T22:06:23Z', u'trends': [{u'url': u'http://twitter.com/search?q=%23sthlmtechfest', u'query': u'%23sthlmtechfest', u'name': u'#sthlmtechfest', u'promoted_content': None}, {u'url': u'http://twitter.com/search?q=%23svpol', u'query': u'%23svpol', u'name': u'#svpol', u'promoted_content': None}, {u'url': u'http://twitter.com/search?q=%23val2014', u'query': u'%23val2014', u'name': u'#val2014', u'promoted_content': None}, {u'url': u'http://twitter.com/search?q=%22Roy+Andersson%22', u'query': u'%22Roy+Andersson%22', u'name': u'Roy Andersson', u'promoted_content': None}, {u'url': u'http://twitter.com/search?q=%23barpol', u'query': u'%23barpol', u'name': u'#barpol', u'promoted_content': None}, {u'url': u'http://twitter.com/search?q=%23FoooStreet', u'query': u'%23FoooStreet', u'name': u'#FoooStreet', u'promoted_content': None}, {u'url': u'http://twitter.com/search?q=%22Annie+L%C3%B6%C3%B6f%22', u'query': u'%22Annie+L%C3%B6%C3%B6f%22', u'name': u'Annie L\\xf6\\xf6f', u'promoted_content': None}, {u'url': u'http://twitter.com/search?q=Zlatan', u'query': u'Zlatan', u'name': u'Zlatan', u'promoted_content': None}, {u'url': u'http://twitter.com/search?q=Reinfeldt', u'query': u'Reinfeldt', u'name': u'Reinfeldt', u'promoted_content': None}, {u'url': u'http://twitter.com/search?q=Uppsala', u'query': u'Uppsala', u'name': u'Uppsala', u'promoted_content': None}], u'as_of': u'2014-09-06T22:12:24Z', u'locations': [{u'woeid': 906057, u'name': u'Stockholm'}]}]\n"
       ]
      }
     ],
     "prompt_number": 3
    },
    {
     "cell_type": "code",
     "collapsed": false,
     "input": [
      "#Example 1.3\n",
      "\n",
      "import json \n",
      "print json.dumps(world_trends, indent=1)\n",
      "print\n",
      "print json.dumps(stockholm_trends, indent=1)"
     ],
     "language": "python",
     "metadata": {},
     "outputs": [
      {
       "output_type": "stream",
       "stream": "stdout",
       "text": [
        "[\n",
        " {\n",
        "  \"created_at\": \"2014-09-06T22:11:34Z\", \n",
        "  \"trends\": [\n",
        "   {\n",
        "    \"url\": \"http://twitter.com/search?q=%23BenCUMHUR\", \n",
        "    \"query\": \"%23BenCUMHUR\", \n",
        "    \"name\": \"#BenCUMHUR\", \n",
        "    \"promoted_content\": null\n",
        "   }, \n",
        "   {\n",
        "    \"url\": \"http://twitter.com/search?q=%23ExplainAFilmPlotBadly\", \n",
        "    \"query\": \"%23ExplainAFilmPlotBadly\", \n",
        "    \"name\": \"#ExplainAFilmPlotBadly\", \n",
        "    \"promoted_content\": null\n",
        "   }, \n",
        "   {\n",
        "    \"url\": \"http://twitter.com/search?q=%23KazaDe%C4%9FilCinayet\", \n",
        "    \"query\": \"%23KazaDe%C4%9FilCinayet\", \n",
        "    \"name\": \"#KazaDe\\u011filCinayet\", \n",
        "    \"promoted_content\": null\n",
        "   }, \n",
        "   {\n",
        "    \"url\": \"http://twitter.com/search?q=%22Romina+Yan%22\", \n",
        "    \"query\": \"%22Romina+Yan%22\", \n",
        "    \"name\": \"Romina Yan\", \n",
        "    \"promoted_content\": null\n",
        "   }, \n",
        "   {\n",
        "    \"url\": \"http://twitter.com/search?q=%23RIPNannyS\", \n",
        "    \"query\": \"%23RIPNannyS\", \n",
        "    \"name\": \"#RIPNannyS\", \n",
        "    \"promoted_content\": null\n",
        "   }, \n",
        "   {\n",
        "    \"url\": \"http://twitter.com/search?q=%22Every+Canadian%22\", \n",
        "    \"query\": \"%22Every+Canadian%22\", \n",
        "    \"name\": \"Every Canadian\", \n",
        "    \"promoted_content\": null\n",
        "   }, \n",
        "   {\n",
        "    \"url\": \"http://twitter.com/search?q=Cilic\", \n",
        "    \"query\": \"Cilic\", \n",
        "    \"name\": \"Cilic\", \n",
        "    \"promoted_content\": null\n",
        "   }, \n",
        "   {\n",
        "    \"url\": \"http://twitter.com/search?q=%23StayStrongHarry\", \n",
        "    \"query\": \"%23StayStrongHarry\", \n",
        "    \"name\": \"#StayStrongHarry\", \n",
        "    \"promoted_content\": null\n",
        "   }, \n",
        "   {\n",
        "    \"url\": \"http://twitter.com/search?q=Frampton\", \n",
        "    \"query\": \"Frampton\", \n",
        "    \"name\": \"Frampton\", \n",
        "    \"promoted_content\": null\n",
        "   }, \n",
        "   {\n",
        "    \"url\": \"http://twitter.com/search?q=Federer\", \n",
        "    \"query\": \"Federer\", \n",
        "    \"name\": \"Federer\", \n",
        "    \"promoted_content\": null\n",
        "   }\n",
        "  ], \n",
        "  \"as_of\": \"2014-09-06T22:12:23Z\", \n",
        "  \"locations\": [\n",
        "   {\n",
        "    \"woeid\": 1, \n",
        "    \"name\": \"Worldwide\"\n",
        "   }\n",
        "  ]\n",
        " }\n",
        "]\n",
        "\n",
        "[\n",
        " {\n",
        "  \"created_at\": \"2014-09-06T22:06:23Z\", \n",
        "  \"trends\": [\n",
        "   {\n",
        "    \"url\": \"http://twitter.com/search?q=%23sthlmtechfest\", \n",
        "    \"query\": \"%23sthlmtechfest\", \n",
        "    \"name\": \"#sthlmtechfest\", \n",
        "    \"promoted_content\": null\n",
        "   }, \n",
        "   {\n",
        "    \"url\": \"http://twitter.com/search?q=%23svpol\", \n",
        "    \"query\": \"%23svpol\", \n",
        "    \"name\": \"#svpol\", \n",
        "    \"promoted_content\": null\n",
        "   }, \n",
        "   {\n",
        "    \"url\": \"http://twitter.com/search?q=%23val2014\", \n",
        "    \"query\": \"%23val2014\", \n",
        "    \"name\": \"#val2014\", \n",
        "    \"promoted_content\": null\n",
        "   }, \n",
        "   {\n",
        "    \"url\": \"http://twitter.com/search?q=%22Roy+Andersson%22\", \n",
        "    \"query\": \"%22Roy+Andersson%22\", \n",
        "    \"name\": \"Roy Andersson\", \n",
        "    \"promoted_content\": null\n",
        "   }, \n",
        "   {\n",
        "    \"url\": \"http://twitter.com/search?q=%23barpol\", \n",
        "    \"query\": \"%23barpol\", \n",
        "    \"name\": \"#barpol\", \n",
        "    \"promoted_content\": null\n",
        "   }, \n",
        "   {\n",
        "    \"url\": \"http://twitter.com/search?q=%23FoooStreet\", \n",
        "    \"query\": \"%23FoooStreet\", \n",
        "    \"name\": \"#FoooStreet\", \n",
        "    \"promoted_content\": null\n",
        "   }, \n",
        "   {\n",
        "    \"url\": \"http://twitter.com/search?q=%22Annie+L%C3%B6%C3%B6f%22\", \n",
        "    \"query\": \"%22Annie+L%C3%B6%C3%B6f%22\", \n",
        "    \"name\": \"Annie L\\u00f6\\u00f6f\", \n",
        "    \"promoted_content\": null\n",
        "   }, \n",
        "   {\n",
        "    \"url\": \"http://twitter.com/search?q=Zlatan\", \n",
        "    \"query\": \"Zlatan\", \n",
        "    \"name\": \"Zlatan\", \n",
        "    \"promoted_content\": null\n",
        "   }, \n",
        "   {\n",
        "    \"url\": \"http://twitter.com/search?q=Reinfeldt\", \n",
        "    \"query\": \"Reinfeldt\", \n",
        "    \"name\": \"Reinfeldt\", \n",
        "    \"promoted_content\": null\n",
        "   }, \n",
        "   {\n",
        "    \"url\": \"http://twitter.com/search?q=Uppsala\", \n",
        "    \"query\": \"Uppsala\", \n",
        "    \"name\": \"Uppsala\", \n",
        "    \"promoted_content\": null\n",
        "   }\n",
        "  ], \n",
        "  \"as_of\": \"2014-09-06T22:12:24Z\", \n",
        "  \"locations\": [\n",
        "   {\n",
        "    \"woeid\": 906057, \n",
        "    \"name\": \"Stockholm\"\n",
        "   }\n",
        "  ]\n",
        " }\n",
        "]\n"
       ]
      }
     ],
     "prompt_number": 4
    },
    {
     "cell_type": "code",
     "collapsed": false,
     "input": [
      "#Example 1.4\n",
      "\n",
      "world_trends_set = set([trend['name'] for trend in world_trends[0]['trends']])\n",
      "stockholm_trends_set = set([trend['name'] for trend in stockholm_trends[0]['trends']])\n",
      "\n",
      "common_trends = world_trends_set.intersection(stockholm_trends_set)\n",
      "\n",
      "print common_trends\n",
      "print 'Todays Stockholm trends:\\n-------------------------'\n",
      "for trends in stockholm_trends_set:\n",
      "    print trends\n",
      "#print stockholm_trends_set                                                        "
     ],
     "language": "python",
     "metadata": {},
     "outputs": [
      {
       "output_type": "stream",
       "stream": "stdout",
       "text": [
        "set([])\n",
        "Todays Stockholm trends:\n",
        "-------------------------\n",
        "Roy Andersson\n",
        "Uppsala\n",
        "Zlatan\n",
        "Annie L\u00f6\u00f6f\n",
        "#FoooStreet\n",
        "#sthlmtechfest\n",
        "Reinfeldt\n",
        "#barpol\n",
        "#val2014\n",
        "#svpol\n"
       ]
      }
     ],
     "prompt_number": 12
    },
    {
     "cell_type": "code",
     "collapsed": false,
     "input": [],
     "language": "python",
     "metadata": {},
     "outputs": []
    }
   ],
   "metadata": {}
  }
 ]
}